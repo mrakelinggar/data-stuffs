{
 "cells": [
  {
   "cell_type": "markdown",
   "id": "3bd3b448",
   "metadata": {},
   "source": [
    "# Credit Card Anomaly Detection via Feature Creation\n",
    "\n",
    "\n",
    "---\n",
    "## Exective Summary\n",
    "\n",
    "\n",
    "This project analyzes 442,458 purchase card transactions from state and higher-education institutions, spanning July 2013 – June 2014, to detect anomalies and strengthen internal controls.\n",
    "\n",
    "It is crucial because government purchase cards accounted for over **\\$17 billion** in micropurchases in 2005–06—representing **57 percent** of total spend([gao.gov][1])—yet **41 percent** of transactions lacked proper authorization or documentation, exposing agencies to fraud and waste([gao.gov][1], [gao.gov][2]). Early detection of unusual patterns can save millions and ensure compliance with federal guidelines.\n",
    "\n",
    "We explored multiple methods:\n",
    "\n",
    "* **Descriptive analytics** (monthly spend, vendor and MCC breakdowns)\n",
    "* **Anomaly-focused features** (transaction velocity, refund ratios, ratio-to-vendor/MCC median, and many more)\n",
    "* **Percentile‐based binning and thresholding** for outlier detection\n",
    "\n",
    "Key results included identifying:\n",
    "\n",
    "* **0.8 percent** of vendors and **27 percent** of cardholders with anomalous daily transaction spikes\n",
    "* Rare long posting lags (> 129 days) tied mainly to refunds or corrections\n",
    "* Vendor‐MCC ratio outliers in the top 0.1 percent of transactions\n",
    "\n",
    "**Recommendations & Impact**\n",
    "\n",
    "* **Design and implement preventive controls** to reduce the risk of fraud and waste found in the analysis\n",
    "* **Implement automated monitoring** of velocity and refund-ratio flags to catch misuse in real time\n",
    "* **Enforce stricter documentation** and approval workflows, especially for one-off large transactions\n",
    "* **Regularly review posting lags** to distinguish genuine delays from back-dated entries\n",
    "\n",
    "\n",
    "By embedding these controls, agencies can reduce erroneous or fraudulent purchases, improve audit readiness, and safeguard public funds.\n",
    "\n",
    "---\n",
    "\n"
   ]
  },
  {
   "cell_type": "markdown",
   "id": "8a150f9d",
   "metadata": {},
   "source": [
    "## Load Packages"
   ]
  },
  {
   "cell_type": "code",
   "execution_count": null,
   "id": "46b9b0e8",
   "metadata": {},
   "outputs": [],
   "source": [
    "import pandas as pd\n",
    "import plotly.express as px\n",
    "import plotly.graph_objects as go\n",
    "import plotly.io as pio\n",
    "pio.renderers.default = \"plotly_mimetype+notebook\"\n",
    "import numpy as np\n"
   ]
  },
  {
   "cell_type": "markdown",
   "id": "024cf33a",
   "metadata": {},
   "source": [
    "## Set Configs"
   ]
  },
  {
   "cell_type": "code",
   "execution_count": 3,
   "id": "e75b5662",
   "metadata": {},
   "outputs": [],
   "source": [
    "# Suppress scientific notation globally for floats\n",
    "pd.options.display.float_format = '{:,.2f}'.format\n",
    "pd.options.display.max_columns = None\n",
    "\n",
    "data_dir = \"/Users/mrla/Documents/Projects/data/credit_card/\""
   ]
  },
  {
   "cell_type": "markdown",
   "id": "092036b2",
   "metadata": {},
   "source": [
    "## Load Data"
   ]
  },
  {
   "cell_type": "markdown",
   "id": "4142cc61",
   "metadata": {},
   "source": [
    "This dataset contains information on purchases made through the purchase card programs administered by the state and higher ed institutions. The purchase card information will be updated monthly after the end of the month. For example, July information will be added in August.\n",
    "\n",
    "This data can be obtained [here](https://data.ok.gov/dataset/purchase-card-pcard-fiscal-year-2014)"
   ]
  },
  {
   "cell_type": "code",
   "execution_count": 4,
   "id": "5be54fa3",
   "metadata": {},
   "outputs": [],
   "source": [
    "df = pd.read_csv(data_dir + \"purchase_credit_card.csv\")"
   ]
  },
  {
   "cell_type": "code",
   "execution_count": 5,
   "id": "9998876d",
   "metadata": {},
   "outputs": [
    {
     "name": "stdout",
     "output_type": "stream",
     "text": [
      "Shape of data: 442,458 rows, 11 columns\n",
      "Columns in data: ['Year-Month', 'Agency Number', 'Agency Name', 'Cardholder Last Name', 'Cardholder First Initial', 'Description', 'Amount', 'Vendor', 'Transaction Date', 'Posted Date', 'Merchant Category Code (MCC)']\n",
      "First 5 rows of data:\n",
      "   Year-Month  Agency Number                Agency Name Cardholder Last Name  \\\n",
      "0      201307           1000  OKLAHOMA STATE UNIVERSITY                Mason   \n",
      "1      201307           1000  OKLAHOMA STATE UNIVERSITY                Mason   \n",
      "2      201307           1000  OKLAHOMA STATE UNIVERSITY               Massey   \n",
      "3      201307           1000  OKLAHOMA STATE UNIVERSITY               Massey   \n",
      "4      201307           1000  OKLAHOMA STATE UNIVERSITY        Mauro-Herrera   \n",
      "\n",
      "  Cardholder First Initial                   Description  Amount  \\\n",
      "0                        C              GENERAL PURCHASE  890.00   \n",
      "1                        C                  ROOM CHARGES  368.96   \n",
      "2                        J              GENERAL PURCHASE  165.82   \n",
      "3                        T              GENERAL PURCHASE   96.39   \n",
      "4                        M  HAMMERMILL COPY PLUS COPY EA  125.96   \n",
      "\n",
      "           Vendor        Transaction Date             Posted Date  \\\n",
      "0           NACAS  07/30/2013 12:00:00 AM  07/31/2013 12:00:00 AM   \n",
      "1  SHERATON HOTEL  07/30/2013 12:00:00 AM  07/31/2013 12:00:00 AM   \n",
      "2  SEARS.COM 9300  07/29/2013 12:00:00 AM  07/31/2013 12:00:00 AM   \n",
      "3  WAL-MART #0137  07/30/2013 12:00:00 AM  07/31/2013 12:00:00 AM   \n",
      "4  STAPLES DIRECT  07/30/2013 12:00:00 AM  07/31/2013 12:00:00 AM   \n",
      "\n",
      "                        Merchant Category Code (MCC)  \n",
      "0        CHARITABLE AND SOCIAL SERVICE ORGANIZATIONS  \n",
      "1                                           SHERATON  \n",
      "2  DIRCT MARKETING/DIRCT MARKETERS--NOT ELSEWHERE...  \n",
      "3                    GROCERY STORES,AND SUPERMARKETS  \n",
      "4  STATIONERY, OFFICE SUPPLIES, PRINTING AND WRIT...  \n"
     ]
    }
   ],
   "source": [
    "print(f\"Shape of data: {df.shape[0]:,} rows, {df.shape[1]:,} columns\")\n",
    "print(f\"Columns in data: {df.columns.tolist()}\")\n",
    "print(f\"First 5 rows of data:\\n{df.head()}\")\n"
   ]
  },
  {
   "cell_type": "markdown",
   "id": "63a70b30",
   "metadata": {},
   "source": [
    "## Set Date Data Types\n",
    "\n",
    "We will convert all date columns to the `datetime` data type. This will allow us to perform time-based operations and analyses on the data.\n",
    "\n"
   ]
  },
  {
   "cell_type": "code",
   "execution_count": 6,
   "id": "125d04c4",
   "metadata": {},
   "outputs": [],
   "source": [
    "# Convert 'Year-Month' to datetime, setting day to 1\n",
    "df['Year-Month'] = pd.to_datetime(df['Year-Month'].astype(str), format='%Y%m').dt.to_period('M').dt.to_timestamp()\n",
    "\n",
    "# Convert 'Transaction Date' and 'Posted Date' to datetime\n",
    "df['Transaction Date'] = pd.to_datetime(df['Transaction Date'], format='%m/%d/%Y %I:%M:%S %p')\n",
    "df['Posted Date']      = pd.to_datetime(df['Posted Date'],      format='%m/%d/%Y %I:%M:%S %p')\n"
   ]
  },
  {
   "cell_type": "markdown",
   "id": "0b2e6f96",
   "metadata": {},
   "source": [
    "## Exploratory Data Analysis\n",
    "\n",
    "In this section, we will explore high level trends in the data. We will look at multiple key informations like the number of transactions, total amount spent, and average transaction amount by month, etc."
   ]
  },
  {
   "cell_type": "markdown",
   "id": "5794cd26",
   "metadata": {},
   "source": [
    "### Total Amount per Year Month"
   ]
  },
  {
   "cell_type": "code",
   "execution_count": 7,
   "id": "45176bd9",
   "metadata": {},
   "outputs": [
    {
     "data": {
      "text/html": [
       "<div>\n",
       "<style scoped>\n",
       "    .dataframe tbody tr th:only-of-type {\n",
       "        vertical-align: middle;\n",
       "    }\n",
       "\n",
       "    .dataframe tbody tr th {\n",
       "        vertical-align: top;\n",
       "    }\n",
       "\n",
       "    .dataframe thead th {\n",
       "        text-align: right;\n",
       "    }\n",
       "</style>\n",
       "<table border=\"1\" class=\"dataframe\">\n",
       "  <thead>\n",
       "    <tr style=\"text-align: right;\">\n",
       "      <th></th>\n",
       "      <th>2013-07</th>\n",
       "      <th>2013-08</th>\n",
       "      <th>2013-09</th>\n",
       "      <th>2013-10</th>\n",
       "      <th>2013-11</th>\n",
       "      <th>2013-12</th>\n",
       "      <th>2014-01</th>\n",
       "      <th>2014-02</th>\n",
       "      <th>2014-03</th>\n",
       "      <th>2014-04</th>\n",
       "      <th>2014-05</th>\n",
       "      <th>2014-06</th>\n",
       "    </tr>\n",
       "    <tr>\n",
       "      <th>level_1</th>\n",
       "      <th></th>\n",
       "      <th></th>\n",
       "      <th></th>\n",
       "      <th></th>\n",
       "      <th></th>\n",
       "      <th></th>\n",
       "      <th></th>\n",
       "      <th></th>\n",
       "      <th></th>\n",
       "      <th></th>\n",
       "      <th></th>\n",
       "      <th></th>\n",
       "    </tr>\n",
       "  </thead>\n",
       "  <tbody>\n",
       "    <tr>\n",
       "      <th>01.count</th>\n",
       "      <td>37,635.00</td>\n",
       "      <td>39,314.00</td>\n",
       "      <td>38,762.00</td>\n",
       "      <td>40,266.00</td>\n",
       "      <td>34,275.00</td>\n",
       "      <td>26,969.00</td>\n",
       "      <td>37,230.00</td>\n",
       "      <td>35,831.00</td>\n",
       "      <td>38,188.00</td>\n",
       "      <td>39,249.00</td>\n",
       "      <td>36,784.00</td>\n",
       "      <td>37,955.00</td>\n",
       "    </tr>\n",
       "    <tr>\n",
       "      <th>02.min</th>\n",
       "      <td>-38,506.87</td>\n",
       "      <td>-18,899.00</td>\n",
       "      <td>-33,075.32</td>\n",
       "      <td>-7,188.61</td>\n",
       "      <td>-7,860.22</td>\n",
       "      <td>-3,718.00</td>\n",
       "      <td>-27,864.00</td>\n",
       "      <td>-34,108.00</td>\n",
       "      <td>-42,863.04</td>\n",
       "      <td>-10,140.00</td>\n",
       "      <td>-4,889.36</td>\n",
       "      <td>-21,000.00</td>\n",
       "    </tr>\n",
       "    <tr>\n",
       "      <th>03.Q1</th>\n",
       "      <td>30.32</td>\n",
       "      <td>32.64</td>\n",
       "      <td>30.85</td>\n",
       "      <td>30.00</td>\n",
       "      <td>31.08</td>\n",
       "      <td>29.99</td>\n",
       "      <td>30.00</td>\n",
       "      <td>30.74</td>\n",
       "      <td>31.79</td>\n",
       "      <td>31.42</td>\n",
       "      <td>31.25</td>\n",
       "      <td>32.36</td>\n",
       "    </tr>\n",
       "    <tr>\n",
       "      <th>04.median</th>\n",
       "      <td>105.00</td>\n",
       "      <td>107.02</td>\n",
       "      <td>102.35</td>\n",
       "      <td>100.00</td>\n",
       "      <td>100.00</td>\n",
       "      <td>103.00</td>\n",
       "      <td>101.98</td>\n",
       "      <td>105.12</td>\n",
       "      <td>110.00</td>\n",
       "      <td>107.95</td>\n",
       "      <td>106.98</td>\n",
       "      <td>108.80</td>\n",
       "    </tr>\n",
       "    <tr>\n",
       "      <th>05.Q3</th>\n",
       "      <td>350.00</td>\n",
       "      <td>346.31</td>\n",
       "      <td>342.99</td>\n",
       "      <td>325.00</td>\n",
       "      <td>316.00</td>\n",
       "      <td>338.04</td>\n",
       "      <td>337.49</td>\n",
       "      <td>339.00</td>\n",
       "      <td>361.83</td>\n",
       "      <td>360.50</td>\n",
       "      <td>353.84</td>\n",
       "      <td>359.82</td>\n",
       "    </tr>\n",
       "    <tr>\n",
       "      <th>06.max</th>\n",
       "      <td>343,148.50</td>\n",
       "      <td>1,750,379.98</td>\n",
       "      <td>1,903,858.37</td>\n",
       "      <td>1,089,180.00</td>\n",
       "      <td>335,197.99</td>\n",
       "      <td>281,185.00</td>\n",
       "      <td>306,143.75</td>\n",
       "      <td>306,165.68</td>\n",
       "      <td>855,343.00</td>\n",
       "      <td>373,150.26</td>\n",
       "      <td>348,053.75</td>\n",
       "      <td>132,790.14</td>\n",
       "    </tr>\n",
       "    <tr>\n",
       "      <th>07.IQR</th>\n",
       "      <td>319.68</td>\n",
       "      <td>313.67</td>\n",
       "      <td>312.14</td>\n",
       "      <td>295.00</td>\n",
       "      <td>284.92</td>\n",
       "      <td>308.05</td>\n",
       "      <td>307.49</td>\n",
       "      <td>308.26</td>\n",
       "      <td>330.04</td>\n",
       "      <td>329.08</td>\n",
       "      <td>322.59</td>\n",
       "      <td>327.45</td>\n",
       "    </tr>\n",
       "    <tr>\n",
       "      <th>08.lower_bound</th>\n",
       "      <td>-449.19</td>\n",
       "      <td>-437.86</td>\n",
       "      <td>-437.35</td>\n",
       "      <td>-412.50</td>\n",
       "      <td>-396.30</td>\n",
       "      <td>-432.08</td>\n",
       "      <td>-431.24</td>\n",
       "      <td>-431.64</td>\n",
       "      <td>-463.27</td>\n",
       "      <td>-462.20</td>\n",
       "      <td>-452.64</td>\n",
       "      <td>-458.81</td>\n",
       "    </tr>\n",
       "    <tr>\n",
       "      <th>09.upper_bound</th>\n",
       "      <td>829.51</td>\n",
       "      <td>816.81</td>\n",
       "      <td>811.19</td>\n",
       "      <td>767.50</td>\n",
       "      <td>743.38</td>\n",
       "      <td>800.12</td>\n",
       "      <td>798.73</td>\n",
       "      <td>801.38</td>\n",
       "      <td>856.89</td>\n",
       "      <td>854.12</td>\n",
       "      <td>837.73</td>\n",
       "      <td>850.99</td>\n",
       "    </tr>\n",
       "    <tr>\n",
       "      <th>10.num_outliers</th>\n",
       "      <td>3,923.00</td>\n",
       "      <td>4,137.00</td>\n",
       "      <td>4,028.00</td>\n",
       "      <td>4,210.00</td>\n",
       "      <td>3,768.00</td>\n",
       "      <td>3,006.00</td>\n",
       "      <td>3,759.00</td>\n",
       "      <td>3,556.00</td>\n",
       "      <td>3,855.00</td>\n",
       "      <td>4,032.00</td>\n",
       "      <td>3,908.00</td>\n",
       "      <td>4,148.00</td>\n",
       "    </tr>\n",
       "  </tbody>\n",
       "</table>\n",
       "</div>"
      ],
      "text/plain": [
       "                   2013-07      2013-08      2013-09      2013-10    2013-11  \\\n",
       "level_1                                                                        \n",
       "01.count         37,635.00    39,314.00    38,762.00    40,266.00  34,275.00   \n",
       "02.min          -38,506.87   -18,899.00   -33,075.32    -7,188.61  -7,860.22   \n",
       "03.Q1                30.32        32.64        30.85        30.00      31.08   \n",
       "04.median           105.00       107.02       102.35       100.00     100.00   \n",
       "05.Q3               350.00       346.31       342.99       325.00     316.00   \n",
       "06.max          343,148.50 1,750,379.98 1,903,858.37 1,089,180.00 335,197.99   \n",
       "07.IQR              319.68       313.67       312.14       295.00     284.92   \n",
       "08.lower_bound     -449.19      -437.86      -437.35      -412.50    -396.30   \n",
       "09.upper_bound      829.51       816.81       811.19       767.50     743.38   \n",
       "10.num_outliers   3,923.00     4,137.00     4,028.00     4,210.00   3,768.00   \n",
       "\n",
       "                   2013-12    2014-01    2014-02    2014-03    2014-04  \\\n",
       "level_1                                                                  \n",
       "01.count         26,969.00  37,230.00  35,831.00  38,188.00  39,249.00   \n",
       "02.min           -3,718.00 -27,864.00 -34,108.00 -42,863.04 -10,140.00   \n",
       "03.Q1                29.99      30.00      30.74      31.79      31.42   \n",
       "04.median           103.00     101.98     105.12     110.00     107.95   \n",
       "05.Q3               338.04     337.49     339.00     361.83     360.50   \n",
       "06.max          281,185.00 306,143.75 306,165.68 855,343.00 373,150.26   \n",
       "07.IQR              308.05     307.49     308.26     330.04     329.08   \n",
       "08.lower_bound     -432.08    -431.24    -431.64    -463.27    -462.20   \n",
       "09.upper_bound      800.12     798.73     801.38     856.89     854.12   \n",
       "10.num_outliers   3,006.00   3,759.00   3,556.00   3,855.00   4,032.00   \n",
       "\n",
       "                   2014-05    2014-06  \n",
       "level_1                                \n",
       "01.count         36,784.00  37,955.00  \n",
       "02.min           -4,889.36 -21,000.00  \n",
       "03.Q1                31.25      32.36  \n",
       "04.median           106.98     108.80  \n",
       "05.Q3               353.84     359.82  \n",
       "06.max          348,053.75 132,790.14  \n",
       "07.IQR              322.59     327.45  \n",
       "08.lower_bound     -452.64    -458.81  \n",
       "09.upper_bound      837.73     850.99  \n",
       "10.num_outliers   3,908.00   4,148.00  "
      ]
     },
     "metadata": {},
     "output_type": "display_data"
    }
   ],
   "source": [
    "# Function to compute boxplot statistics\n",
    "def boxplot_stats(group):\n",
    "    q1 = group.quantile(0.25)\n",
    "    q3 = group.quantile(0.75)\n",
    "    iqr = q3 - q1\n",
    "    lower = q1 - 1.5 * iqr\n",
    "    upper = q3 + 1.5 * iqr\n",
    "    outliers = ((group < lower) | (group > upper)).sum()\n",
    "    return pd.Series({\n",
    "        '01.count': group.count(),\n",
    "        '02.min': group.min(),\n",
    "        '03.Q1': q1,\n",
    "        '04.median': group.median(),\n",
    "        '05.Q3': q3,\n",
    "        '06.max': group.max(),\n",
    "        '07.IQR': iqr,\n",
    "        '08.lower_bound': lower,\n",
    "        '09.upper_bound': upper,\n",
    "        '10.num_outliers': outliers\n",
    "    })\n",
    "\n",
    "# Step 2: Apply and reformat\n",
    "summary_df = df.groupby('Year-Month')['Amount'].apply(boxplot_stats).reset_index()\n",
    "summary_pivot = summary_df.pivot(index='level_1', columns='Year-Month', values='Amount')\n",
    "\n",
    "# Optional: format column headers to YYYY-MM\n",
    "summary_pivot.columns = [col.strftime('%Y-%m') for col in summary_pivot.columns]\n",
    "\n",
    "# Optional: round for readability\n",
    "summary_pivot = summary_pivot.round(2)\n",
    "\n",
    "# Final result\n",
    "display(summary_pivot)"
   ]
  },
  {
   "cell_type": "code",
   "execution_count": 8,
   "id": "4bd32590",
   "metadata": {},
   "outputs": [
    {
     "data": {
      "application/vnd.plotly.v1+json": {
       "config": {
        "plotlyServerURL": "https://plot.ly"
       },
       "data": [
        {
         "marker": {
          "color": "steelblue"
         },
         "name": "Total Amount ($)",
         "type": "bar",
         "x": [
          "2013-07-01T00:00:00.000000000",
          "2013-08-01T00:00:00.000000000",
          "2013-09-01T00:00:00.000000000",
          "2013-10-01T00:00:00.000000000",
          "2013-11-01T00:00:00.000000000",
          "2013-12-01T00:00:00.000000000",
          "2014-01-01T00:00:00.000000000",
          "2014-02-01T00:00:00.000000000",
          "2014-03-01T00:00:00.000000000",
          "2014-04-01T00:00:00.000000000",
          "2014-05-01T00:00:00.000000000",
          "2014-06-01T00:00:00.000000000"
         ],
         "y": {
          "bdata": "AAAA8A0XbkGamZmpjQ9xQVK4HpVCs3BB61G46vq7cEFmZmbGgt9oQY/C9ZhMbWZBpHA9AqU3bEGPwvX42pZqQR+F6zWpyHBBuB6FW07Vb0EfhespDndsQdejcFUim29B",
          "dtype": "f8"
         },
         "yaxis": "y"
        },
        {
         "line": {
          "color": "darkorange"
         },
         "mode": "lines+markers",
         "name": "Transaction Count",
         "type": "scatter",
         "x": [
          "2013-07-01T00:00:00.000000000",
          "2013-08-01T00:00:00.000000000",
          "2013-09-01T00:00:00.000000000",
          "2013-10-01T00:00:00.000000000",
          "2013-11-01T00:00:00.000000000",
          "2013-12-01T00:00:00.000000000",
          "2014-01-01T00:00:00.000000000",
          "2014-02-01T00:00:00.000000000",
          "2014-03-01T00:00:00.000000000",
          "2014-04-01T00:00:00.000000000",
          "2014-05-01T00:00:00.000000000",
          "2014-06-01T00:00:00.000000000"
         ],
         "y": {
          "bdata": "A5MAAJKZAABqlwAASp0AAOOFAABZaQAAbpEAAPeLAAAslQAAUZkAALCPAABDlAAA",
          "dtype": "i4"
         },
         "yaxis": "y2"
        }
       ],
       "layout": {
        "legend": {
         "x": 0.01,
         "y": 0.99
        },
        "template": {
         "data": {
          "bar": [
           {
            "error_x": {
             "color": "#2a3f5f"
            },
            "error_y": {
             "color": "#2a3f5f"
            },
            "marker": {
             "line": {
              "color": "white",
              "width": 0.5
             },
             "pattern": {
              "fillmode": "overlay",
              "size": 10,
              "solidity": 0.2
             }
            },
            "type": "bar"
           }
          ],
          "barpolar": [
           {
            "marker": {
             "line": {
              "color": "white",
              "width": 0.5
             },
             "pattern": {
              "fillmode": "overlay",
              "size": 10,
              "solidity": 0.2
             }
            },
            "type": "barpolar"
           }
          ],
          "carpet": [
           {
            "aaxis": {
             "endlinecolor": "#2a3f5f",
             "gridcolor": "#C8D4E3",
             "linecolor": "#C8D4E3",
             "minorgridcolor": "#C8D4E3",
             "startlinecolor": "#2a3f5f"
            },
            "baxis": {
             "endlinecolor": "#2a3f5f",
             "gridcolor": "#C8D4E3",
             "linecolor": "#C8D4E3",
             "minorgridcolor": "#C8D4E3",
             "startlinecolor": "#2a3f5f"
            },
            "type": "carpet"
           }
          ],
          "choropleth": [
           {
            "colorbar": {
             "outlinewidth": 0,
             "ticks": ""
            },
            "type": "choropleth"
           }
          ],
          "contour": [
           {
            "colorbar": {
             "outlinewidth": 0,
             "ticks": ""
            },
            "colorscale": [
             [
              0,
              "#0d0887"
             ],
             [
              0.1111111111111111,
              "#46039f"
             ],
             [
              0.2222222222222222,
              "#7201a8"
             ],
             [
              0.3333333333333333,
              "#9c179e"
             ],
             [
              0.4444444444444444,
              "#bd3786"
             ],
             [
              0.5555555555555556,
              "#d8576b"
             ],
             [
              0.6666666666666666,
              "#ed7953"
             ],
             [
              0.7777777777777778,
              "#fb9f3a"
             ],
             [
              0.8888888888888888,
              "#fdca26"
             ],
             [
              1,
              "#f0f921"
             ]
            ],
            "type": "contour"
           }
          ],
          "contourcarpet": [
           {
            "colorbar": {
             "outlinewidth": 0,
             "ticks": ""
            },
            "type": "contourcarpet"
           }
          ],
          "heatmap": [
           {
            "colorbar": {
             "outlinewidth": 0,
             "ticks": ""
            },
            "colorscale": [
             [
              0,
              "#0d0887"
             ],
             [
              0.1111111111111111,
              "#46039f"
             ],
             [
              0.2222222222222222,
              "#7201a8"
             ],
             [
              0.3333333333333333,
              "#9c179e"
             ],
             [
              0.4444444444444444,
              "#bd3786"
             ],
             [
              0.5555555555555556,
              "#d8576b"
             ],
             [
              0.6666666666666666,
              "#ed7953"
             ],
             [
              0.7777777777777778,
              "#fb9f3a"
             ],
             [
              0.8888888888888888,
              "#fdca26"
             ],
             [
              1,
              "#f0f921"
             ]
            ],
            "type": "heatmap"
           }
          ],
          "histogram": [
           {
            "marker": {
             "pattern": {
              "fillmode": "overlay",
              "size": 10,
              "solidity": 0.2
             }
            },
            "type": "histogram"
           }
          ],
          "histogram2d": [
           {
            "colorbar": {
             "outlinewidth": 0,
             "ticks": ""
            },
            "colorscale": [
             [
              0,
              "#0d0887"
             ],
             [
              0.1111111111111111,
              "#46039f"
             ],
             [
              0.2222222222222222,
              "#7201a8"
             ],
             [
              0.3333333333333333,
              "#9c179e"
             ],
             [
              0.4444444444444444,
              "#bd3786"
             ],
             [
              0.5555555555555556,
              "#d8576b"
             ],
             [
              0.6666666666666666,
              "#ed7953"
             ],
             [
              0.7777777777777778,
              "#fb9f3a"
             ],
             [
              0.8888888888888888,
              "#fdca26"
             ],
             [
              1,
              "#f0f921"
             ]
            ],
            "type": "histogram2d"
           }
          ],
          "histogram2dcontour": [
           {
            "colorbar": {
             "outlinewidth": 0,
             "ticks": ""
            },
            "colorscale": [
             [
              0,
              "#0d0887"
             ],
             [
              0.1111111111111111,
              "#46039f"
             ],
             [
              0.2222222222222222,
              "#7201a8"
             ],
             [
              0.3333333333333333,
              "#9c179e"
             ],
             [
              0.4444444444444444,
              "#bd3786"
             ],
             [
              0.5555555555555556,
              "#d8576b"
             ],
             [
              0.6666666666666666,
              "#ed7953"
             ],
             [
              0.7777777777777778,
              "#fb9f3a"
             ],
             [
              0.8888888888888888,
              "#fdca26"
             ],
             [
              1,
              "#f0f921"
             ]
            ],
            "type": "histogram2dcontour"
           }
          ],
          "mesh3d": [
           {
            "colorbar": {
             "outlinewidth": 0,
             "ticks": ""
            },
            "type": "mesh3d"
           }
          ],
          "parcoords": [
           {
            "line": {
             "colorbar": {
              "outlinewidth": 0,
              "ticks": ""
             }
            },
            "type": "parcoords"
           }
          ],
          "pie": [
           {
            "automargin": true,
            "type": "pie"
           }
          ],
          "scatter": [
           {
            "fillpattern": {
             "fillmode": "overlay",
             "size": 10,
             "solidity": 0.2
            },
            "type": "scatter"
           }
          ],
          "scatter3d": [
           {
            "line": {
             "colorbar": {
              "outlinewidth": 0,
              "ticks": ""
             }
            },
            "marker": {
             "colorbar": {
              "outlinewidth": 0,
              "ticks": ""
             }
            },
            "type": "scatter3d"
           }
          ],
          "scattercarpet": [
           {
            "marker": {
             "colorbar": {
              "outlinewidth": 0,
              "ticks": ""
             }
            },
            "type": "scattercarpet"
           }
          ],
          "scattergeo": [
           {
            "marker": {
             "colorbar": {
              "outlinewidth": 0,
              "ticks": ""
             }
            },
            "type": "scattergeo"
           }
          ],
          "scattergl": [
           {
            "marker": {
             "colorbar": {
              "outlinewidth": 0,
              "ticks": ""
             }
            },
            "type": "scattergl"
           }
          ],
          "scattermap": [
           {
            "marker": {
             "colorbar": {
              "outlinewidth": 0,
              "ticks": ""
             }
            },
            "type": "scattermap"
           }
          ],
          "scattermapbox": [
           {
            "marker": {
             "colorbar": {
              "outlinewidth": 0,
              "ticks": ""
             }
            },
            "type": "scattermapbox"
           }
          ],
          "scatterpolar": [
           {
            "marker": {
             "colorbar": {
              "outlinewidth": 0,
              "ticks": ""
             }
            },
            "type": "scatterpolar"
           }
          ],
          "scatterpolargl": [
           {
            "marker": {
             "colorbar": {
              "outlinewidth": 0,
              "ticks": ""
             }
            },
            "type": "scatterpolargl"
           }
          ],
          "scatterternary": [
           {
            "marker": {
             "colorbar": {
              "outlinewidth": 0,
              "ticks": ""
             }
            },
            "type": "scatterternary"
           }
          ],
          "surface": [
           {
            "colorbar": {
             "outlinewidth": 0,
             "ticks": ""
            },
            "colorscale": [
             [
              0,
              "#0d0887"
             ],
             [
              0.1111111111111111,
              "#46039f"
             ],
             [
              0.2222222222222222,
              "#7201a8"
             ],
             [
              0.3333333333333333,
              "#9c179e"
             ],
             [
              0.4444444444444444,
              "#bd3786"
             ],
             [
              0.5555555555555556,
              "#d8576b"
             ],
             [
              0.6666666666666666,
              "#ed7953"
             ],
             [
              0.7777777777777778,
              "#fb9f3a"
             ],
             [
              0.8888888888888888,
              "#fdca26"
             ],
             [
              1,
              "#f0f921"
             ]
            ],
            "type": "surface"
           }
          ],
          "table": [
           {
            "cells": {
             "fill": {
              "color": "#EBF0F8"
             },
             "line": {
              "color": "white"
             }
            },
            "header": {
             "fill": {
              "color": "#C8D4E3"
             },
             "line": {
              "color": "white"
             }
            },
            "type": "table"
           }
          ]
         },
         "layout": {
          "annotationdefaults": {
           "arrowcolor": "#2a3f5f",
           "arrowhead": 0,
           "arrowwidth": 1
          },
          "autotypenumbers": "strict",
          "coloraxis": {
           "colorbar": {
            "outlinewidth": 0,
            "ticks": ""
           }
          },
          "colorscale": {
           "diverging": [
            [
             0,
             "#8e0152"
            ],
            [
             0.1,
             "#c51b7d"
            ],
            [
             0.2,
             "#de77ae"
            ],
            [
             0.3,
             "#f1b6da"
            ],
            [
             0.4,
             "#fde0ef"
            ],
            [
             0.5,
             "#f7f7f7"
            ],
            [
             0.6,
             "#e6f5d0"
            ],
            [
             0.7,
             "#b8e186"
            ],
            [
             0.8,
             "#7fbc41"
            ],
            [
             0.9,
             "#4d9221"
            ],
            [
             1,
             "#276419"
            ]
           ],
           "sequential": [
            [
             0,
             "#0d0887"
            ],
            [
             0.1111111111111111,
             "#46039f"
            ],
            [
             0.2222222222222222,
             "#7201a8"
            ],
            [
             0.3333333333333333,
             "#9c179e"
            ],
            [
             0.4444444444444444,
             "#bd3786"
            ],
            [
             0.5555555555555556,
             "#d8576b"
            ],
            [
             0.6666666666666666,
             "#ed7953"
            ],
            [
             0.7777777777777778,
             "#fb9f3a"
            ],
            [
             0.8888888888888888,
             "#fdca26"
            ],
            [
             1,
             "#f0f921"
            ]
           ],
           "sequentialminus": [
            [
             0,
             "#0d0887"
            ],
            [
             0.1111111111111111,
             "#46039f"
            ],
            [
             0.2222222222222222,
             "#7201a8"
            ],
            [
             0.3333333333333333,
             "#9c179e"
            ],
            [
             0.4444444444444444,
             "#bd3786"
            ],
            [
             0.5555555555555556,
             "#d8576b"
            ],
            [
             0.6666666666666666,
             "#ed7953"
            ],
            [
             0.7777777777777778,
             "#fb9f3a"
            ],
            [
             0.8888888888888888,
             "#fdca26"
            ],
            [
             1,
             "#f0f921"
            ]
           ]
          },
          "colorway": [
           "#636efa",
           "#EF553B",
           "#00cc96",
           "#ab63fa",
           "#FFA15A",
           "#19d3f3",
           "#FF6692",
           "#B6E880",
           "#FF97FF",
           "#FECB52"
          ],
          "font": {
           "color": "#2a3f5f"
          },
          "geo": {
           "bgcolor": "white",
           "lakecolor": "white",
           "landcolor": "white",
           "showlakes": true,
           "showland": true,
           "subunitcolor": "#C8D4E3"
          },
          "hoverlabel": {
           "align": "left"
          },
          "hovermode": "closest",
          "mapbox": {
           "style": "light"
          },
          "paper_bgcolor": "white",
          "plot_bgcolor": "white",
          "polar": {
           "angularaxis": {
            "gridcolor": "#EBF0F8",
            "linecolor": "#EBF0F8",
            "ticks": ""
           },
           "bgcolor": "white",
           "radialaxis": {
            "gridcolor": "#EBF0F8",
            "linecolor": "#EBF0F8",
            "ticks": ""
           }
          },
          "scene": {
           "xaxis": {
            "backgroundcolor": "white",
            "gridcolor": "#DFE8F3",
            "gridwidth": 2,
            "linecolor": "#EBF0F8",
            "showbackground": true,
            "ticks": "",
            "zerolinecolor": "#EBF0F8"
           },
           "yaxis": {
            "backgroundcolor": "white",
            "gridcolor": "#DFE8F3",
            "gridwidth": 2,
            "linecolor": "#EBF0F8",
            "showbackground": true,
            "ticks": "",
            "zerolinecolor": "#EBF0F8"
           },
           "zaxis": {
            "backgroundcolor": "white",
            "gridcolor": "#DFE8F3",
            "gridwidth": 2,
            "linecolor": "#EBF0F8",
            "showbackground": true,
            "ticks": "",
            "zerolinecolor": "#EBF0F8"
           }
          },
          "shapedefaults": {
           "line": {
            "color": "#2a3f5f"
           }
          },
          "ternary": {
           "aaxis": {
            "gridcolor": "#DFE8F3",
            "linecolor": "#A2B1C6",
            "ticks": ""
           },
           "baxis": {
            "gridcolor": "#DFE8F3",
            "linecolor": "#A2B1C6",
            "ticks": ""
           },
           "bgcolor": "white",
           "caxis": {
            "gridcolor": "#DFE8F3",
            "linecolor": "#A2B1C6",
            "ticks": ""
           }
          },
          "title": {
           "x": 0.05
          },
          "xaxis": {
           "automargin": true,
           "gridcolor": "#EBF0F8",
           "linecolor": "#EBF0F8",
           "ticks": "",
           "title": {
            "standoff": 15
           },
           "zerolinecolor": "#EBF0F8",
           "zerolinewidth": 2
          },
          "yaxis": {
           "automargin": true,
           "gridcolor": "#EBF0F8",
           "linecolor": "#EBF0F8",
           "ticks": "",
           "title": {
            "standoff": 15
           },
           "zerolinecolor": "#EBF0F8",
           "zerolinewidth": 2
          }
         }
        },
        "title": {
         "text": "Monthly Total Amount and Transaction Count"
        },
        "xaxis": {
         "title": {
          "text": "Month"
         }
        },
        "yaxis": {
         "side": "left",
         "title": {
          "text": "Total Amount ($)"
         }
        },
        "yaxis2": {
         "overlaying": "y",
         "range": [
          0,
          44292.600000000006
         ],
         "showgrid": false,
         "side": "right",
         "title": {
          "text": "Transaction Count"
         }
        }
       }
      }
     },
     "metadata": {},
     "output_type": "display_data"
    }
   ],
   "source": [
    "# Aggregate monthly data\n",
    "monthly_summary = df.groupby('Year-Month').agg(\n",
    "    total_amount=('Amount', 'sum'),\n",
    "    transaction_count=('Amount', 'count')\n",
    ").reset_index()\n",
    "\n",
    "# Create the dual-axis chart\n",
    "fig = go.Figure()\n",
    "\n",
    "# Line for total amount\n",
    "fig.add_trace(go.Bar(\n",
    "    x=monthly_summary['Year-Month'],\n",
    "    y=monthly_summary['total_amount'],\n",
    "    name='Total Amount ($)',\n",
    "    yaxis='y1',\n",
    "    marker_color='steelblue'\n",
    "))\n",
    "\n",
    "# Line for transaction count\n",
    "fig.add_trace(go.Scatter(\n",
    "    x=monthly_summary['Year-Month'],\n",
    "    y=monthly_summary['transaction_count'],\n",
    "    name='Transaction Count',\n",
    "    yaxis='y2',\n",
    "    mode='lines+markers',\n",
    "    line=dict(color='darkorange')\n",
    "))\n",
    "\n",
    "# Layout with two y-axes\n",
    "fig.update_layout(\n",
    "    title='Monthly Total Amount and Transaction Count',\n",
    "    xaxis=dict(title='Month'),\n",
    "    yaxis=dict(title='Total Amount ($)', side='left'),\n",
    "    yaxis2=dict(\n",
    "        title='Transaction Count',\n",
    "        overlaying='y',\n",
    "        side='right',\n",
    "        showgrid=False,\n",
    "        range=[0, monthly_summary['transaction_count'].max() * 1.1]\n",
    "    ),\n",
    "    legend=dict(x=0.01, y=0.99),\n",
    "    template='plotly_white'\n",
    ")\n",
    "\n",
    "fig.show()"
   ]
  },
  {
   "cell_type": "markdown",
   "id": "b5b32662",
   "metadata": {},
   "source": [
    "* Nov and Dec are the months with the lowest transaction amounts and volumes.\n",
    "* March, September, and Oct are the months with the highest transaction amounts and volumes."
   ]
  },
  {
   "cell_type": "markdown",
   "id": "a6e6edb1",
   "metadata": {},
   "source": [
    "### Amount per Agency"
   ]
  },
  {
   "cell_type": "code",
   "execution_count": 9,
   "id": "99e430ce",
   "metadata": {},
   "outputs": [
    {
     "data": {
      "application/vnd.plotly.v1+json": {
       "config": {
        "plotlyServerURL": "https://plot.ly"
       },
       "data": [
        {
         "hovertemplate": "Total Amount (USD)=%{x}<br>Agency=%{y}<extra></extra>",
         "legendgroup": "",
         "marker": {
          "color": "#636efa",
          "pattern": {
           "shape": ""
          }
         },
         "name": "",
         "orientation": "h",
         "showlegend": false,
         "textposition": "auto",
         "type": "bar",
         "x": {
          "bdata": "KVyPApAGMkEpXI8CVxQ1QQAAAAC9uDVBpHA9SgEHN0EzMzOzeNc3QRSuRyEPODhBmpmZGa5FO0HNzMxM7C4+QY/C9UgwCkJBuB6Fi0JyRUHD9SicQTVMQfYoXI9ojk1BmpmZKawuUEEpXI9S68dWQc3MzPyArmpBj8L1wON2a0HD9ShUTC91QeF6FNIdZHdBpHA97sa7d0G4HoW/ZBuAQQ==",
          "dtype": "f8"
         },
         "xaxis": "x",
         "y": [
          "4000 – DEPARTMENT OF AGRICULTURE",
          "32000 – DEPARTMENT OF WILDLIFE CONSERVATION",
          "66500 – S. W. OKLA. ST. UNIV.",
          "80000 – OKLA. CAREER AND TECHNOLOGY EDUCATION",
          "75000 – TULSA COMMUNITY COLLEGE",
          "35000 – HISTORICAL SOCIETY",
          "45200 – MENTAL HEALTH AND SUBSTANCE ABUSE SERV.",
          "58500 – DEPARTMENT OF PUBLIC SAFETY",
          "34000 – STATE DEPARTMENT OF HEALTH",
          "80500 – DEPARTMENT OF REHABILITATION SERVICES",
          "2500 – OKLAHOMA MILITARY DEPARTMENT",
          "9000 – OFFICE OF MANAGEMENT AND ENTERPRISE SERV",
          "65000 – DEPARTMENT OF VETERANS AFFAIRS",
          "56600 – DEPARTMENT OF TOURISM AND RECREATION",
          "13100 – DEPARTMENT OF CORRECTIONS",
          "34500 – DEPARTMENT OF TRANSPORTATION",
          "98000 – GRAND RIVER DAM AUTH.",
          "77000 – UNIV. OF OKLA. HEALTH SCIENCES CENTER",
          "76000 – UNIVERSITY OF OKLAHOMA",
          "1000 – OKLAHOMA STATE UNIVERSITY"
         ],
         "yaxis": "y"
        }
       ],
       "layout": {
        "barmode": "relative",
        "height": 600,
        "legend": {
         "tracegroupgap": 0
        },
        "margin": {
         "b": 60,
         "l": 40,
         "r": 40,
         "t": 60
        },
        "template": {
         "data": {
          "bar": [
           {
            "error_x": {
             "color": "#2a3f5f"
            },
            "error_y": {
             "color": "#2a3f5f"
            },
            "marker": {
             "line": {
              "color": "#E5ECF6",
              "width": 0.5
             },
             "pattern": {
              "fillmode": "overlay",
              "size": 10,
              "solidity": 0.2
             }
            },
            "type": "bar"
           }
          ],
          "barpolar": [
           {
            "marker": {
             "line": {
              "color": "#E5ECF6",
              "width": 0.5
             },
             "pattern": {
              "fillmode": "overlay",
              "size": 10,
              "solidity": 0.2
             }
            },
            "type": "barpolar"
           }
          ],
          "carpet": [
           {
            "aaxis": {
             "endlinecolor": "#2a3f5f",
             "gridcolor": "white",
             "linecolor": "white",
             "minorgridcolor": "white",
             "startlinecolor": "#2a3f5f"
            },
            "baxis": {
             "endlinecolor": "#2a3f5f",
             "gridcolor": "white",
             "linecolor": "white",
             "minorgridcolor": "white",
             "startlinecolor": "#2a3f5f"
            },
            "type": "carpet"
           }
          ],
          "choropleth": [
           {
            "colorbar": {
             "outlinewidth": 0,
             "ticks": ""
            },
            "type": "choropleth"
           }
          ],
          "contour": [
           {
            "colorbar": {
             "outlinewidth": 0,
             "ticks": ""
            },
            "colorscale": [
             [
              0,
              "#0d0887"
             ],
             [
              0.1111111111111111,
              "#46039f"
             ],
             [
              0.2222222222222222,
              "#7201a8"
             ],
             [
              0.3333333333333333,
              "#9c179e"
             ],
             [
              0.4444444444444444,
              "#bd3786"
             ],
             [
              0.5555555555555556,
              "#d8576b"
             ],
             [
              0.6666666666666666,
              "#ed7953"
             ],
             [
              0.7777777777777778,
              "#fb9f3a"
             ],
             [
              0.8888888888888888,
              "#fdca26"
             ],
             [
              1,
              "#f0f921"
             ]
            ],
            "type": "contour"
           }
          ],
          "contourcarpet": [
           {
            "colorbar": {
             "outlinewidth": 0,
             "ticks": ""
            },
            "type": "contourcarpet"
           }
          ],
          "heatmap": [
           {
            "colorbar": {
             "outlinewidth": 0,
             "ticks": ""
            },
            "colorscale": [
             [
              0,
              "#0d0887"
             ],
             [
              0.1111111111111111,
              "#46039f"
             ],
             [
              0.2222222222222222,
              "#7201a8"
             ],
             [
              0.3333333333333333,
              "#9c179e"
             ],
             [
              0.4444444444444444,
              "#bd3786"
             ],
             [
              0.5555555555555556,
              "#d8576b"
             ],
             [
              0.6666666666666666,
              "#ed7953"
             ],
             [
              0.7777777777777778,
              "#fb9f3a"
             ],
             [
              0.8888888888888888,
              "#fdca26"
             ],
             [
              1,
              "#f0f921"
             ]
            ],
            "type": "heatmap"
           }
          ],
          "histogram": [
           {
            "marker": {
             "pattern": {
              "fillmode": "overlay",
              "size": 10,
              "solidity": 0.2
             }
            },
            "type": "histogram"
           }
          ],
          "histogram2d": [
           {
            "colorbar": {
             "outlinewidth": 0,
             "ticks": ""
            },
            "colorscale": [
             [
              0,
              "#0d0887"
             ],
             [
              0.1111111111111111,
              "#46039f"
             ],
             [
              0.2222222222222222,
              "#7201a8"
             ],
             [
              0.3333333333333333,
              "#9c179e"
             ],
             [
              0.4444444444444444,
              "#bd3786"
             ],
             [
              0.5555555555555556,
              "#d8576b"
             ],
             [
              0.6666666666666666,
              "#ed7953"
             ],
             [
              0.7777777777777778,
              "#fb9f3a"
             ],
             [
              0.8888888888888888,
              "#fdca26"
             ],
             [
              1,
              "#f0f921"
             ]
            ],
            "type": "histogram2d"
           }
          ],
          "histogram2dcontour": [
           {
            "colorbar": {
             "outlinewidth": 0,
             "ticks": ""
            },
            "colorscale": [
             [
              0,
              "#0d0887"
             ],
             [
              0.1111111111111111,
              "#46039f"
             ],
             [
              0.2222222222222222,
              "#7201a8"
             ],
             [
              0.3333333333333333,
              "#9c179e"
             ],
             [
              0.4444444444444444,
              "#bd3786"
             ],
             [
              0.5555555555555556,
              "#d8576b"
             ],
             [
              0.6666666666666666,
              "#ed7953"
             ],
             [
              0.7777777777777778,
              "#fb9f3a"
             ],
             [
              0.8888888888888888,
              "#fdca26"
             ],
             [
              1,
              "#f0f921"
             ]
            ],
            "type": "histogram2dcontour"
           }
          ],
          "mesh3d": [
           {
            "colorbar": {
             "outlinewidth": 0,
             "ticks": ""
            },
            "type": "mesh3d"
           }
          ],
          "parcoords": [
           {
            "line": {
             "colorbar": {
              "outlinewidth": 0,
              "ticks": ""
             }
            },
            "type": "parcoords"
           }
          ],
          "pie": [
           {
            "automargin": true,
            "type": "pie"
           }
          ],
          "scatter": [
           {
            "fillpattern": {
             "fillmode": "overlay",
             "size": 10,
             "solidity": 0.2
            },
            "type": "scatter"
           }
          ],
          "scatter3d": [
           {
            "line": {
             "colorbar": {
              "outlinewidth": 0,
              "ticks": ""
             }
            },
            "marker": {
             "colorbar": {
              "outlinewidth": 0,
              "ticks": ""
             }
            },
            "type": "scatter3d"
           }
          ],
          "scattercarpet": [
           {
            "marker": {
             "colorbar": {
              "outlinewidth": 0,
              "ticks": ""
             }
            },
            "type": "scattercarpet"
           }
          ],
          "scattergeo": [
           {
            "marker": {
             "colorbar": {
              "outlinewidth": 0,
              "ticks": ""
             }
            },
            "type": "scattergeo"
           }
          ],
          "scattergl": [
           {
            "marker": {
             "colorbar": {
              "outlinewidth": 0,
              "ticks": ""
             }
            },
            "type": "scattergl"
           }
          ],
          "scattermap": [
           {
            "marker": {
             "colorbar": {
              "outlinewidth": 0,
              "ticks": ""
             }
            },
            "type": "scattermap"
           }
          ],
          "scattermapbox": [
           {
            "marker": {
             "colorbar": {
              "outlinewidth": 0,
              "ticks": ""
             }
            },
            "type": "scattermapbox"
           }
          ],
          "scatterpolar": [
           {
            "marker": {
             "colorbar": {
              "outlinewidth": 0,
              "ticks": ""
             }
            },
            "type": "scatterpolar"
           }
          ],
          "scatterpolargl": [
           {
            "marker": {
             "colorbar": {
              "outlinewidth": 0,
              "ticks": ""
             }
            },
            "type": "scatterpolargl"
           }
          ],
          "scatterternary": [
           {
            "marker": {
             "colorbar": {
              "outlinewidth": 0,
              "ticks": ""
             }
            },
            "type": "scatterternary"
           }
          ],
          "surface": [
           {
            "colorbar": {
             "outlinewidth": 0,
             "ticks": ""
            },
            "colorscale": [
             [
              0,
              "#0d0887"
             ],
             [
              0.1111111111111111,
              "#46039f"
             ],
             [
              0.2222222222222222,
              "#7201a8"
             ],
             [
              0.3333333333333333,
              "#9c179e"
             ],
             [
              0.4444444444444444,
              "#bd3786"
             ],
             [
              0.5555555555555556,
              "#d8576b"
             ],
             [
              0.6666666666666666,
              "#ed7953"
             ],
             [
              0.7777777777777778,
              "#fb9f3a"
             ],
             [
              0.8888888888888888,
              "#fdca26"
             ],
             [
              1,
              "#f0f921"
             ]
            ],
            "type": "surface"
           }
          ],
          "table": [
           {
            "cells": {
             "fill": {
              "color": "#EBF0F8"
             },
             "line": {
              "color": "white"
             }
            },
            "header": {
             "fill": {
              "color": "#C8D4E3"
             },
             "line": {
              "color": "white"
             }
            },
            "type": "table"
           }
          ]
         },
         "layout": {
          "annotationdefaults": {
           "arrowcolor": "#2a3f5f",
           "arrowhead": 0,
           "arrowwidth": 1
          },
          "autotypenumbers": "strict",
          "coloraxis": {
           "colorbar": {
            "outlinewidth": 0,
            "ticks": ""
           }
          },
          "colorscale": {
           "diverging": [
            [
             0,
             "#8e0152"
            ],
            [
             0.1,
             "#c51b7d"
            ],
            [
             0.2,
             "#de77ae"
            ],
            [
             0.3,
             "#f1b6da"
            ],
            [
             0.4,
             "#fde0ef"
            ],
            [
             0.5,
             "#f7f7f7"
            ],
            [
             0.6,
             "#e6f5d0"
            ],
            [
             0.7,
             "#b8e186"
            ],
            [
             0.8,
             "#7fbc41"
            ],
            [
             0.9,
             "#4d9221"
            ],
            [
             1,
             "#276419"
            ]
           ],
           "sequential": [
            [
             0,
             "#0d0887"
            ],
            [
             0.1111111111111111,
             "#46039f"
            ],
            [
             0.2222222222222222,
             "#7201a8"
            ],
            [
             0.3333333333333333,
             "#9c179e"
            ],
            [
             0.4444444444444444,
             "#bd3786"
            ],
            [
             0.5555555555555556,
             "#d8576b"
            ],
            [
             0.6666666666666666,
             "#ed7953"
            ],
            [
             0.7777777777777778,
             "#fb9f3a"
            ],
            [
             0.8888888888888888,
             "#fdca26"
            ],
            [
             1,
             "#f0f921"
            ]
           ],
           "sequentialminus": [
            [
             0,
             "#0d0887"
            ],
            [
             0.1111111111111111,
             "#46039f"
            ],
            [
             0.2222222222222222,
             "#7201a8"
            ],
            [
             0.3333333333333333,
             "#9c179e"
            ],
            [
             0.4444444444444444,
             "#bd3786"
            ],
            [
             0.5555555555555556,
             "#d8576b"
            ],
            [
             0.6666666666666666,
             "#ed7953"
            ],
            [
             0.7777777777777778,
             "#fb9f3a"
            ],
            [
             0.8888888888888888,
             "#fdca26"
            ],
            [
             1,
             "#f0f921"
            ]
           ]
          },
          "colorway": [
           "#636efa",
           "#EF553B",
           "#00cc96",
           "#ab63fa",
           "#FFA15A",
           "#19d3f3",
           "#FF6692",
           "#B6E880",
           "#FF97FF",
           "#FECB52"
          ],
          "font": {
           "color": "#2a3f5f"
          },
          "geo": {
           "bgcolor": "white",
           "lakecolor": "white",
           "landcolor": "#E5ECF6",
           "showlakes": true,
           "showland": true,
           "subunitcolor": "white"
          },
          "hoverlabel": {
           "align": "left"
          },
          "hovermode": "closest",
          "mapbox": {
           "style": "light"
          },
          "paper_bgcolor": "white",
          "plot_bgcolor": "#E5ECF6",
          "polar": {
           "angularaxis": {
            "gridcolor": "white",
            "linecolor": "white",
            "ticks": ""
           },
           "bgcolor": "#E5ECF6",
           "radialaxis": {
            "gridcolor": "white",
            "linecolor": "white",
            "ticks": ""
           }
          },
          "scene": {
           "xaxis": {
            "backgroundcolor": "#E5ECF6",
            "gridcolor": "white",
            "gridwidth": 2,
            "linecolor": "white",
            "showbackground": true,
            "ticks": "",
            "zerolinecolor": "white"
           },
           "yaxis": {
            "backgroundcolor": "#E5ECF6",
            "gridcolor": "white",
            "gridwidth": 2,
            "linecolor": "white",
            "showbackground": true,
            "ticks": "",
            "zerolinecolor": "white"
           },
           "zaxis": {
            "backgroundcolor": "#E5ECF6",
            "gridcolor": "white",
            "gridwidth": 2,
            "linecolor": "white",
            "showbackground": true,
            "ticks": "",
            "zerolinecolor": "white"
           }
          },
          "shapedefaults": {
           "line": {
            "color": "#2a3f5f"
           }
          },
          "ternary": {
           "aaxis": {
            "gridcolor": "white",
            "linecolor": "white",
            "ticks": ""
           },
           "baxis": {
            "gridcolor": "white",
            "linecolor": "white",
            "ticks": ""
           },
           "bgcolor": "#E5ECF6",
           "caxis": {
            "gridcolor": "white",
            "linecolor": "white",
            "ticks": ""
           }
          },
          "title": {
           "x": 0.05
          },
          "xaxis": {
           "automargin": true,
           "gridcolor": "white",
           "linecolor": "white",
           "ticks": "",
           "title": {
            "standoff": 15
           },
           "zerolinecolor": "white",
           "zerolinewidth": 2
          },
          "yaxis": {
           "automargin": true,
           "gridcolor": "white",
           "linecolor": "white",
           "ticks": "",
           "title": {
            "standoff": 15
           },
           "zerolinecolor": "white",
           "zerolinewidth": 2
          }
         }
        },
        "title": {
         "text": "Top 20 Total Purchase Amount per Agency"
        },
        "xaxis": {
         "anchor": "y",
         "domain": [
          0,
          1
         ],
         "tickangle": -45,
         "tickfont": {
          "size": 10
         },
         "title": {
          "text": "Total Amount (USD)"
         }
        },
        "yaxis": {
         "anchor": "x",
         "domain": [
          0,
          1
         ],
         "title": {
          "text": "Agency"
         }
        }
       }
      }
     },
     "metadata": {},
     "output_type": "display_data"
    }
   ],
   "source": [
    "# Aggregate total amount per agency\n",
    "agency_totals = df.groupby(['Agency Number', 'Agency Name'])['Amount'].sum().reset_index()\n",
    "\n",
    "# Optional: sort by total amount\n",
    "agency_totals = agency_totals.sort_values('Amount', ascending=True)\n",
    "\n",
    "# Create readable label: \"Agency Number – Agency Name\"\n",
    "agency_totals['Agency Label'] = agency_totals['Agency Number'].astype(str) + ' – ' + agency_totals['Agency Name']\n",
    "\n",
    "fig = px.bar(\n",
    "    agency_totals.tail(20),\n",
    "    y='Agency Label',    # categorical axis\n",
    "    x='Amount',          # numeric axis\n",
    "    orientation='h',     # vertical bars\n",
    "    title='Top 20 Total Purchase Amount per Agency',\n",
    "    labels={'Amount': 'Total Amount (USD)', 'Agency Label': 'Agency'},\n",
    "    height=600\n",
    ")\n",
    "\n",
    "# Rotate x-axis labels for readability if there are many agencies\n",
    "fig.update_layout(\n",
    "    xaxis_tickangle=-45,\n",
    "    xaxis_tickfont=dict(size=10),\n",
    "    margin=dict(l=40, r=40, t=60, b=60),\n",
    ")\n",
    "\n",
    "fig.show()"
   ]
  },
  {
   "cell_type": "markdown",
   "id": "8f806fef",
   "metadata": {},
   "source": [
    "* Oklahoma State University has the highest total amount spent, followed by the University of Oklahoma and the Department of Health Sciences form University of Oklahoma."
   ]
  },
  {
   "cell_type": "markdown",
   "id": "d3122030",
   "metadata": {},
   "source": [
    "### Amount per Description"
   ]
  },
  {
   "cell_type": "code",
   "execution_count": 10,
   "id": "82ab1ebf",
   "metadata": {},
   "outputs": [
    {
     "data": {
      "application/vnd.plotly.v1+json": {
       "config": {
        "plotlyServerURL": "https://plot.ly"
       },
       "data": [
        {
         "hovertemplate": "Total Amount (USD)=%{x}<br>Transaction Description=%{y}<extra></extra>",
         "legendgroup": "",
         "marker": {
          "color": "#636efa",
          "pattern": {
           "shape": ""
          }
         },
         "name": "",
         "orientation": "h",
         "showlegend": false,
         "textposition": "auto",
         "type": "bar",
         "x": {
          "bdata": "AAAA7klonEEVrkcpk2VlQZqZmUlg5VdBZmZmZl3gM0HD9Shcm3gyQbgehau8+TBBpHA9CkDdLEHrUbieZuYpQfYoXA+A4CNB4XoUrkMqGkF7FK5HWIUXQVK4HoVCJBZBzczMzL8fE0EzMzMz3LARQVyPwvXMuwtBPgrXo4KzB0GQwvUo7JMGQaRwPQrnSAZBAAAAAGTzBUGuR+F6gk4FQQ==",
          "dtype": "f8"
         },
         "xaxis": "x",
         "y": [
          "GENERAL PURCHASE",
          "AIR TRAVEL",
          "ROOM CHARGES",
          "000000000000000000000000",
          "EXCAVATING SERVICE EA",
          "SALT PRODUCTS NMB",
          "OptiPlex 7010 Desktop Base PCE",
          "Invoice from Fletcher-Rein EA",
          "PRODUCTS AND SERVICES EA",
          "Latitude 15 5000 Series PCE",
          "PARTS EACH",
          "CHARTER BUS RENTAL EAC",
          "Chemicals EA",
          "EXCAVATING SERVICE 1",
          "JANITORIAL SUPPLIES NMB",
          "Product and/or Services Each",
          "WRSF unit",
          "Chemicals DO",
          "Product and/or Services EA",
          "Dell Latitude E6430 PCE"
         ],
         "yaxis": "y"
        }
       ],
       "layout": {
        "barmode": "relative",
        "height": 800,
        "legend": {
         "tracegroupgap": 0
        },
        "margin": {
         "b": 40,
         "l": 300,
         "r": 40,
         "t": 60
        },
        "template": {
         "data": {
          "bar": [
           {
            "error_x": {
             "color": "#2a3f5f"
            },
            "error_y": {
             "color": "#2a3f5f"
            },
            "marker": {
             "line": {
              "color": "white",
              "width": 0.5
             },
             "pattern": {
              "fillmode": "overlay",
              "size": 10,
              "solidity": 0.2
             }
            },
            "type": "bar"
           }
          ],
          "barpolar": [
           {
            "marker": {
             "line": {
              "color": "white",
              "width": 0.5
             },
             "pattern": {
              "fillmode": "overlay",
              "size": 10,
              "solidity": 0.2
             }
            },
            "type": "barpolar"
           }
          ],
          "carpet": [
           {
            "aaxis": {
             "endlinecolor": "#2a3f5f",
             "gridcolor": "#C8D4E3",
             "linecolor": "#C8D4E3",
             "minorgridcolor": "#C8D4E3",
             "startlinecolor": "#2a3f5f"
            },
            "baxis": {
             "endlinecolor": "#2a3f5f",
             "gridcolor": "#C8D4E3",
             "linecolor": "#C8D4E3",
             "minorgridcolor": "#C8D4E3",
             "startlinecolor": "#2a3f5f"
            },
            "type": "carpet"
           }
          ],
          "choropleth": [
           {
            "colorbar": {
             "outlinewidth": 0,
             "ticks": ""
            },
            "type": "choropleth"
           }
          ],
          "contour": [
           {
            "colorbar": {
             "outlinewidth": 0,
             "ticks": ""
            },
            "colorscale": [
             [
              0,
              "#0d0887"
             ],
             [
              0.1111111111111111,
              "#46039f"
             ],
             [
              0.2222222222222222,
              "#7201a8"
             ],
             [
              0.3333333333333333,
              "#9c179e"
             ],
             [
              0.4444444444444444,
              "#bd3786"
             ],
             [
              0.5555555555555556,
              "#d8576b"
             ],
             [
              0.6666666666666666,
              "#ed7953"
             ],
             [
              0.7777777777777778,
              "#fb9f3a"
             ],
             [
              0.8888888888888888,
              "#fdca26"
             ],
             [
              1,
              "#f0f921"
             ]
            ],
            "type": "contour"
           }
          ],
          "contourcarpet": [
           {
            "colorbar": {
             "outlinewidth": 0,
             "ticks": ""
            },
            "type": "contourcarpet"
           }
          ],
          "heatmap": [
           {
            "colorbar": {
             "outlinewidth": 0,
             "ticks": ""
            },
            "colorscale": [
             [
              0,
              "#0d0887"
             ],
             [
              0.1111111111111111,
              "#46039f"
             ],
             [
              0.2222222222222222,
              "#7201a8"
             ],
             [
              0.3333333333333333,
              "#9c179e"
             ],
             [
              0.4444444444444444,
              "#bd3786"
             ],
             [
              0.5555555555555556,
              "#d8576b"
             ],
             [
              0.6666666666666666,
              "#ed7953"
             ],
             [
              0.7777777777777778,
              "#fb9f3a"
             ],
             [
              0.8888888888888888,
              "#fdca26"
             ],
             [
              1,
              "#f0f921"
             ]
            ],
            "type": "heatmap"
           }
          ],
          "histogram": [
           {
            "marker": {
             "pattern": {
              "fillmode": "overlay",
              "size": 10,
              "solidity": 0.2
             }
            },
            "type": "histogram"
           }
          ],
          "histogram2d": [
           {
            "colorbar": {
             "outlinewidth": 0,
             "ticks": ""
            },
            "colorscale": [
             [
              0,
              "#0d0887"
             ],
             [
              0.1111111111111111,
              "#46039f"
             ],
             [
              0.2222222222222222,
              "#7201a8"
             ],
             [
              0.3333333333333333,
              "#9c179e"
             ],
             [
              0.4444444444444444,
              "#bd3786"
             ],
             [
              0.5555555555555556,
              "#d8576b"
             ],
             [
              0.6666666666666666,
              "#ed7953"
             ],
             [
              0.7777777777777778,
              "#fb9f3a"
             ],
             [
              0.8888888888888888,
              "#fdca26"
             ],
             [
              1,
              "#f0f921"
             ]
            ],
            "type": "histogram2d"
           }
          ],
          "histogram2dcontour": [
           {
            "colorbar": {
             "outlinewidth": 0,
             "ticks": ""
            },
            "colorscale": [
             [
              0,
              "#0d0887"
             ],
             [
              0.1111111111111111,
              "#46039f"
             ],
             [
              0.2222222222222222,
              "#7201a8"
             ],
             [
              0.3333333333333333,
              "#9c179e"
             ],
             [
              0.4444444444444444,
              "#bd3786"
             ],
             [
              0.5555555555555556,
              "#d8576b"
             ],
             [
              0.6666666666666666,
              "#ed7953"
             ],
             [
              0.7777777777777778,
              "#fb9f3a"
             ],
             [
              0.8888888888888888,
              "#fdca26"
             ],
             [
              1,
              "#f0f921"
             ]
            ],
            "type": "histogram2dcontour"
           }
          ],
          "mesh3d": [
           {
            "colorbar": {
             "outlinewidth": 0,
             "ticks": ""
            },
            "type": "mesh3d"
           }
          ],
          "parcoords": [
           {
            "line": {
             "colorbar": {
              "outlinewidth": 0,
              "ticks": ""
             }
            },
            "type": "parcoords"
           }
          ],
          "pie": [
           {
            "automargin": true,
            "type": "pie"
           }
          ],
          "scatter": [
           {
            "fillpattern": {
             "fillmode": "overlay",
             "size": 10,
             "solidity": 0.2
            },
            "type": "scatter"
           }
          ],
          "scatter3d": [
           {
            "line": {
             "colorbar": {
              "outlinewidth": 0,
              "ticks": ""
             }
            },
            "marker": {
             "colorbar": {
              "outlinewidth": 0,
              "ticks": ""
             }
            },
            "type": "scatter3d"
           }
          ],
          "scattercarpet": [
           {
            "marker": {
             "colorbar": {
              "outlinewidth": 0,
              "ticks": ""
             }
            },
            "type": "scattercarpet"
           }
          ],
          "scattergeo": [
           {
            "marker": {
             "colorbar": {
              "outlinewidth": 0,
              "ticks": ""
             }
            },
            "type": "scattergeo"
           }
          ],
          "scattergl": [
           {
            "marker": {
             "colorbar": {
              "outlinewidth": 0,
              "ticks": ""
             }
            },
            "type": "scattergl"
           }
          ],
          "scattermap": [
           {
            "marker": {
             "colorbar": {
              "outlinewidth": 0,
              "ticks": ""
             }
            },
            "type": "scattermap"
           }
          ],
          "scattermapbox": [
           {
            "marker": {
             "colorbar": {
              "outlinewidth": 0,
              "ticks": ""
             }
            },
            "type": "scattermapbox"
           }
          ],
          "scatterpolar": [
           {
            "marker": {
             "colorbar": {
              "outlinewidth": 0,
              "ticks": ""
             }
            },
            "type": "scatterpolar"
           }
          ],
          "scatterpolargl": [
           {
            "marker": {
             "colorbar": {
              "outlinewidth": 0,
              "ticks": ""
             }
            },
            "type": "scatterpolargl"
           }
          ],
          "scatterternary": [
           {
            "marker": {
             "colorbar": {
              "outlinewidth": 0,
              "ticks": ""
             }
            },
            "type": "scatterternary"
           }
          ],
          "surface": [
           {
            "colorbar": {
             "outlinewidth": 0,
             "ticks": ""
            },
            "colorscale": [
             [
              0,
              "#0d0887"
             ],
             [
              0.1111111111111111,
              "#46039f"
             ],
             [
              0.2222222222222222,
              "#7201a8"
             ],
             [
              0.3333333333333333,
              "#9c179e"
             ],
             [
              0.4444444444444444,
              "#bd3786"
             ],
             [
              0.5555555555555556,
              "#d8576b"
             ],
             [
              0.6666666666666666,
              "#ed7953"
             ],
             [
              0.7777777777777778,
              "#fb9f3a"
             ],
             [
              0.8888888888888888,
              "#fdca26"
             ],
             [
              1,
              "#f0f921"
             ]
            ],
            "type": "surface"
           }
          ],
          "table": [
           {
            "cells": {
             "fill": {
              "color": "#EBF0F8"
             },
             "line": {
              "color": "white"
             }
            },
            "header": {
             "fill": {
              "color": "#C8D4E3"
             },
             "line": {
              "color": "white"
             }
            },
            "type": "table"
           }
          ]
         },
         "layout": {
          "annotationdefaults": {
           "arrowcolor": "#2a3f5f",
           "arrowhead": 0,
           "arrowwidth": 1
          },
          "autotypenumbers": "strict",
          "coloraxis": {
           "colorbar": {
            "outlinewidth": 0,
            "ticks": ""
           }
          },
          "colorscale": {
           "diverging": [
            [
             0,
             "#8e0152"
            ],
            [
             0.1,
             "#c51b7d"
            ],
            [
             0.2,
             "#de77ae"
            ],
            [
             0.3,
             "#f1b6da"
            ],
            [
             0.4,
             "#fde0ef"
            ],
            [
             0.5,
             "#f7f7f7"
            ],
            [
             0.6,
             "#e6f5d0"
            ],
            [
             0.7,
             "#b8e186"
            ],
            [
             0.8,
             "#7fbc41"
            ],
            [
             0.9,
             "#4d9221"
            ],
            [
             1,
             "#276419"
            ]
           ],
           "sequential": [
            [
             0,
             "#0d0887"
            ],
            [
             0.1111111111111111,
             "#46039f"
            ],
            [
             0.2222222222222222,
             "#7201a8"
            ],
            [
             0.3333333333333333,
             "#9c179e"
            ],
            [
             0.4444444444444444,
             "#bd3786"
            ],
            [
             0.5555555555555556,
             "#d8576b"
            ],
            [
             0.6666666666666666,
             "#ed7953"
            ],
            [
             0.7777777777777778,
             "#fb9f3a"
            ],
            [
             0.8888888888888888,
             "#fdca26"
            ],
            [
             1,
             "#f0f921"
            ]
           ],
           "sequentialminus": [
            [
             0,
             "#0d0887"
            ],
            [
             0.1111111111111111,
             "#46039f"
            ],
            [
             0.2222222222222222,
             "#7201a8"
            ],
            [
             0.3333333333333333,
             "#9c179e"
            ],
            [
             0.4444444444444444,
             "#bd3786"
            ],
            [
             0.5555555555555556,
             "#d8576b"
            ],
            [
             0.6666666666666666,
             "#ed7953"
            ],
            [
             0.7777777777777778,
             "#fb9f3a"
            ],
            [
             0.8888888888888888,
             "#fdca26"
            ],
            [
             1,
             "#f0f921"
            ]
           ]
          },
          "colorway": [
           "#636efa",
           "#EF553B",
           "#00cc96",
           "#ab63fa",
           "#FFA15A",
           "#19d3f3",
           "#FF6692",
           "#B6E880",
           "#FF97FF",
           "#FECB52"
          ],
          "font": {
           "color": "#2a3f5f"
          },
          "geo": {
           "bgcolor": "white",
           "lakecolor": "white",
           "landcolor": "white",
           "showlakes": true,
           "showland": true,
           "subunitcolor": "#C8D4E3"
          },
          "hoverlabel": {
           "align": "left"
          },
          "hovermode": "closest",
          "mapbox": {
           "style": "light"
          },
          "paper_bgcolor": "white",
          "plot_bgcolor": "white",
          "polar": {
           "angularaxis": {
            "gridcolor": "#EBF0F8",
            "linecolor": "#EBF0F8",
            "ticks": ""
           },
           "bgcolor": "white",
           "radialaxis": {
            "gridcolor": "#EBF0F8",
            "linecolor": "#EBF0F8",
            "ticks": ""
           }
          },
          "scene": {
           "xaxis": {
            "backgroundcolor": "white",
            "gridcolor": "#DFE8F3",
            "gridwidth": 2,
            "linecolor": "#EBF0F8",
            "showbackground": true,
            "ticks": "",
            "zerolinecolor": "#EBF0F8"
           },
           "yaxis": {
            "backgroundcolor": "white",
            "gridcolor": "#DFE8F3",
            "gridwidth": 2,
            "linecolor": "#EBF0F8",
            "showbackground": true,
            "ticks": "",
            "zerolinecolor": "#EBF0F8"
           },
           "zaxis": {
            "backgroundcolor": "white",
            "gridcolor": "#DFE8F3",
            "gridwidth": 2,
            "linecolor": "#EBF0F8",
            "showbackground": true,
            "ticks": "",
            "zerolinecolor": "#EBF0F8"
           }
          },
          "shapedefaults": {
           "line": {
            "color": "#2a3f5f"
           }
          },
          "ternary": {
           "aaxis": {
            "gridcolor": "#DFE8F3",
            "linecolor": "#A2B1C6",
            "ticks": ""
           },
           "baxis": {
            "gridcolor": "#DFE8F3",
            "linecolor": "#A2B1C6",
            "ticks": ""
           },
           "bgcolor": "white",
           "caxis": {
            "gridcolor": "#DFE8F3",
            "linecolor": "#A2B1C6",
            "ticks": ""
           }
          },
          "title": {
           "x": 0.05
          },
          "xaxis": {
           "automargin": true,
           "gridcolor": "#EBF0F8",
           "linecolor": "#EBF0F8",
           "ticks": "",
           "title": {
            "standoff": 15
           },
           "zerolinecolor": "#EBF0F8",
           "zerolinewidth": 2
          },
          "yaxis": {
           "automargin": true,
           "gridcolor": "#EBF0F8",
           "linecolor": "#EBF0F8",
           "ticks": "",
           "title": {
            "standoff": 15
           },
           "zerolinecolor": "#EBF0F8",
           "zerolinewidth": 2
          }
         }
        },
        "title": {
         "text": "Top 20 Total Purchase Amount per Description"
        },
        "xaxis": {
         "anchor": "y",
         "domain": [
          0,
          1
         ],
         "title": {
          "text": "Total Amount (USD)"
         }
        },
        "yaxis": {
         "anchor": "x",
         "autorange": "reversed",
         "domain": [
          0,
          1
         ],
         "title": {
          "text": "Transaction Description"
         }
        }
       }
      }
     },
     "metadata": {},
     "output_type": "display_data"
    }
   ],
   "source": [
    "\n",
    "desc_totals = (\n",
    "    df.groupby('Description')['Amount']\n",
    "      .sum()\n",
    "      .reset_index()\n",
    "      .sort_values('Amount', ascending=False)\n",
    ")\n",
    "\n",
    "# If there are too many descriptions, you can take the top N, e.g.:\n",
    "# desc_totals = desc_totals.head(20)\n",
    "\n",
    "# Plot horizontal bar chart: descriptions on y-axis, amount on x-axis\n",
    "fig = px.bar(\n",
    "    desc_totals.head(20),\n",
    "    y='Description',\n",
    "    x='Amount',\n",
    "    orientation='h',\n",
    "    title='Top 20 Total Purchase Amount per Description',\n",
    "    labels={'Amount': 'Total Amount (USD)', 'Description': 'Transaction Description'},\n",
    "    template='plotly_white',\n",
    "    height=800\n",
    ")\n",
    "\n",
    "# Invert the y-axis so the largest bars appear at the top\n",
    "fig.update_layout(\n",
    "    yaxis=dict(autorange='reversed'),\n",
    "    margin=dict(l=300, r=40, t=60, b=40)\n",
    ")\n",
    "\n",
    "fig.show()"
   ]
  },
  {
   "cell_type": "markdown",
   "id": "15a52df5",
   "metadata": {},
   "source": [
    "The vast majority of the transactions made here are cartegorized as \"General Purchase\" followed far behind by \"Travel\" and \"Room Charges\"."
   ]
  },
  {
   "cell_type": "markdown",
   "id": "3c1fb6d2",
   "metadata": {},
   "source": [
    "### Amount per Vendor"
   ]
  },
  {
   "cell_type": "code",
   "execution_count": 11,
   "id": "1f9a64af",
   "metadata": {},
   "outputs": [
    {
     "data": {
      "application/vnd.plotly.v1+json": {
       "config": {
        "plotlyServerURL": "https://plot.ly"
       },
       "data": [
        {
         "hovertemplate": "Total Amount (USD)=%{x}<br>Vendor Name=%{y}<extra></extra>",
         "legendgroup": "",
         "marker": {
          "color": "#636efa",
          "pattern": {
           "shape": ""
          }
         },
         "name": "",
         "orientation": "h",
         "showlegend": false,
         "textposition": "auto",
         "type": "bar",
         "x": {
          "bdata": "7FG4XiJqU0E+CtdDIP1OQcP1KLzzYEpBexSuh2YmREGuR+F6VHBAQT0K1+O/8z5BAAAAAMurPUGuR+F6IjI9QQrXo7Ac6TxBSOF61LWHNUG4HoVrpFQ1QRSuR+EAuzNBXI/C9VAfMkG4HoWrvPkwQexRuB5bRC9Bj8L1qIndLkFmZmZmLxcuQdejcD0ABS5BFK5HYU2ELUFcj8L1W70sQUjhepQZYipBpHA9ijyhKEF7FK7HBDMoQY/C9ahBJyhB9ihcD/R7JkEfhevRO3UlQWZmZmbm8iJBw/UoXCjdIkHXo3C9x4oiQXsUrseR/SFBj8L1KIPAIUHXo3A9yt0gQSlcj0KGcSBBexSuRwD0H0H2KFyPvIgfQT0K16Mykh5BzczMzDaGHkFI4XoUx2geQQrXo3Bj5htBmpmZmaRXGkE=",
          "dtype": "f8"
         },
         "xaxis": "x",
         "y": [
          "WW GRAINGER",
          "PAYMENT ADJUSTMENT",
          "DMI  DELL K-12/GOVT",
          "DMI  DELL HIGHER EDUC",
          "EMC CORPORATION",
          "SOUTH CENTRAL INDUSTRIES",
          "PELCO STRUCTURAL LLC",
          "STAPLES",
          "TK CONSTRUCTIO US LLC",
          "MCKESSON MEDICAL SUPPLY",
          "Amazon.com",
          "AMAZON MKTPLACE PMTS",
          "FLETCHER REINHARDT CO",
          "NORTH AMERICAN SALT CO",
          "VWR INTERNATIONAL INC",
          "STANDLEY SYSTEMS LLC",
          "DEPT OF CORRECTIONS",
          "COX OKLAHOMA COMM SV",
          "AT&T BILL PAYMENT",
          "GALT FOUNDATION",
          "SYSCO RESOURCES SERVICES",
          "XPEDX-INTL PAPER",
          "SIMPLEX GRINNELL WEB P",
          "FASTENAL COMPANY01",
          "KIAMICHI OPPORTUNITIES",
          "CENTRAL OKLAHOMAWINLSN",
          "SHI CORP",
          "EVANS ENTERPRISES",
          "ATT BILL PAYMENT",
          "BILL WARREN OFFICE PRODUC",
          "TFS FISHERSCI ECOM HUS",
          "VOSS LIGHTING - OKLAHOMA",
          "MSC",
          "CONSTRUCTION DIVISION",
          "HUNZICKER BROTHERS INC",
          "EMPIRE PAPER COMPANY",
          "APAC CENTRAL OFFICE",
          "MOTOROLA, INC. - ONLINE",
          "APL APPLE ONLINE STORE",
          "RED CARPET CHARTERS"
         ],
         "yaxis": "y"
        }
       ],
       "layout": {
        "barmode": "relative",
        "height": 800,
        "legend": {
         "tracegroupgap": 0
        },
        "margin": {
         "b": 40,
         "l": 300,
         "r": 40,
         "t": 60
        },
        "template": {
         "data": {
          "bar": [
           {
            "error_x": {
             "color": "#2a3f5f"
            },
            "error_y": {
             "color": "#2a3f5f"
            },
            "marker": {
             "line": {
              "color": "white",
              "width": 0.5
             },
             "pattern": {
              "fillmode": "overlay",
              "size": 10,
              "solidity": 0.2
             }
            },
            "type": "bar"
           }
          ],
          "barpolar": [
           {
            "marker": {
             "line": {
              "color": "white",
              "width": 0.5
             },
             "pattern": {
              "fillmode": "overlay",
              "size": 10,
              "solidity": 0.2
             }
            },
            "type": "barpolar"
           }
          ],
          "carpet": [
           {
            "aaxis": {
             "endlinecolor": "#2a3f5f",
             "gridcolor": "#C8D4E3",
             "linecolor": "#C8D4E3",
             "minorgridcolor": "#C8D4E3",
             "startlinecolor": "#2a3f5f"
            },
            "baxis": {
             "endlinecolor": "#2a3f5f",
             "gridcolor": "#C8D4E3",
             "linecolor": "#C8D4E3",
             "minorgridcolor": "#C8D4E3",
             "startlinecolor": "#2a3f5f"
            },
            "type": "carpet"
           }
          ],
          "choropleth": [
           {
            "colorbar": {
             "outlinewidth": 0,
             "ticks": ""
            },
            "type": "choropleth"
           }
          ],
          "contour": [
           {
            "colorbar": {
             "outlinewidth": 0,
             "ticks": ""
            },
            "colorscale": [
             [
              0,
              "#0d0887"
             ],
             [
              0.1111111111111111,
              "#46039f"
             ],
             [
              0.2222222222222222,
              "#7201a8"
             ],
             [
              0.3333333333333333,
              "#9c179e"
             ],
             [
              0.4444444444444444,
              "#bd3786"
             ],
             [
              0.5555555555555556,
              "#d8576b"
             ],
             [
              0.6666666666666666,
              "#ed7953"
             ],
             [
              0.7777777777777778,
              "#fb9f3a"
             ],
             [
              0.8888888888888888,
              "#fdca26"
             ],
             [
              1,
              "#f0f921"
             ]
            ],
            "type": "contour"
           }
          ],
          "contourcarpet": [
           {
            "colorbar": {
             "outlinewidth": 0,
             "ticks": ""
            },
            "type": "contourcarpet"
           }
          ],
          "heatmap": [
           {
            "colorbar": {
             "outlinewidth": 0,
             "ticks": ""
            },
            "colorscale": [
             [
              0,
              "#0d0887"
             ],
             [
              0.1111111111111111,
              "#46039f"
             ],
             [
              0.2222222222222222,
              "#7201a8"
             ],
             [
              0.3333333333333333,
              "#9c179e"
             ],
             [
              0.4444444444444444,
              "#bd3786"
             ],
             [
              0.5555555555555556,
              "#d8576b"
             ],
             [
              0.6666666666666666,
              "#ed7953"
             ],
             [
              0.7777777777777778,
              "#fb9f3a"
             ],
             [
              0.8888888888888888,
              "#fdca26"
             ],
             [
              1,
              "#f0f921"
             ]
            ],
            "type": "heatmap"
           }
          ],
          "histogram": [
           {
            "marker": {
             "pattern": {
              "fillmode": "overlay",
              "size": 10,
              "solidity": 0.2
             }
            },
            "type": "histogram"
           }
          ],
          "histogram2d": [
           {
            "colorbar": {
             "outlinewidth": 0,
             "ticks": ""
            },
            "colorscale": [
             [
              0,
              "#0d0887"
             ],
             [
              0.1111111111111111,
              "#46039f"
             ],
             [
              0.2222222222222222,
              "#7201a8"
             ],
             [
              0.3333333333333333,
              "#9c179e"
             ],
             [
              0.4444444444444444,
              "#bd3786"
             ],
             [
              0.5555555555555556,
              "#d8576b"
             ],
             [
              0.6666666666666666,
              "#ed7953"
             ],
             [
              0.7777777777777778,
              "#fb9f3a"
             ],
             [
              0.8888888888888888,
              "#fdca26"
             ],
             [
              1,
              "#f0f921"
             ]
            ],
            "type": "histogram2d"
           }
          ],
          "histogram2dcontour": [
           {
            "colorbar": {
             "outlinewidth": 0,
             "ticks": ""
            },
            "colorscale": [
             [
              0,
              "#0d0887"
             ],
             [
              0.1111111111111111,
              "#46039f"
             ],
             [
              0.2222222222222222,
              "#7201a8"
             ],
             [
              0.3333333333333333,
              "#9c179e"
             ],
             [
              0.4444444444444444,
              "#bd3786"
             ],
             [
              0.5555555555555556,
              "#d8576b"
             ],
             [
              0.6666666666666666,
              "#ed7953"
             ],
             [
              0.7777777777777778,
              "#fb9f3a"
             ],
             [
              0.8888888888888888,
              "#fdca26"
             ],
             [
              1,
              "#f0f921"
             ]
            ],
            "type": "histogram2dcontour"
           }
          ],
          "mesh3d": [
           {
            "colorbar": {
             "outlinewidth": 0,
             "ticks": ""
            },
            "type": "mesh3d"
           }
          ],
          "parcoords": [
           {
            "line": {
             "colorbar": {
              "outlinewidth": 0,
              "ticks": ""
             }
            },
            "type": "parcoords"
           }
          ],
          "pie": [
           {
            "automargin": true,
            "type": "pie"
           }
          ],
          "scatter": [
           {
            "fillpattern": {
             "fillmode": "overlay",
             "size": 10,
             "solidity": 0.2
            },
            "type": "scatter"
           }
          ],
          "scatter3d": [
           {
            "line": {
             "colorbar": {
              "outlinewidth": 0,
              "ticks": ""
             }
            },
            "marker": {
             "colorbar": {
              "outlinewidth": 0,
              "ticks": ""
             }
            },
            "type": "scatter3d"
           }
          ],
          "scattercarpet": [
           {
            "marker": {
             "colorbar": {
              "outlinewidth": 0,
              "ticks": ""
             }
            },
            "type": "scattercarpet"
           }
          ],
          "scattergeo": [
           {
            "marker": {
             "colorbar": {
              "outlinewidth": 0,
              "ticks": ""
             }
            },
            "type": "scattergeo"
           }
          ],
          "scattergl": [
           {
            "marker": {
             "colorbar": {
              "outlinewidth": 0,
              "ticks": ""
             }
            },
            "type": "scattergl"
           }
          ],
          "scattermap": [
           {
            "marker": {
             "colorbar": {
              "outlinewidth": 0,
              "ticks": ""
             }
            },
            "type": "scattermap"
           }
          ],
          "scattermapbox": [
           {
            "marker": {
             "colorbar": {
              "outlinewidth": 0,
              "ticks": ""
             }
            },
            "type": "scattermapbox"
           }
          ],
          "scatterpolar": [
           {
            "marker": {
             "colorbar": {
              "outlinewidth": 0,
              "ticks": ""
             }
            },
            "type": "scatterpolar"
           }
          ],
          "scatterpolargl": [
           {
            "marker": {
             "colorbar": {
              "outlinewidth": 0,
              "ticks": ""
             }
            },
            "type": "scatterpolargl"
           }
          ],
          "scatterternary": [
           {
            "marker": {
             "colorbar": {
              "outlinewidth": 0,
              "ticks": ""
             }
            },
            "type": "scatterternary"
           }
          ],
          "surface": [
           {
            "colorbar": {
             "outlinewidth": 0,
             "ticks": ""
            },
            "colorscale": [
             [
              0,
              "#0d0887"
             ],
             [
              0.1111111111111111,
              "#46039f"
             ],
             [
              0.2222222222222222,
              "#7201a8"
             ],
             [
              0.3333333333333333,
              "#9c179e"
             ],
             [
              0.4444444444444444,
              "#bd3786"
             ],
             [
              0.5555555555555556,
              "#d8576b"
             ],
             [
              0.6666666666666666,
              "#ed7953"
             ],
             [
              0.7777777777777778,
              "#fb9f3a"
             ],
             [
              0.8888888888888888,
              "#fdca26"
             ],
             [
              1,
              "#f0f921"
             ]
            ],
            "type": "surface"
           }
          ],
          "table": [
           {
            "cells": {
             "fill": {
              "color": "#EBF0F8"
             },
             "line": {
              "color": "white"
             }
            },
            "header": {
             "fill": {
              "color": "#C8D4E3"
             },
             "line": {
              "color": "white"
             }
            },
            "type": "table"
           }
          ]
         },
         "layout": {
          "annotationdefaults": {
           "arrowcolor": "#2a3f5f",
           "arrowhead": 0,
           "arrowwidth": 1
          },
          "autotypenumbers": "strict",
          "coloraxis": {
           "colorbar": {
            "outlinewidth": 0,
            "ticks": ""
           }
          },
          "colorscale": {
           "diverging": [
            [
             0,
             "#8e0152"
            ],
            [
             0.1,
             "#c51b7d"
            ],
            [
             0.2,
             "#de77ae"
            ],
            [
             0.3,
             "#f1b6da"
            ],
            [
             0.4,
             "#fde0ef"
            ],
            [
             0.5,
             "#f7f7f7"
            ],
            [
             0.6,
             "#e6f5d0"
            ],
            [
             0.7,
             "#b8e186"
            ],
            [
             0.8,
             "#7fbc41"
            ],
            [
             0.9,
             "#4d9221"
            ],
            [
             1,
             "#276419"
            ]
           ],
           "sequential": [
            [
             0,
             "#0d0887"
            ],
            [
             0.1111111111111111,
             "#46039f"
            ],
            [
             0.2222222222222222,
             "#7201a8"
            ],
            [
             0.3333333333333333,
             "#9c179e"
            ],
            [
             0.4444444444444444,
             "#bd3786"
            ],
            [
             0.5555555555555556,
             "#d8576b"
            ],
            [
             0.6666666666666666,
             "#ed7953"
            ],
            [
             0.7777777777777778,
             "#fb9f3a"
            ],
            [
             0.8888888888888888,
             "#fdca26"
            ],
            [
             1,
             "#f0f921"
            ]
           ],
           "sequentialminus": [
            [
             0,
             "#0d0887"
            ],
            [
             0.1111111111111111,
             "#46039f"
            ],
            [
             0.2222222222222222,
             "#7201a8"
            ],
            [
             0.3333333333333333,
             "#9c179e"
            ],
            [
             0.4444444444444444,
             "#bd3786"
            ],
            [
             0.5555555555555556,
             "#d8576b"
            ],
            [
             0.6666666666666666,
             "#ed7953"
            ],
            [
             0.7777777777777778,
             "#fb9f3a"
            ],
            [
             0.8888888888888888,
             "#fdca26"
            ],
            [
             1,
             "#f0f921"
            ]
           ]
          },
          "colorway": [
           "#636efa",
           "#EF553B",
           "#00cc96",
           "#ab63fa",
           "#FFA15A",
           "#19d3f3",
           "#FF6692",
           "#B6E880",
           "#FF97FF",
           "#FECB52"
          ],
          "font": {
           "color": "#2a3f5f"
          },
          "geo": {
           "bgcolor": "white",
           "lakecolor": "white",
           "landcolor": "white",
           "showlakes": true,
           "showland": true,
           "subunitcolor": "#C8D4E3"
          },
          "hoverlabel": {
           "align": "left"
          },
          "hovermode": "closest",
          "mapbox": {
           "style": "light"
          },
          "paper_bgcolor": "white",
          "plot_bgcolor": "white",
          "polar": {
           "angularaxis": {
            "gridcolor": "#EBF0F8",
            "linecolor": "#EBF0F8",
            "ticks": ""
           },
           "bgcolor": "white",
           "radialaxis": {
            "gridcolor": "#EBF0F8",
            "linecolor": "#EBF0F8",
            "ticks": ""
           }
          },
          "scene": {
           "xaxis": {
            "backgroundcolor": "white",
            "gridcolor": "#DFE8F3",
            "gridwidth": 2,
            "linecolor": "#EBF0F8",
            "showbackground": true,
            "ticks": "",
            "zerolinecolor": "#EBF0F8"
           },
           "yaxis": {
            "backgroundcolor": "white",
            "gridcolor": "#DFE8F3",
            "gridwidth": 2,
            "linecolor": "#EBF0F8",
            "showbackground": true,
            "ticks": "",
            "zerolinecolor": "#EBF0F8"
           },
           "zaxis": {
            "backgroundcolor": "white",
            "gridcolor": "#DFE8F3",
            "gridwidth": 2,
            "linecolor": "#EBF0F8",
            "showbackground": true,
            "ticks": "",
            "zerolinecolor": "#EBF0F8"
           }
          },
          "shapedefaults": {
           "line": {
            "color": "#2a3f5f"
           }
          },
          "ternary": {
           "aaxis": {
            "gridcolor": "#DFE8F3",
            "linecolor": "#A2B1C6",
            "ticks": ""
           },
           "baxis": {
            "gridcolor": "#DFE8F3",
            "linecolor": "#A2B1C6",
            "ticks": ""
           },
           "bgcolor": "white",
           "caxis": {
            "gridcolor": "#DFE8F3",
            "linecolor": "#A2B1C6",
            "ticks": ""
           }
          },
          "title": {
           "x": 0.05
          },
          "xaxis": {
           "automargin": true,
           "gridcolor": "#EBF0F8",
           "linecolor": "#EBF0F8",
           "ticks": "",
           "title": {
            "standoff": 15
           },
           "zerolinecolor": "#EBF0F8",
           "zerolinewidth": 2
          },
          "yaxis": {
           "automargin": true,
           "gridcolor": "#EBF0F8",
           "linecolor": "#EBF0F8",
           "ticks": "",
           "title": {
            "standoff": 15
           },
           "zerolinecolor": "#EBF0F8",
           "zerolinewidth": 2
          }
         }
        },
        "title": {
         "text": "Top 20 Total Purchase Amount per Vendor"
        },
        "xaxis": {
         "anchor": "y",
         "domain": [
          0,
          1
         ],
         "title": {
          "text": "Total Amount (USD)"
         }
        },
        "yaxis": {
         "anchor": "x",
         "autorange": "reversed",
         "domain": [
          0,
          1
         ],
         "title": {
          "text": "Vendor Name"
         }
        }
       }
      }
     },
     "metadata": {},
     "output_type": "display_data"
    }
   ],
   "source": [
    "vendor_totals = (\n",
    "    df.groupby('Vendor')['Amount']\n",
    "      .sum()\n",
    "      .reset_index()\n",
    "      .sort_values('Amount', ascending=False)\n",
    ")\n",
    "\n",
    "# Optionally, limit to top N vendors to keep the chart readable\n",
    "# vendor_totals = vendor_totals.head(20)\n",
    "\n",
    "# Plot horizontal bar chart: vendors on y-axis, total amount on x-axis\n",
    "fig = px.bar(\n",
    "    vendor_totals.head(40),\n",
    "    y='Vendor',\n",
    "    x='Amount',\n",
    "    orientation='h',\n",
    "    title='Top 20 Total Purchase Amount per Vendor',\n",
    "    labels={'Amount': 'Total Amount (USD)', 'Vendor': 'Vendor Name'},\n",
    "    template='plotly_white',\n",
    "    height=800\n",
    ")\n",
    "\n",
    "# Invert the y-axis so the highest spenders are at the top\n",
    "fig.update_layout(\n",
    "    yaxis=dict(autorange='reversed'),\n",
    "    margin=dict(l=300, r=40, t=60, b=40)\n",
    ")\n",
    "\n",
    "fig.show()"
   ]
  },
  {
   "cell_type": "markdown",
   "id": "5c8fd5e3",
   "metadata": {},
   "source": [
    "* Transaction value by Vendor are more stable\n",
    "* Graingner is the vendor with the highest total amount spent on"
   ]
  },
  {
   "cell_type": "markdown",
   "id": "6bd6d717",
   "metadata": {},
   "source": [
    "### MCCs per Vendors"
   ]
  },
  {
   "cell_type": "code",
   "execution_count": 12,
   "id": "0c0b9685",
   "metadata": {},
   "outputs": [
    {
     "name": "stdout",
     "output_type": "stream",
     "text": [
      "                        Vendor  n_mccs\n",
      "24574               CLAIM ADJ/       8\n",
      "25763  CREDIT PURCHASE BALANCE       5\n",
      "62769      PAYPAL  ASSOCIATION       4\n",
      "56369  NATIONAL ASSOCIATION OF       4\n",
      "43661      HOLIDAY INN EXPRESS       3\n",
      "40743   FIVE STAR OFFICE SUPPL       3\n",
      "77315         TALX CORPORATION       3\n",
      "46202                   IVECCS       3\n",
      "63939      PAYPAL  REGISTRYINC       3\n",
      "19582  AMERICAS BEST VALUE INN       3\n",
      "\n",
      "\n",
      "Average MCCs per vendor are 1.01\n"
     ]
    }
   ],
   "source": [
    "mcc_vendors = df.groupby(['Vendor'])['Merchant Category Code (MCC)'].nunique().reset_index(name='n_mccs').sort_values('n_mccs', ascending=False)\n",
    "\n",
    "print(mcc_vendors.head(10))\n",
    "print(\"\\n\")\n",
    "print(f\"Average MCCs per vendor are {mcc_vendors['n_mccs'].mean():.2f}\")"
   ]
  },
  {
   "cell_type": "markdown",
   "id": "7145260a",
   "metadata": {},
   "source": [
    "The majority of vendors only have one MCC code, but there are some vendors with multiple MCC codes"
   ]
  },
  {
   "cell_type": "markdown",
   "id": "ace7be11",
   "metadata": {},
   "source": [
    "## Anomaly Detection Using Feature Engineering"
   ]
  },
  {
   "cell_type": "markdown",
   "id": "09aac992",
   "metadata": {},
   "source": [
    "### 1. Ratio to Avg Transaction by Merchant x Merchant Category Code\n",
    "\n",
    "We will begin by checking the ratio to avg transactions by merchant and merchant category code (MCC). This will help us identify transactions that are significantly higher or lower than the average for a given merchant and MCC combination."
   ]
  },
  {
   "cell_type": "code",
   "execution_count": 14,
   "id": "6fa04fb9",
   "metadata": {},
   "outputs": [
    {
     "name": "stdout",
     "output_type": "stream",
     "text": [
      "                         Vendor  \\\n",
      "87411             www.wiley.com   \n",
      "87410     www.wff2014korea.org/   \n",
      "87409          www.testking.com   \n",
      "87408      www.sublimevideo.net   \n",
      "87407           www.molport.com   \n",
      "87406      www.eurofedlipid.org   \n",
      "87405            www.autodoc.ch   \n",
      "87404  wmill.com ResponseOmatic   \n",
      "87403        value plastics inc   \n",
      "87402       templatemonster.com   \n",
      "\n",
      "                            Merchant Category Code (MCC)  vendor_mcc_avg  \n",
      "87411         BUSINESS SERVICES NOT ELSEWHERE CLASSIFIED          596.78  \n",
      "87410  DIRCT MARKETING/DIRCT MARKETERS--NOT ELSEWHERE...          250.00  \n",
      "87409         BUSINESS SERVICES NOT ELSEWHERE CLASSIFIED           99.99  \n",
      "87408                           COMPUTER SOFTWARE STORES           18.19  \n",
      "87407  CHEMICALS AND ALLIED PRODUCTS NOT ELSEWHERE CL...          205.00  \n",
      "87406                  MISCELLANEOUS GENERAL MERCHANDISE        1,286.43  \n",
      "87405                           COMPUTER SOFTWARE STORES          174.89  \n",
      "87404     PROFESSIONAL SERVICES NOT ELSEWHERE CLASSIFIED           95.40  \n",
      "87403          MISCELLANEOUS AND SPECIALTY RETAIL STORES           31.16  \n",
      "87402     PROFESSIONAL SERVICES NOT ELSEWHERE CLASSIFIED           75.00  \n",
      "\n",
      "---------------------------\n",
      "\n",
      "                      Vendor  \\\n",
      "0                      NACAS   \n",
      "1             SHERATON HOTEL   \n",
      "2             SEARS.COM 9300   \n",
      "3             WAL-MART #0137   \n",
      "4             STAPLES DIRECT   \n",
      "5  KYOCERA DOCUMENT SOLUTION   \n",
      "6             WAL-MART #0137   \n",
      "7            DAYLIGHT DONUTS   \n",
      "8       UFIRST  LAUNDRY SVCS   \n",
      "9                  AT&T DATA   \n",
      "\n",
      "                        Merchant Category Code (MCC)  Amount  vendor_mcc_avg  \\\n",
      "0        CHARITABLE AND SOCIAL SERVICE ORGANIZATIONS  890.00          715.56   \n",
      "1                                           SHERATON  368.96          214.38   \n",
      "2  DIRCT MARKETING/DIRCT MARKETERS--NOT ELSEWHERE...  165.82          163.75   \n",
      "3                    GROCERY STORES,AND SUPERMARKETS   96.39           62.41   \n",
      "4  STATIONERY, OFFICE SUPPLIES, PRINTING AND WRIT...  125.96          144.88   \n",
      "5  OFFICE, PHOTOGRAPHIC, PHOTOCOPY, AND MICROFILM...  394.28          437.72   \n",
      "6                    GROCERY STORES,AND SUPERMARKETS   19.87           62.41   \n",
      "7                              FAST FOOD RESTAURANTS   10.10           37.33   \n",
      "8  MENS, WOMENS AND CHILDRENS UNIFORMS AND COMMER...  142.60           56.36   \n",
      "9                         TELECOMMUNICATION SERVICES   29.99           28.33   \n",
      "\n",
      "   ratio_to_vendor_mcc_avg  \n",
      "0                     1.24  \n",
      "1                     1.72  \n",
      "2                     1.01  \n",
      "3                     1.54  \n",
      "4                     0.87  \n",
      "5                     0.90  \n",
      "6                     0.32  \n",
      "7                     0.27  \n",
      "8                     2.53  \n",
      "9                     1.06  \n",
      "\n",
      "---------------------------\n",
      "\n",
      "count                   442,458.00\n",
      "mean                          0.99\n",
      "std          93,976,800,823,361.38\n",
      "min     -18,045,360,756,920,156.00\n",
      "25%                           0.28\n",
      "50%                           0.79\n",
      "75%                           1.03\n",
      "max      54,136,082,270,760,472.00\n",
      "Name: ratio_to_vendor_mcc_avg, dtype: float64\n"
     ]
    }
   ],
   "source": [
    "# Compute average Amount for each (Vendor, MCC) combination\n",
    "vendor_mcc_avg = (\n",
    "    df\n",
    "    .groupby(['Vendor', 'Merchant Category Code (MCC)'])['Amount']\n",
    "    .mean()\n",
    "    .reset_index(name='vendor_mcc_avg')\n",
    "    .sort_values(by=['Vendor', 'Merchant Category Code (MCC)'], ascending=False)\n",
    ")\n",
    "\n",
    "print(vendor_mcc_avg.head(10))\n",
    "\n",
    "print(\"\\n---------------------------\\n\")\n",
    "\n",
    "# Merge the average back onto the original DataFrame\n",
    "df1 = df.merge(\n",
    "    vendor_mcc_avg,\n",
    "    on=['Vendor', 'Merchant Category Code (MCC)'],\n",
    "    how='left'\n",
    ")\n",
    "\n",
    "# Compute the ratio of each transaction to its group average\n",
    "df1['ratio_to_vendor_mcc_avg'] = np.where(df1['vendor_mcc_avg'] == 0, 0, df1['Amount'] / df1['vendor_mcc_avg'])\n",
    "\n",
    "# Inspect the results\n",
    "print(\n",
    "    df1[\n",
    "        ['Vendor', 'Merchant Category Code (MCC)', 'Amount', 'vendor_mcc_avg', 'ratio_to_vendor_mcc_avg']\n",
    "    ].head(10)\n",
    ")\n",
    "\n",
    "print(\"\\n---------------------------\\n\")\n",
    "\n",
    "print(df1['ratio_to_vendor_mcc_avg'].describe())"
   ]
  },
  {
   "cell_type": "markdown",
   "id": "5eae632a",
   "metadata": {},
   "source": [
    "Interestingly there are some transactions that have a very high and very low ratio of transaction amount to the average transaction amount for that merchant and MCC code. This could indicate potential anomalies or unusual spending patterns."
   ]
  },
  {
   "cell_type": "code",
   "execution_count": 15,
   "id": "acd27f34",
   "metadata": {},
   "outputs": [
    {
     "data": {
      "application/vnd.plotly.v1+json": {
       "config": {
        "plotlyServerURL": "https://plot.ly"
       },
       "data": [
        {
         "hovertemplate": "Ratio Percentile Bin=%{x}<br>Record Count=%{y}<extra></extra>",
         "legendgroup": "",
         "marker": {
          "color": "#636efa",
          "pattern": {
           "shape": ""
          }
         },
         "name": "",
         "orientation": "v",
         "showlegend": false,
         "textposition": "auto",
         "type": "bar",
         "x": [
          "0.0000–0.0100%",
          "0.0100–0.0500%",
          "0.0500–1.0000%",
          "1.0000–5.0000%",
          "5.0000–20.0000%",
          "20.0000–50.0000%",
          "50.0000–80.0000%",
          "80.0000–95.0000%",
          "95.0000–99.0000%",
          "99.0000–99.9900%",
          "99.9900–99.9950%",
          "99.9950–100.0000%"
         ],
         "xaxis": "x",
         "y": {
          "bdata": "LQAAALEAAABrEAAAIkUAAEEDAQCCBgIAgAYCAEEDAQAiRQAAHBEAABYAAAAXAAAA",
          "dtype": "i4"
         },
         "yaxis": "y"
        }
       ],
       "layout": {
        "barmode": "relative",
        "legend": {
         "tracegroupgap": 0
        },
        "template": {
         "data": {
          "bar": [
           {
            "error_x": {
             "color": "#2a3f5f"
            },
            "error_y": {
             "color": "#2a3f5f"
            },
            "marker": {
             "line": {
              "color": "white",
              "width": 0.5
             },
             "pattern": {
              "fillmode": "overlay",
              "size": 10,
              "solidity": 0.2
             }
            },
            "type": "bar"
           }
          ],
          "barpolar": [
           {
            "marker": {
             "line": {
              "color": "white",
              "width": 0.5
             },
             "pattern": {
              "fillmode": "overlay",
              "size": 10,
              "solidity": 0.2
             }
            },
            "type": "barpolar"
           }
          ],
          "carpet": [
           {
            "aaxis": {
             "endlinecolor": "#2a3f5f",
             "gridcolor": "#C8D4E3",
             "linecolor": "#C8D4E3",
             "minorgridcolor": "#C8D4E3",
             "startlinecolor": "#2a3f5f"
            },
            "baxis": {
             "endlinecolor": "#2a3f5f",
             "gridcolor": "#C8D4E3",
             "linecolor": "#C8D4E3",
             "minorgridcolor": "#C8D4E3",
             "startlinecolor": "#2a3f5f"
            },
            "type": "carpet"
           }
          ],
          "choropleth": [
           {
            "colorbar": {
             "outlinewidth": 0,
             "ticks": ""
            },
            "type": "choropleth"
           }
          ],
          "contour": [
           {
            "colorbar": {
             "outlinewidth": 0,
             "ticks": ""
            },
            "colorscale": [
             [
              0,
              "#0d0887"
             ],
             [
              0.1111111111111111,
              "#46039f"
             ],
             [
              0.2222222222222222,
              "#7201a8"
             ],
             [
              0.3333333333333333,
              "#9c179e"
             ],
             [
              0.4444444444444444,
              "#bd3786"
             ],
             [
              0.5555555555555556,
              "#d8576b"
             ],
             [
              0.6666666666666666,
              "#ed7953"
             ],
             [
              0.7777777777777778,
              "#fb9f3a"
             ],
             [
              0.8888888888888888,
              "#fdca26"
             ],
             [
              1,
              "#f0f921"
             ]
            ],
            "type": "contour"
           }
          ],
          "contourcarpet": [
           {
            "colorbar": {
             "outlinewidth": 0,
             "ticks": ""
            },
            "type": "contourcarpet"
           }
          ],
          "heatmap": [
           {
            "colorbar": {
             "outlinewidth": 0,
             "ticks": ""
            },
            "colorscale": [
             [
              0,
              "#0d0887"
             ],
             [
              0.1111111111111111,
              "#46039f"
             ],
             [
              0.2222222222222222,
              "#7201a8"
             ],
             [
              0.3333333333333333,
              "#9c179e"
             ],
             [
              0.4444444444444444,
              "#bd3786"
             ],
             [
              0.5555555555555556,
              "#d8576b"
             ],
             [
              0.6666666666666666,
              "#ed7953"
             ],
             [
              0.7777777777777778,
              "#fb9f3a"
             ],
             [
              0.8888888888888888,
              "#fdca26"
             ],
             [
              1,
              "#f0f921"
             ]
            ],
            "type": "heatmap"
           }
          ],
          "histogram": [
           {
            "marker": {
             "pattern": {
              "fillmode": "overlay",
              "size": 10,
              "solidity": 0.2
             }
            },
            "type": "histogram"
           }
          ],
          "histogram2d": [
           {
            "colorbar": {
             "outlinewidth": 0,
             "ticks": ""
            },
            "colorscale": [
             [
              0,
              "#0d0887"
             ],
             [
              0.1111111111111111,
              "#46039f"
             ],
             [
              0.2222222222222222,
              "#7201a8"
             ],
             [
              0.3333333333333333,
              "#9c179e"
             ],
             [
              0.4444444444444444,
              "#bd3786"
             ],
             [
              0.5555555555555556,
              "#d8576b"
             ],
             [
              0.6666666666666666,
              "#ed7953"
             ],
             [
              0.7777777777777778,
              "#fb9f3a"
             ],
             [
              0.8888888888888888,
              "#fdca26"
             ],
             [
              1,
              "#f0f921"
             ]
            ],
            "type": "histogram2d"
           }
          ],
          "histogram2dcontour": [
           {
            "colorbar": {
             "outlinewidth": 0,
             "ticks": ""
            },
            "colorscale": [
             [
              0,
              "#0d0887"
             ],
             [
              0.1111111111111111,
              "#46039f"
             ],
             [
              0.2222222222222222,
              "#7201a8"
             ],
             [
              0.3333333333333333,
              "#9c179e"
             ],
             [
              0.4444444444444444,
              "#bd3786"
             ],
             [
              0.5555555555555556,
              "#d8576b"
             ],
             [
              0.6666666666666666,
              "#ed7953"
             ],
             [
              0.7777777777777778,
              "#fb9f3a"
             ],
             [
              0.8888888888888888,
              "#fdca26"
             ],
             [
              1,
              "#f0f921"
             ]
            ],
            "type": "histogram2dcontour"
           }
          ],
          "mesh3d": [
           {
            "colorbar": {
             "outlinewidth": 0,
             "ticks": ""
            },
            "type": "mesh3d"
           }
          ],
          "parcoords": [
           {
            "line": {
             "colorbar": {
              "outlinewidth": 0,
              "ticks": ""
             }
            },
            "type": "parcoords"
           }
          ],
          "pie": [
           {
            "automargin": true,
            "type": "pie"
           }
          ],
          "scatter": [
           {
            "fillpattern": {
             "fillmode": "overlay",
             "size": 10,
             "solidity": 0.2
            },
            "type": "scatter"
           }
          ],
          "scatter3d": [
           {
            "line": {
             "colorbar": {
              "outlinewidth": 0,
              "ticks": ""
             }
            },
            "marker": {
             "colorbar": {
              "outlinewidth": 0,
              "ticks": ""
             }
            },
            "type": "scatter3d"
           }
          ],
          "scattercarpet": [
           {
            "marker": {
             "colorbar": {
              "outlinewidth": 0,
              "ticks": ""
             }
            },
            "type": "scattercarpet"
           }
          ],
          "scattergeo": [
           {
            "marker": {
             "colorbar": {
              "outlinewidth": 0,
              "ticks": ""
             }
            },
            "type": "scattergeo"
           }
          ],
          "scattergl": [
           {
            "marker": {
             "colorbar": {
              "outlinewidth": 0,
              "ticks": ""
             }
            },
            "type": "scattergl"
           }
          ],
          "scattermap": [
           {
            "marker": {
             "colorbar": {
              "outlinewidth": 0,
              "ticks": ""
             }
            },
            "type": "scattermap"
           }
          ],
          "scattermapbox": [
           {
            "marker": {
             "colorbar": {
              "outlinewidth": 0,
              "ticks": ""
             }
            },
            "type": "scattermapbox"
           }
          ],
          "scatterpolar": [
           {
            "marker": {
             "colorbar": {
              "outlinewidth": 0,
              "ticks": ""
             }
            },
            "type": "scatterpolar"
           }
          ],
          "scatterpolargl": [
           {
            "marker": {
             "colorbar": {
              "outlinewidth": 0,
              "ticks": ""
             }
            },
            "type": "scatterpolargl"
           }
          ],
          "scatterternary": [
           {
            "marker": {
             "colorbar": {
              "outlinewidth": 0,
              "ticks": ""
             }
            },
            "type": "scatterternary"
           }
          ],
          "surface": [
           {
            "colorbar": {
             "outlinewidth": 0,
             "ticks": ""
            },
            "colorscale": [
             [
              0,
              "#0d0887"
             ],
             [
              0.1111111111111111,
              "#46039f"
             ],
             [
              0.2222222222222222,
              "#7201a8"
             ],
             [
              0.3333333333333333,
              "#9c179e"
             ],
             [
              0.4444444444444444,
              "#bd3786"
             ],
             [
              0.5555555555555556,
              "#d8576b"
             ],
             [
              0.6666666666666666,
              "#ed7953"
             ],
             [
              0.7777777777777778,
              "#fb9f3a"
             ],
             [
              0.8888888888888888,
              "#fdca26"
             ],
             [
              1,
              "#f0f921"
             ]
            ],
            "type": "surface"
           }
          ],
          "table": [
           {
            "cells": {
             "fill": {
              "color": "#EBF0F8"
             },
             "line": {
              "color": "white"
             }
            },
            "header": {
             "fill": {
              "color": "#C8D4E3"
             },
             "line": {
              "color": "white"
             }
            },
            "type": "table"
           }
          ]
         },
         "layout": {
          "annotationdefaults": {
           "arrowcolor": "#2a3f5f",
           "arrowhead": 0,
           "arrowwidth": 1
          },
          "autotypenumbers": "strict",
          "coloraxis": {
           "colorbar": {
            "outlinewidth": 0,
            "ticks": ""
           }
          },
          "colorscale": {
           "diverging": [
            [
             0,
             "#8e0152"
            ],
            [
             0.1,
             "#c51b7d"
            ],
            [
             0.2,
             "#de77ae"
            ],
            [
             0.3,
             "#f1b6da"
            ],
            [
             0.4,
             "#fde0ef"
            ],
            [
             0.5,
             "#f7f7f7"
            ],
            [
             0.6,
             "#e6f5d0"
            ],
            [
             0.7,
             "#b8e186"
            ],
            [
             0.8,
             "#7fbc41"
            ],
            [
             0.9,
             "#4d9221"
            ],
            [
             1,
             "#276419"
            ]
           ],
           "sequential": [
            [
             0,
             "#0d0887"
            ],
            [
             0.1111111111111111,
             "#46039f"
            ],
            [
             0.2222222222222222,
             "#7201a8"
            ],
            [
             0.3333333333333333,
             "#9c179e"
            ],
            [
             0.4444444444444444,
             "#bd3786"
            ],
            [
             0.5555555555555556,
             "#d8576b"
            ],
            [
             0.6666666666666666,
             "#ed7953"
            ],
            [
             0.7777777777777778,
             "#fb9f3a"
            ],
            [
             0.8888888888888888,
             "#fdca26"
            ],
            [
             1,
             "#f0f921"
            ]
           ],
           "sequentialminus": [
            [
             0,
             "#0d0887"
            ],
            [
             0.1111111111111111,
             "#46039f"
            ],
            [
             0.2222222222222222,
             "#7201a8"
            ],
            [
             0.3333333333333333,
             "#9c179e"
            ],
            [
             0.4444444444444444,
             "#bd3786"
            ],
            [
             0.5555555555555556,
             "#d8576b"
            ],
            [
             0.6666666666666666,
             "#ed7953"
            ],
            [
             0.7777777777777778,
             "#fb9f3a"
            ],
            [
             0.8888888888888888,
             "#fdca26"
            ],
            [
             1,
             "#f0f921"
            ]
           ]
          },
          "colorway": [
           "#636efa",
           "#EF553B",
           "#00cc96",
           "#ab63fa",
           "#FFA15A",
           "#19d3f3",
           "#FF6692",
           "#B6E880",
           "#FF97FF",
           "#FECB52"
          ],
          "font": {
           "color": "#2a3f5f"
          },
          "geo": {
           "bgcolor": "white",
           "lakecolor": "white",
           "landcolor": "white",
           "showlakes": true,
           "showland": true,
           "subunitcolor": "#C8D4E3"
          },
          "hoverlabel": {
           "align": "left"
          },
          "hovermode": "closest",
          "mapbox": {
           "style": "light"
          },
          "paper_bgcolor": "white",
          "plot_bgcolor": "white",
          "polar": {
           "angularaxis": {
            "gridcolor": "#EBF0F8",
            "linecolor": "#EBF0F8",
            "ticks": ""
           },
           "bgcolor": "white",
           "radialaxis": {
            "gridcolor": "#EBF0F8",
            "linecolor": "#EBF0F8",
            "ticks": ""
           }
          },
          "scene": {
           "xaxis": {
            "backgroundcolor": "white",
            "gridcolor": "#DFE8F3",
            "gridwidth": 2,
            "linecolor": "#EBF0F8",
            "showbackground": true,
            "ticks": "",
            "zerolinecolor": "#EBF0F8"
           },
           "yaxis": {
            "backgroundcolor": "white",
            "gridcolor": "#DFE8F3",
            "gridwidth": 2,
            "linecolor": "#EBF0F8",
            "showbackground": true,
            "ticks": "",
            "zerolinecolor": "#EBF0F8"
           },
           "zaxis": {
            "backgroundcolor": "white",
            "gridcolor": "#DFE8F3",
            "gridwidth": 2,
            "linecolor": "#EBF0F8",
            "showbackground": true,
            "ticks": "",
            "zerolinecolor": "#EBF0F8"
           }
          },
          "shapedefaults": {
           "line": {
            "color": "#2a3f5f"
           }
          },
          "ternary": {
           "aaxis": {
            "gridcolor": "#DFE8F3",
            "linecolor": "#A2B1C6",
            "ticks": ""
           },
           "baxis": {
            "gridcolor": "#DFE8F3",
            "linecolor": "#A2B1C6",
            "ticks": ""
           },
           "bgcolor": "white",
           "caxis": {
            "gridcolor": "#DFE8F3",
            "linecolor": "#A2B1C6",
            "ticks": ""
           }
          },
          "title": {
           "x": 0.05
          },
          "xaxis": {
           "automargin": true,
           "gridcolor": "#EBF0F8",
           "linecolor": "#EBF0F8",
           "ticks": "",
           "title": {
            "standoff": 15
           },
           "zerolinecolor": "#EBF0F8",
           "zerolinewidth": 2
          },
          "yaxis": {
           "automargin": true,
           "gridcolor": "#EBF0F8",
           "linecolor": "#EBF0F8",
           "ticks": "",
           "title": {
            "standoff": 15
           },
           "zerolinecolor": "#EBF0F8",
           "zerolinewidth": 2
          }
         }
        },
        "title": {
         "text": "Transaction Count by Ratio-to-Average Percentile Bins"
        },
        "xaxis": {
         "anchor": "y",
         "domain": [
          0,
          1
         ],
         "tickangle": -45,
         "title": {
          "text": "Ratio Percentile Bin"
         }
        },
        "yaxis": {
         "anchor": "x",
         "domain": [
          0,
          1
         ],
         "title": {
          "text": "Record Count"
         }
        }
       }
      }
     },
     "metadata": {},
     "output_type": "display_data"
    },
    {
     "name": "stdout",
     "output_type": "stream",
     "text": [
      "\n",
      "---------------------------\n",
      "\n",
      "The ratio bins and their statistics in the ratio to vendor mcc average:\n"
     ]
    },
    {
     "name": "stderr",
     "output_type": "stream",
     "text": [
      "/var/folders/sb/pvs4j23j1z74y7s6nw77zrwr0000gn/T/ipykernel_3936/1958716704.py:42: FutureWarning:\n",
      "\n",
      "The default of observed=False is deprecated and will be changed to True in a future version of pandas. Pass observed=False to retain current behavior or observed=True to adopt the future default and silence this warning.\n",
      "\n"
     ]
    },
    {
     "data": {
      "text/html": [
       "<div>\n",
       "<style scoped>\n",
       "    .dataframe tbody tr th:only-of-type {\n",
       "        vertical-align: middle;\n",
       "    }\n",
       "\n",
       "    .dataframe tbody tr th {\n",
       "        vertical-align: top;\n",
       "    }\n",
       "\n",
       "    .dataframe thead th {\n",
       "        text-align: right;\n",
       "    }\n",
       "</style>\n",
       "<table border=\"1\" class=\"dataframe\">\n",
       "  <thead>\n",
       "    <tr style=\"text-align: right;\">\n",
       "      <th></th>\n",
       "      <th>ratio_bin</th>\n",
       "      <th>count</th>\n",
       "      <th>min</th>\n",
       "      <th>max</th>\n",
       "    </tr>\n",
       "  </thead>\n",
       "  <tbody>\n",
       "    <tr>\n",
       "      <th>0</th>\n",
       "      <td>0.0000–0.0100%</td>\n",
       "      <td>45</td>\n",
       "      <td>-18,045,360,756,920,156.00</td>\n",
       "      <td>-30.05</td>\n",
       "    </tr>\n",
       "    <tr>\n",
       "      <th>1</th>\n",
       "      <td>0.0100–0.0500%</td>\n",
       "      <td>177</td>\n",
       "      <td>-29.19</td>\n",
       "      <td>-7.67</td>\n",
       "    </tr>\n",
       "    <tr>\n",
       "      <th>2</th>\n",
       "      <td>0.0500–1.0000%</td>\n",
       "      <td>4203</td>\n",
       "      <td>-7.63</td>\n",
       "      <td>-0.47</td>\n",
       "    </tr>\n",
       "    <tr>\n",
       "      <th>3</th>\n",
       "      <td>1.0000–5.0000%</td>\n",
       "      <td>17698</td>\n",
       "      <td>-0.47</td>\n",
       "      <td>0.03</td>\n",
       "    </tr>\n",
       "    <tr>\n",
       "      <th>4</th>\n",
       "      <td>5.0000–20.0000%</td>\n",
       "      <td>66369</td>\n",
       "      <td>0.03</td>\n",
       "      <td>0.21</td>\n",
       "    </tr>\n",
       "    <tr>\n",
       "      <th>5</th>\n",
       "      <td>20.0000–50.0000%</td>\n",
       "      <td>132738</td>\n",
       "      <td>0.21</td>\n",
       "      <td>0.79</td>\n",
       "    </tr>\n",
       "    <tr>\n",
       "      <th>6</th>\n",
       "      <td>50.0000–80.0000%</td>\n",
       "      <td>132736</td>\n",
       "      <td>0.79</td>\n",
       "      <td>1.20</td>\n",
       "    </tr>\n",
       "    <tr>\n",
       "      <th>7</th>\n",
       "      <td>80.0000–95.0000%</td>\n",
       "      <td>66369</td>\n",
       "      <td>1.20</td>\n",
       "      <td>2.96</td>\n",
       "    </tr>\n",
       "    <tr>\n",
       "      <th>8</th>\n",
       "      <td>95.0000–99.0000%</td>\n",
       "      <td>17698</td>\n",
       "      <td>2.96</td>\n",
       "      <td>6.98</td>\n",
       "    </tr>\n",
       "    <tr>\n",
       "      <th>9</th>\n",
       "      <td>99.0000–99.9900%</td>\n",
       "      <td>4380</td>\n",
       "      <td>6.98</td>\n",
       "      <td>59.17</td>\n",
       "    </tr>\n",
       "    <tr>\n",
       "      <th>10</th>\n",
       "      <td>99.9900–99.9950%</td>\n",
       "      <td>22</td>\n",
       "      <td>59.76</td>\n",
       "      <td>89.54</td>\n",
       "    </tr>\n",
       "    <tr>\n",
       "      <th>11</th>\n",
       "      <td>99.9950–100.0000%</td>\n",
       "      <td>23</td>\n",
       "      <td>90.03</td>\n",
       "      <td>54,136,082,270,760,472.00</td>\n",
       "    </tr>\n",
       "  </tbody>\n",
       "</table>\n",
       "</div>"
      ],
      "text/plain": [
       "            ratio_bin   count                        min  \\\n",
       "0      0.0000–0.0100%      45 -18,045,360,756,920,156.00   \n",
       "1      0.0100–0.0500%     177                     -29.19   \n",
       "2      0.0500–1.0000%    4203                      -7.63   \n",
       "3      1.0000–5.0000%   17698                      -0.47   \n",
       "4     5.0000–20.0000%   66369                       0.03   \n",
       "5    20.0000–50.0000%  132738                       0.21   \n",
       "6    50.0000–80.0000%  132736                       0.79   \n",
       "7    80.0000–95.0000%   66369                       1.20   \n",
       "8    95.0000–99.0000%   17698                       2.96   \n",
       "9    99.0000–99.9900%    4380                       6.98   \n",
       "10   99.9900–99.9950%      22                      59.76   \n",
       "11  99.9950–100.0000%      23                      90.03   \n",
       "\n",
       "                         max  \n",
       "0                     -30.05  \n",
       "1                      -7.67  \n",
       "2                      -0.47  \n",
       "3                       0.03  \n",
       "4                       0.21  \n",
       "5                       0.79  \n",
       "6                       1.20  \n",
       "7                       2.96  \n",
       "8                       6.98  \n",
       "9                      59.17  \n",
       "10                     89.54  \n",
       "11 54,136,082,270,760,472.00  "
      ]
     },
     "metadata": {},
     "output_type": "display_data"
    },
    {
     "name": "stdout",
     "output_type": "stream",
     "text": [
      "\n",
      "---------------------------\n",
      "\n",
      "The extremely low ratios:\n"
     ]
    },
    {
     "data": {
      "text/html": [
       "<div>\n",
       "<style scoped>\n",
       "    .dataframe tbody tr th:only-of-type {\n",
       "        vertical-align: middle;\n",
       "    }\n",
       "\n",
       "    .dataframe tbody tr th {\n",
       "        vertical-align: top;\n",
       "    }\n",
       "\n",
       "    .dataframe thead th {\n",
       "        text-align: right;\n",
       "    }\n",
       "</style>\n",
       "<table border=\"1\" class=\"dataframe\">\n",
       "  <thead>\n",
       "    <tr style=\"text-align: right;\">\n",
       "      <th></th>\n",
       "      <th>Year-Month</th>\n",
       "      <th>Agency Number</th>\n",
       "      <th>Agency Name</th>\n",
       "      <th>Cardholder Last Name</th>\n",
       "      <th>Cardholder First Initial</th>\n",
       "      <th>Description</th>\n",
       "      <th>Amount</th>\n",
       "      <th>Vendor</th>\n",
       "      <th>Transaction Date</th>\n",
       "      <th>Posted Date</th>\n",
       "      <th>Merchant Category Code (MCC)</th>\n",
       "      <th>vendor_mcc_avg</th>\n",
       "      <th>ratio_to_vendor_mcc_avg</th>\n",
       "      <th>ratio_bin</th>\n",
       "    </tr>\n",
       "  </thead>\n",
       "  <tbody>\n",
       "    <tr>\n",
       "      <th>311966</th>\n",
       "      <td>2014-03-01</td>\n",
       "      <td>53000</td>\n",
       "      <td>OKLA. PANHANDLE STATE UNIV.</td>\n",
       "      <td>Mauldin</td>\n",
       "      <td>D</td>\n",
       "      <td>GENERAL PURCHASE</td>\n",
       "      <td>-256.44</td>\n",
       "      <td>TRAVRES HotelPlanner</td>\n",
       "      <td>2014-03-24</td>\n",
       "      <td>2014-03-25</td>\n",
       "      <td>TRAVEL AGENCIES</td>\n",
       "      <td>0.00</td>\n",
       "      <td>-18,045,360,756,920,156.00</td>\n",
       "      <td>0.0000–0.0100%</td>\n",
       "    </tr>\n",
       "    <tr>\n",
       "      <th>311967</th>\n",
       "      <td>2014-03-01</td>\n",
       "      <td>53000</td>\n",
       "      <td>OKLA. PANHANDLE STATE UNIV.</td>\n",
       "      <td>Mauldin</td>\n",
       "      <td>D</td>\n",
       "      <td>GENERAL PURCHASE</td>\n",
       "      <td>-256.44</td>\n",
       "      <td>TRAVRES HotelPlanner</td>\n",
       "      <td>2014-03-24</td>\n",
       "      <td>2014-03-25</td>\n",
       "      <td>TRAVEL AGENCIES</td>\n",
       "      <td>0.00</td>\n",
       "      <td>-18,045,360,756,920,156.00</td>\n",
       "      <td>0.0000–0.0100%</td>\n",
       "    </tr>\n",
       "    <tr>\n",
       "      <th>311965</th>\n",
       "      <td>2014-03-01</td>\n",
       "      <td>53000</td>\n",
       "      <td>OKLA. PANHANDLE STATE UNIV.</td>\n",
       "      <td>Mauldin</td>\n",
       "      <td>D</td>\n",
       "      <td>GENERAL PURCHASE</td>\n",
       "      <td>-256.44</td>\n",
       "      <td>TRAVRES HotelPlanner</td>\n",
       "      <td>2014-03-24</td>\n",
       "      <td>2014-03-25</td>\n",
       "      <td>TRAVEL AGENCIES</td>\n",
       "      <td>0.00</td>\n",
       "      <td>-18,045,360,756,920,156.00</td>\n",
       "      <td>0.0000–0.0100%</td>\n",
       "    </tr>\n",
       "    <tr>\n",
       "      <th>422223</th>\n",
       "      <td>2014-06-01</td>\n",
       "      <td>76000</td>\n",
       "      <td>UNIVERSITY OF OKLAHOMA</td>\n",
       "      <td>MCCASKILL</td>\n",
       "      <td>J</td>\n",
       "      <td>GENERAL PURCHASE</td>\n",
       "      <td>-6.63</td>\n",
       "      <td>GODADDY.COM CANADA</td>\n",
       "      <td>2014-06-19</td>\n",
       "      <td>2014-06-20</td>\n",
       "      <td>COMPUTER NETWORK/INFORMATION SERVICES</td>\n",
       "      <td>0.01</td>\n",
       "      <td>-663.00</td>\n",
       "      <td>0.0000–0.0100%</td>\n",
       "    </tr>\n",
       "    <tr>\n",
       "      <th>385422</th>\n",
       "      <td>2014-06-01</td>\n",
       "      <td>1000</td>\n",
       "      <td>OKLAHOMA STATE UNIVERSITY</td>\n",
       "      <td>Reece</td>\n",
       "      <td>S</td>\n",
       "      <td>GENERAL PURCHASE</td>\n",
       "      <td>-1,876.34</td>\n",
       "      <td>BLUEBYTE TRADING LLC</td>\n",
       "      <td>2014-06-01</td>\n",
       "      <td>2014-06-03</td>\n",
       "      <td>MISCELLANEOUS AND SPECIALTY RETAIL STORES</td>\n",
       "      <td>2.84</td>\n",
       "      <td>-660.68</td>\n",
       "      <td>0.0000–0.0100%</td>\n",
       "    </tr>\n",
       "  </tbody>\n",
       "</table>\n",
       "</div>"
      ],
      "text/plain": [
       "       Year-Month  Agency Number                  Agency Name  \\\n",
       "311966 2014-03-01          53000  OKLA. PANHANDLE STATE UNIV.   \n",
       "311967 2014-03-01          53000  OKLA. PANHANDLE STATE UNIV.   \n",
       "311965 2014-03-01          53000  OKLA. PANHANDLE STATE UNIV.   \n",
       "422223 2014-06-01          76000       UNIVERSITY OF OKLAHOMA   \n",
       "385422 2014-06-01           1000    OKLAHOMA STATE UNIVERSITY   \n",
       "\n",
       "       Cardholder Last Name Cardholder First Initial       Description  \\\n",
       "311966              Mauldin                        D  GENERAL PURCHASE   \n",
       "311967              Mauldin                        D  GENERAL PURCHASE   \n",
       "311965              Mauldin                        D  GENERAL PURCHASE   \n",
       "422223            MCCASKILL                        J  GENERAL PURCHASE   \n",
       "385422                Reece                        S  GENERAL PURCHASE   \n",
       "\n",
       "          Amount                Vendor Transaction Date Posted Date  \\\n",
       "311966   -256.44  TRAVRES HotelPlanner       2014-03-24  2014-03-25   \n",
       "311967   -256.44  TRAVRES HotelPlanner       2014-03-24  2014-03-25   \n",
       "311965   -256.44  TRAVRES HotelPlanner       2014-03-24  2014-03-25   \n",
       "422223     -6.63    GODADDY.COM CANADA       2014-06-19  2014-06-20   \n",
       "385422 -1,876.34  BLUEBYTE TRADING LLC       2014-06-01  2014-06-03   \n",
       "\n",
       "                     Merchant Category Code (MCC)  vendor_mcc_avg  \\\n",
       "311966                            TRAVEL AGENCIES            0.00   \n",
       "311967                            TRAVEL AGENCIES            0.00   \n",
       "311965                            TRAVEL AGENCIES            0.00   \n",
       "422223      COMPUTER NETWORK/INFORMATION SERVICES            0.01   \n",
       "385422  MISCELLANEOUS AND SPECIALTY RETAIL STORES            2.84   \n",
       "\n",
       "          ratio_to_vendor_mcc_avg       ratio_bin  \n",
       "311966 -18,045,360,756,920,156.00  0.0000–0.0100%  \n",
       "311967 -18,045,360,756,920,156.00  0.0000–0.0100%  \n",
       "311965 -18,045,360,756,920,156.00  0.0000–0.0100%  \n",
       "422223                    -663.00  0.0000–0.0100%  \n",
       "385422                    -660.68  0.0000–0.0100%  "
      ]
     },
     "metadata": {},
     "output_type": "display_data"
    },
    {
     "name": "stdout",
     "output_type": "stream",
     "text": [
      "\n",
      "---------------------------\n",
      "\n",
      "The extremely high ratios:\n"
     ]
    },
    {
     "data": {
      "text/html": [
       "<div>\n",
       "<style scoped>\n",
       "    .dataframe tbody tr th:only-of-type {\n",
       "        vertical-align: middle;\n",
       "    }\n",
       "\n",
       "    .dataframe tbody tr th {\n",
       "        vertical-align: top;\n",
       "    }\n",
       "\n",
       "    .dataframe thead th {\n",
       "        text-align: right;\n",
       "    }\n",
       "</style>\n",
       "<table border=\"1\" class=\"dataframe\">\n",
       "  <thead>\n",
       "    <tr style=\"text-align: right;\">\n",
       "      <th></th>\n",
       "      <th>Year-Month</th>\n",
       "      <th>Agency Number</th>\n",
       "      <th>Agency Name</th>\n",
       "      <th>Cardholder Last Name</th>\n",
       "      <th>Cardholder First Initial</th>\n",
       "      <th>Description</th>\n",
       "      <th>Amount</th>\n",
       "      <th>Vendor</th>\n",
       "      <th>Transaction Date</th>\n",
       "      <th>Posted Date</th>\n",
       "      <th>Merchant Category Code (MCC)</th>\n",
       "      <th>vendor_mcc_avg</th>\n",
       "      <th>ratio_to_vendor_mcc_avg</th>\n",
       "      <th>ratio_bin</th>\n",
       "    </tr>\n",
       "  </thead>\n",
       "  <tbody>\n",
       "    <tr>\n",
       "      <th>311657</th>\n",
       "      <td>2014-02-01</td>\n",
       "      <td>53000</td>\n",
       "      <td>OKLA. PANHANDLE STATE UNIV.</td>\n",
       "      <td>Mauldin</td>\n",
       "      <td>D</td>\n",
       "      <td>GENERAL PURCHASE</td>\n",
       "      <td>769.32</td>\n",
       "      <td>TRAVRES HotelPlanner</td>\n",
       "      <td>2014-02-11</td>\n",
       "      <td>2014-02-12</td>\n",
       "      <td>TRAVEL AGENCIES</td>\n",
       "      <td>0.00</td>\n",
       "      <td>54,136,082,270,760,472.00</td>\n",
       "      <td>99.9950–100.0000%</td>\n",
       "    </tr>\n",
       "    <tr>\n",
       "      <th>422221</th>\n",
       "      <td>2014-06-01</td>\n",
       "      <td>76000</td>\n",
       "      <td>UNIVERSITY OF OKLAHOMA</td>\n",
       "      <td>MCCASKILL</td>\n",
       "      <td>J</td>\n",
       "      <td>GENERAL PURCHASE</td>\n",
       "      <td>6.65</td>\n",
       "      <td>GODADDY.COM CANADA</td>\n",
       "      <td>2014-06-19</td>\n",
       "      <td>2014-06-20</td>\n",
       "      <td>COMPUTER NETWORK/INFORMATION SERVICES</td>\n",
       "      <td>0.01</td>\n",
       "      <td>665.00</td>\n",
       "      <td>99.9950–100.0000%</td>\n",
       "    </tr>\n",
       "    <tr>\n",
       "      <th>384436</th>\n",
       "      <td>2014-06-01</td>\n",
       "      <td>1000</td>\n",
       "      <td>OKLAHOMA STATE UNIVERSITY</td>\n",
       "      <td>Reece</td>\n",
       "      <td>S</td>\n",
       "      <td>GENERAL PURCHASE</td>\n",
       "      <td>1,882.02</td>\n",
       "      <td>BLUEBYTE TRADING LLC</td>\n",
       "      <td>2014-05-31</td>\n",
       "      <td>2014-06-02</td>\n",
       "      <td>MISCELLANEOUS AND SPECIALTY RETAIL STORES</td>\n",
       "      <td>2.84</td>\n",
       "      <td>662.68</td>\n",
       "      <td>99.9950–100.0000%</td>\n",
       "    </tr>\n",
       "    <tr>\n",
       "      <th>3659</th>\n",
       "      <td>2013-07-01</td>\n",
       "      <td>1000</td>\n",
       "      <td>OKLAHOMA STATE UNIVERSITY</td>\n",
       "      <td>Brown</td>\n",
       "      <td>P</td>\n",
       "      <td>SHELVINGINDUSTRIAL36X1 NMB</td>\n",
       "      <td>-299.98</td>\n",
       "      <td>OFFICE DEPOT #47</td>\n",
       "      <td>2013-07-03</td>\n",
       "      <td>2013-07-05</td>\n",
       "      <td>STATIONERY,OFFICE AND SCHOOL SUPPLY STORES</td>\n",
       "      <td>-0.69</td>\n",
       "      <td>436.16</td>\n",
       "      <td>99.9950–100.0000%</td>\n",
       "    </tr>\n",
       "    <tr>\n",
       "      <th>80683</th>\n",
       "      <td>2013-08-01</td>\n",
       "      <td>13100</td>\n",
       "      <td>DEPARTMENT OF CORRECTIONS</td>\n",
       "      <td>Bowlin</td>\n",
       "      <td>C</td>\n",
       "      <td>JDCC CHILLER PROJECT- (2) EA</td>\n",
       "      <td>96,190.38</td>\n",
       "      <td>WW GRAINGER</td>\n",
       "      <td>2013-08-28</td>\n",
       "      <td>2013-08-30</td>\n",
       "      <td>INDUSTRIAL SUPPLIES NOT ELSEWHERE CLASSIFIED</td>\n",
       "      <td>421.45</td>\n",
       "      <td>228.24</td>\n",
       "      <td>99.9950–100.0000%</td>\n",
       "    </tr>\n",
       "  </tbody>\n",
       "</table>\n",
       "</div>"
      ],
      "text/plain": [
       "       Year-Month  Agency Number                  Agency Name  \\\n",
       "311657 2014-02-01          53000  OKLA. PANHANDLE STATE UNIV.   \n",
       "422221 2014-06-01          76000       UNIVERSITY OF OKLAHOMA   \n",
       "384436 2014-06-01           1000    OKLAHOMA STATE UNIVERSITY   \n",
       "3659   2013-07-01           1000    OKLAHOMA STATE UNIVERSITY   \n",
       "80683  2013-08-01          13100    DEPARTMENT OF CORRECTIONS   \n",
       "\n",
       "       Cardholder Last Name Cardholder First Initial  \\\n",
       "311657              Mauldin                        D   \n",
       "422221            MCCASKILL                        J   \n",
       "384436                Reece                        S   \n",
       "3659                  Brown                        P   \n",
       "80683                Bowlin                        C   \n",
       "\n",
       "                         Description    Amount                Vendor  \\\n",
       "311657              GENERAL PURCHASE    769.32  TRAVRES HotelPlanner   \n",
       "422221              GENERAL PURCHASE      6.65    GODADDY.COM CANADA   \n",
       "384436              GENERAL PURCHASE  1,882.02  BLUEBYTE TRADING LLC   \n",
       "3659      SHELVINGINDUSTRIAL36X1 NMB   -299.98      OFFICE DEPOT #47   \n",
       "80683   JDCC CHILLER PROJECT- (2) EA 96,190.38           WW GRAINGER   \n",
       "\n",
       "       Transaction Date Posted Date  \\\n",
       "311657       2014-02-11  2014-02-12   \n",
       "422221       2014-06-19  2014-06-20   \n",
       "384436       2014-05-31  2014-06-02   \n",
       "3659         2013-07-03  2013-07-05   \n",
       "80683        2013-08-28  2013-08-30   \n",
       "\n",
       "                        Merchant Category Code (MCC)  vendor_mcc_avg  \\\n",
       "311657                               TRAVEL AGENCIES            0.00   \n",
       "422221         COMPUTER NETWORK/INFORMATION SERVICES            0.01   \n",
       "384436     MISCELLANEOUS AND SPECIALTY RETAIL STORES            2.84   \n",
       "3659      STATIONERY,OFFICE AND SCHOOL SUPPLY STORES           -0.69   \n",
       "80683   INDUSTRIAL SUPPLIES NOT ELSEWHERE CLASSIFIED          421.45   \n",
       "\n",
       "         ratio_to_vendor_mcc_avg          ratio_bin  \n",
       "311657 54,136,082,270,760,472.00  99.9950–100.0000%  \n",
       "422221                    665.00  99.9950–100.0000%  \n",
       "384436                    662.68  99.9950–100.0000%  \n",
       "3659                      436.16  99.9950–100.0000%  \n",
       "80683                     228.24  99.9950–100.0000%  "
      ]
     },
     "metadata": {},
     "output_type": "display_data"
    }
   ],
   "source": [
    "# Define your percentiles\n",
    "percentiles = [0, 0.0001, 0.0005, 0.01, 0.05, 0.2, 0.5, 0.8, 0.95, 0.99, 0.9999, 0.99995, 1.0]\n",
    "\n",
    "# Generate human-readable bin labels\n",
    "bin_labels = [\n",
    "    f\"{percentiles[i]*100:.4f}–{percentiles[i+1]*100:.4f}%\"\n",
    "    for i in range(len(percentiles) - 1)\n",
    "]\n",
    "\n",
    "# Create the binned variable on df1\n",
    "df1['ratio_bin'] = pd.qcut(\n",
    "    df1['ratio_to_vendor_mcc_avg'],\n",
    "    q=percentiles,\n",
    "    labels=bin_labels\n",
    ")\n",
    "\n",
    "# Count number of records in each bin\n",
    "bin_counts = (\n",
    "    df1['ratio_bin']\n",
    "    .value_counts()\n",
    "    .sort_index()\n",
    "    .reset_index(name='count')\n",
    "    .rename(columns={'index': 'ratio_bin'})\n",
    ")\n",
    "\n",
    "# Plot with Plotly\n",
    "fig = px.bar(\n",
    "    bin_counts,\n",
    "    x='ratio_bin',\n",
    "    y='count',\n",
    "    title='Transaction Count by Ratio-to-Average Percentile Bins',\n",
    "    labels={'ratio_bin': 'Ratio Percentile Bin', 'count': 'Record Count'},\n",
    "    template='plotly_white'\n",
    ")\n",
    "\n",
    "fig.update_layout(xaxis_tickangle=-45)\n",
    "fig.show()\n",
    "\n",
    "\n",
    "print(\"\\n---------------------------\\n\")\n",
    "print(\"The ratio bins and their statistics in the ratio to vendor mcc average:\")\n",
    "display(df1.groupby('ratio_bin')['ratio_to_vendor_mcc_avg'].agg(['count', 'min', 'max']).reset_index())\n",
    "\n",
    "print(\"\\n---------------------------\\n\")\n",
    "print(\"The extremely low ratios:\")\n",
    "display(df1[df1['ratio_to_vendor_mcc_avg'] < 0].sort_values('ratio_to_vendor_mcc_avg', ascending=True).head())\n",
    "\n",
    "print(\"\\n---------------------------\\n\")\n",
    "print(\"The extremely high ratios:\")\n",
    "display(df1[df1['ratio_to_vendor_mcc_avg'] > 100].sort_values('ratio_to_vendor_mcc_avg', ascending=False).head())"
   ]
  },
  {
   "cell_type": "markdown",
   "id": "ac441323",
   "metadata": {},
   "source": [
    "From the above sample we can see how many transactions are in the low and high ratio categories. \n",
    "Turns out the low and high ratio transactions are because the average vendor MCC amount is 0. This is odd because we have specifically set if the vendor mcc is 0, then the ratio is also 0. This issue is likely due to rounding errors (Python is showing us these numbers are 0 but are actually very close to 0)."
   ]
  },
  {
   "cell_type": "code",
   "execution_count": 16,
   "id": "c7ccb045",
   "metadata": {},
   "outputs": [
    {
     "data": {
      "text/html": [
       "<div>\n",
       "<style scoped>\n",
       "    .dataframe tbody tr th:only-of-type {\n",
       "        vertical-align: middle;\n",
       "    }\n",
       "\n",
       "    .dataframe tbody tr th {\n",
       "        vertical-align: top;\n",
       "    }\n",
       "\n",
       "    .dataframe thead th {\n",
       "        text-align: right;\n",
       "    }\n",
       "</style>\n",
       "<table border=\"1\" class=\"dataframe\">\n",
       "  <thead>\n",
       "    <tr style=\"text-align: right;\">\n",
       "      <th></th>\n",
       "      <th>Year-Month</th>\n",
       "      <th>Agency Number</th>\n",
       "      <th>Agency Name</th>\n",
       "      <th>Cardholder Last Name</th>\n",
       "      <th>Cardholder First Initial</th>\n",
       "      <th>Description</th>\n",
       "      <th>Amount</th>\n",
       "      <th>Vendor</th>\n",
       "      <th>Transaction Date</th>\n",
       "      <th>Posted Date</th>\n",
       "      <th>Merchant Category Code (MCC)</th>\n",
       "      <th>vendor_mcc_avg</th>\n",
       "      <th>ratio_to_vendor_mcc_avg</th>\n",
       "      <th>ratio_bin</th>\n",
       "    </tr>\n",
       "  </thead>\n",
       "  <tbody>\n",
       "    <tr>\n",
       "      <th>114</th>\n",
       "      <td>2013-07-01</td>\n",
       "      <td>1000</td>\n",
       "      <td>OKLAHOMA STATE UNIVERSITY</td>\n",
       "      <td>Henderson</td>\n",
       "      <td>K</td>\n",
       "      <td>GENERAL PURCHASE</td>\n",
       "      <td>-340.00</td>\n",
       "      <td>INTERWRX (INTERWRX.COM)</td>\n",
       "      <td>2013-07-26</td>\n",
       "      <td>2013-07-29</td>\n",
       "      <td>TELECOMMUNICATION EQUIPMENT AND TELEPHONE SALES</td>\n",
       "      <td>0.00</td>\n",
       "      <td>0.00</td>\n",
       "      <td>1.0000–5.0000%</td>\n",
       "    </tr>\n",
       "    <tr>\n",
       "      <th>1779</th>\n",
       "      <td>2013-07-01</td>\n",
       "      <td>1000</td>\n",
       "      <td>OKLAHOMA STATE UNIVERSITY</td>\n",
       "      <td>Robedeaux</td>\n",
       "      <td>M</td>\n",
       "      <td>GENERAL PURCHASE</td>\n",
       "      <td>-537.00</td>\n",
       "      <td>MEADOWLAKE RANCH</td>\n",
       "      <td>2013-07-08</td>\n",
       "      <td>2013-07-09</td>\n",
       "      <td>RECREATION SERVICES--NOT ELSEWHERE CLASSIFIED</td>\n",
       "      <td>0.00</td>\n",
       "      <td>0.00</td>\n",
       "      <td>1.0000–5.0000%</td>\n",
       "    </tr>\n",
       "    <tr>\n",
       "      <th>1780</th>\n",
       "      <td>2013-07-01</td>\n",
       "      <td>1000</td>\n",
       "      <td>OKLAHOMA STATE UNIVERSITY</td>\n",
       "      <td>Robedeaux</td>\n",
       "      <td>M</td>\n",
       "      <td>GENERAL PURCHASE</td>\n",
       "      <td>537.00</td>\n",
       "      <td>MEADOWLAKE RANCH</td>\n",
       "      <td>2013-07-08</td>\n",
       "      <td>2013-07-09</td>\n",
       "      <td>RECREATION SERVICES--NOT ELSEWHERE CLASSIFIED</td>\n",
       "      <td>0.00</td>\n",
       "      <td>0.00</td>\n",
       "      <td>1.0000–5.0000%</td>\n",
       "    </tr>\n",
       "    <tr>\n",
       "      <th>7864</th>\n",
       "      <td>2013-07-01</td>\n",
       "      <td>1000</td>\n",
       "      <td>OKLAHOMA STATE UNIVERSITY</td>\n",
       "      <td>Henderson</td>\n",
       "      <td>K</td>\n",
       "      <td>GENERAL PURCHASE</td>\n",
       "      <td>340.00</td>\n",
       "      <td>INTERWRX (INTERWRX.COM)</td>\n",
       "      <td>2013-07-22</td>\n",
       "      <td>2013-07-23</td>\n",
       "      <td>TELECOMMUNICATION EQUIPMENT AND TELEPHONE SALES</td>\n",
       "      <td>0.00</td>\n",
       "      <td>0.00</td>\n",
       "      <td>1.0000–5.0000%</td>\n",
       "    </tr>\n",
       "    <tr>\n",
       "      <th>10063</th>\n",
       "      <td>2013-08-01</td>\n",
       "      <td>1000</td>\n",
       "      <td>OKLAHOMA STATE UNIVERSITY</td>\n",
       "      <td>Mason</td>\n",
       "      <td>C</td>\n",
       "      <td>AIR TRAVEL</td>\n",
       "      <td>438.60</td>\n",
       "      <td>DELTA AIR   0067295028873</td>\n",
       "      <td>2013-08-23</td>\n",
       "      <td>2013-08-26</td>\n",
       "      <td>DELTA</td>\n",
       "      <td>0.00</td>\n",
       "      <td>0.00</td>\n",
       "      <td>1.0000–5.0000%</td>\n",
       "    </tr>\n",
       "    <tr>\n",
       "      <th>10065</th>\n",
       "      <td>2013-08-01</td>\n",
       "      <td>1000</td>\n",
       "      <td>OKLAHOMA STATE UNIVERSITY</td>\n",
       "      <td>Mason</td>\n",
       "      <td>C</td>\n",
       "      <td>AIR TRAVEL</td>\n",
       "      <td>20.00</td>\n",
       "      <td>AGENT FEE   8900593456183</td>\n",
       "      <td>2013-08-23</td>\n",
       "      <td>2013-08-26</td>\n",
       "      <td>AIRLINES AND AIR CARRIERS</td>\n",
       "      <td>0.00</td>\n",
       "      <td>0.00</td>\n",
       "      <td>1.0000–5.0000%</td>\n",
       "    </tr>\n",
       "    <tr>\n",
       "      <th>10066</th>\n",
       "      <td>2013-08-01</td>\n",
       "      <td>1000</td>\n",
       "      <td>OKLAHOMA STATE UNIVERSITY</td>\n",
       "      <td>Mason</td>\n",
       "      <td>C</td>\n",
       "      <td>AIR TRAVEL</td>\n",
       "      <td>438.60</td>\n",
       "      <td>DELTA AIR   0067295028872</td>\n",
       "      <td>2013-08-23</td>\n",
       "      <td>2013-08-26</td>\n",
       "      <td>DELTA</td>\n",
       "      <td>0.00</td>\n",
       "      <td>0.00</td>\n",
       "      <td>1.0000–5.0000%</td>\n",
       "    </tr>\n",
       "    <tr>\n",
       "      <th>10101</th>\n",
       "      <td>2013-08-01</td>\n",
       "      <td>1000</td>\n",
       "      <td>OKLAHOMA STATE UNIVERSITY</td>\n",
       "      <td>Mason</td>\n",
       "      <td>C</td>\n",
       "      <td>AIR TRAVEL</td>\n",
       "      <td>20.00</td>\n",
       "      <td>AGENT FEE   8900593456182</td>\n",
       "      <td>2013-08-23</td>\n",
       "      <td>2013-08-26</td>\n",
       "      <td>AIRLINES AND AIR CARRIERS</td>\n",
       "      <td>0.00</td>\n",
       "      <td>0.00</td>\n",
       "      <td>1.0000–5.0000%</td>\n",
       "    </tr>\n",
       "    <tr>\n",
       "      <th>10626</th>\n",
       "      <td>2013-08-01</td>\n",
       "      <td>1000</td>\n",
       "      <td>OKLAHOMA STATE UNIVERSITY</td>\n",
       "      <td>Hallgren</td>\n",
       "      <td>S</td>\n",
       "      <td>GENERAL PURCHASE</td>\n",
       "      <td>15.00</td>\n",
       "      <td>TACKLE SHACK</td>\n",
       "      <td>2013-08-28</td>\n",
       "      <td>2013-08-30</td>\n",
       "      <td>SPORTING GOODS STORES</td>\n",
       "      <td>0.00</td>\n",
       "      <td>0.00</td>\n",
       "      <td>1.0000–5.0000%</td>\n",
       "    </tr>\n",
       "    <tr>\n",
       "      <th>10714</th>\n",
       "      <td>2013-08-01</td>\n",
       "      <td>1000</td>\n",
       "      <td>OKLAHOMA STATE UNIVERSITY</td>\n",
       "      <td>Mason</td>\n",
       "      <td>C</td>\n",
       "      <td>AIR TRAVEL</td>\n",
       "      <td>-438.60</td>\n",
       "      <td>DELTA AIR   0067295028873</td>\n",
       "      <td>2013-08-23</td>\n",
       "      <td>2013-08-28</td>\n",
       "      <td>DELTA</td>\n",
       "      <td>0.00</td>\n",
       "      <td>0.00</td>\n",
       "      <td>1.0000–5.0000%</td>\n",
       "    </tr>\n",
       "  </tbody>\n",
       "</table>\n",
       "</div>"
      ],
      "text/plain": [
       "      Year-Month  Agency Number                Agency Name  \\\n",
       "114   2013-07-01           1000  OKLAHOMA STATE UNIVERSITY   \n",
       "1779  2013-07-01           1000  OKLAHOMA STATE UNIVERSITY   \n",
       "1780  2013-07-01           1000  OKLAHOMA STATE UNIVERSITY   \n",
       "7864  2013-07-01           1000  OKLAHOMA STATE UNIVERSITY   \n",
       "10063 2013-08-01           1000  OKLAHOMA STATE UNIVERSITY   \n",
       "10065 2013-08-01           1000  OKLAHOMA STATE UNIVERSITY   \n",
       "10066 2013-08-01           1000  OKLAHOMA STATE UNIVERSITY   \n",
       "10101 2013-08-01           1000  OKLAHOMA STATE UNIVERSITY   \n",
       "10626 2013-08-01           1000  OKLAHOMA STATE UNIVERSITY   \n",
       "10714 2013-08-01           1000  OKLAHOMA STATE UNIVERSITY   \n",
       "\n",
       "      Cardholder Last Name Cardholder First Initial       Description  Amount  \\\n",
       "114              Henderson                        K  GENERAL PURCHASE -340.00   \n",
       "1779             Robedeaux                        M  GENERAL PURCHASE -537.00   \n",
       "1780             Robedeaux                        M  GENERAL PURCHASE  537.00   \n",
       "7864             Henderson                        K  GENERAL PURCHASE  340.00   \n",
       "10063                Mason                        C        AIR TRAVEL  438.60   \n",
       "10065                Mason                        C        AIR TRAVEL   20.00   \n",
       "10066                Mason                        C        AIR TRAVEL  438.60   \n",
       "10101                Mason                        C        AIR TRAVEL   20.00   \n",
       "10626             Hallgren                        S  GENERAL PURCHASE   15.00   \n",
       "10714                Mason                        C        AIR TRAVEL -438.60   \n",
       "\n",
       "                          Vendor Transaction Date Posted Date  \\\n",
       "114      INTERWRX (INTERWRX.COM)       2013-07-26  2013-07-29   \n",
       "1779            MEADOWLAKE RANCH       2013-07-08  2013-07-09   \n",
       "1780            MEADOWLAKE RANCH       2013-07-08  2013-07-09   \n",
       "7864     INTERWRX (INTERWRX.COM)       2013-07-22  2013-07-23   \n",
       "10063  DELTA AIR   0067295028873       2013-08-23  2013-08-26   \n",
       "10065  AGENT FEE   8900593456183       2013-08-23  2013-08-26   \n",
       "10066  DELTA AIR   0067295028872       2013-08-23  2013-08-26   \n",
       "10101  AGENT FEE   8900593456182       2013-08-23  2013-08-26   \n",
       "10626               TACKLE SHACK       2013-08-28  2013-08-30   \n",
       "10714  DELTA AIR   0067295028873       2013-08-23  2013-08-28   \n",
       "\n",
       "                          Merchant Category Code (MCC)  vendor_mcc_avg  \\\n",
       "114    TELECOMMUNICATION EQUIPMENT AND TELEPHONE SALES            0.00   \n",
       "1779     RECREATION SERVICES--NOT ELSEWHERE CLASSIFIED            0.00   \n",
       "1780     RECREATION SERVICES--NOT ELSEWHERE CLASSIFIED            0.00   \n",
       "7864   TELECOMMUNICATION EQUIPMENT AND TELEPHONE SALES            0.00   \n",
       "10063                                            DELTA            0.00   \n",
       "10065                        AIRLINES AND AIR CARRIERS            0.00   \n",
       "10066                                            DELTA            0.00   \n",
       "10101                        AIRLINES AND AIR CARRIERS            0.00   \n",
       "10626                            SPORTING GOODS STORES            0.00   \n",
       "10714                                            DELTA            0.00   \n",
       "\n",
       "       ratio_to_vendor_mcc_avg       ratio_bin  \n",
       "114                       0.00  1.0000–5.0000%  \n",
       "1779                      0.00  1.0000–5.0000%  \n",
       "1780                      0.00  1.0000–5.0000%  \n",
       "7864                      0.00  1.0000–5.0000%  \n",
       "10063                     0.00  1.0000–5.0000%  \n",
       "10065                     0.00  1.0000–5.0000%  \n",
       "10066                     0.00  1.0000–5.0000%  \n",
       "10101                     0.00  1.0000–5.0000%  \n",
       "10626                     0.00  1.0000–5.0000%  \n",
       "10714                     0.00  1.0000–5.0000%  "
      ]
     },
     "execution_count": 16,
     "metadata": {},
     "output_type": "execute_result"
    }
   ],
   "source": [
    "df1[df1['vendor_mcc_avg'] == 0].head(10)"
   ]
  },
  {
   "cell_type": "markdown",
   "id": "b9570f4f",
   "metadata": {},
   "source": [
    "Let's see what happens if we use median instead of average."
   ]
  },
  {
   "cell_type": "markdown",
   "id": "89d81d5b",
   "metadata": {},
   "source": [
    "### 2. Ratio to Median Transaction by Merchant x Merchant Category Code\n",
    "\n",
    "Same as the previous feature, but using median instead of average. This will help us identify transactions that are significantly higher or lower than the median for a given merchant and MCC combination."
   ]
  },
  {
   "cell_type": "code",
   "execution_count": 17,
   "id": "ba8803a1",
   "metadata": {},
   "outputs": [
    {
     "name": "stdout",
     "output_type": "stream",
     "text": [
      "                         Vendor  \\\n",
      "87411             www.wiley.com   \n",
      "87410     www.wff2014korea.org/   \n",
      "87409          www.testking.com   \n",
      "87408      www.sublimevideo.net   \n",
      "87407           www.molport.com   \n",
      "87406      www.eurofedlipid.org   \n",
      "87405            www.autodoc.ch   \n",
      "87404  wmill.com ResponseOmatic   \n",
      "87403        value plastics inc   \n",
      "87402       templatemonster.com   \n",
      "\n",
      "                            Merchant Category Code (MCC)  vendor_mcc_median  \n",
      "87411         BUSINESS SERVICES NOT ELSEWHERE CLASSIFIED           1,087.81  \n",
      "87410  DIRCT MARKETING/DIRCT MARKETERS--NOT ELSEWHERE...             250.00  \n",
      "87409         BUSINESS SERVICES NOT ELSEWHERE CLASSIFIED              99.99  \n",
      "87408                           COMPUTER SOFTWARE STORES              19.90  \n",
      "87407  CHEMICALS AND ALLIED PRODUCTS NOT ELSEWHERE CL...             205.00  \n",
      "87406                  MISCELLANEOUS GENERAL MERCHANDISE           1,286.43  \n",
      "87405                           COMPUTER SOFTWARE STORES             174.89  \n",
      "87404     PROFESSIONAL SERVICES NOT ELSEWHERE CLASSIFIED              95.40  \n",
      "87403          MISCELLANEOUS AND SPECIALTY RETAIL STORES              25.55  \n",
      "87402     PROFESSIONAL SERVICES NOT ELSEWHERE CLASSIFIED              75.00  \n",
      "\n",
      "---------------------------\n",
      "\n",
      "Vendor MCC with Median 0: 1,270 rows\n",
      "\n",
      "---------------------------\n",
      "\n",
      "                      Vendor  \\\n",
      "0                      NACAS   \n",
      "1             SHERATON HOTEL   \n",
      "2             SEARS.COM 9300   \n",
      "3             WAL-MART #0137   \n",
      "4             STAPLES DIRECT   \n",
      "5  KYOCERA DOCUMENT SOLUTION   \n",
      "6             WAL-MART #0137   \n",
      "7            DAYLIGHT DONUTS   \n",
      "8       UFIRST  LAUNDRY SVCS   \n",
      "9                  AT&T DATA   \n",
      "\n",
      "                        Merchant Category Code (MCC)  Amount  \\\n",
      "0        CHARITABLE AND SOCIAL SERVICE ORGANIZATIONS  890.00   \n",
      "1                                           SHERATON  368.96   \n",
      "2  DIRCT MARKETING/DIRCT MARKETERS--NOT ELSEWHERE...  165.82   \n",
      "3                    GROCERY STORES,AND SUPERMARKETS   96.39   \n",
      "4  STATIONERY, OFFICE SUPPLIES, PRINTING AND WRIT...  125.96   \n",
      "5  OFFICE, PHOTOGRAPHIC, PHOTOCOPY, AND MICROFILM...  394.28   \n",
      "6                    GROCERY STORES,AND SUPERMARKETS   19.87   \n",
      "7                              FAST FOOD RESTAURANTS   10.10   \n",
      "8  MENS, WOMENS AND CHILDRENS UNIFORMS AND COMMER...  142.60   \n",
      "9                         TELECOMMUNICATION SERVICES   29.99   \n",
      "\n",
      "   vendor_mcc_median  ratio_to_vendor_mcc_median  \n",
      "0             675.00                        1.32  \n",
      "1             174.00                        2.12  \n",
      "2              -4.69                      -35.39  \n",
      "3              35.56                        2.71  \n",
      "4              74.77                        1.68  \n",
      "5             394.28                        1.00  \n",
      "6              35.56                        0.56  \n",
      "7              40.13                        0.25  \n",
      "8              54.72                        2.61  \n",
      "9              30.00                        1.00  \n",
      "\n",
      "---------------------------\n",
      "\n",
      "count   442,458.00\n",
      "mean          2.03\n",
      "std          21.31\n",
      "min        -663.00\n",
      "25%           0.59\n",
      "50%           1.00\n",
      "75%           1.63\n",
      "max      13,119.00\n",
      "Name: ratio_to_vendor_mcc_median, dtype: float64\n",
      "\n",
      "---------------------------\n",
      "\n"
     ]
    },
    {
     "data": {
      "application/vnd.plotly.v1+json": {
       "config": {
        "plotlyServerURL": "https://plot.ly"
       },
       "data": [
        {
         "hovertemplate": "Ratio Percentile Bin=%{x}<br>Record Count=%{y}<extra></extra>",
         "legendgroup": "",
         "marker": {
          "color": "#636efa",
          "pattern": {
           "shape": ""
          }
         },
         "name": "",
         "orientation": "v",
         "showlegend": false,
         "textposition": "auto",
         "type": "bar",
         "x": [
          "0.0000–0.0100%",
          "0.0100–0.0500%",
          "0.0500–1.0000%",
          "1.0000–5.0000%",
          "5.0000–20.0000%",
          "20.0000–50.0000%",
          "50.0000–80.0000%",
          "80.0000–95.0000%",
          "95.0000–99.0000%",
          "99.0000–99.9900%",
          "99.9900–99.9950%",
          "99.9950–100.0000%"
         ],
         "xaxis": "x",
         "y": {
          "bdata": "LQAAALEAAABrEAAAIkUAAEEDAQAiywIA4EEBAEIDAQAhRQAAHBEAABYAAAAXAAAA",
          "dtype": "i4"
         },
         "yaxis": "y"
        }
       ],
       "layout": {
        "barmode": "relative",
        "legend": {
         "tracegroupgap": 0
        },
        "template": {
         "data": {
          "bar": [
           {
            "error_x": {
             "color": "#2a3f5f"
            },
            "error_y": {
             "color": "#2a3f5f"
            },
            "marker": {
             "line": {
              "color": "white",
              "width": 0.5
             },
             "pattern": {
              "fillmode": "overlay",
              "size": 10,
              "solidity": 0.2
             }
            },
            "type": "bar"
           }
          ],
          "barpolar": [
           {
            "marker": {
             "line": {
              "color": "white",
              "width": 0.5
             },
             "pattern": {
              "fillmode": "overlay",
              "size": 10,
              "solidity": 0.2
             }
            },
            "type": "barpolar"
           }
          ],
          "carpet": [
           {
            "aaxis": {
             "endlinecolor": "#2a3f5f",
             "gridcolor": "#C8D4E3",
             "linecolor": "#C8D4E3",
             "minorgridcolor": "#C8D4E3",
             "startlinecolor": "#2a3f5f"
            },
            "baxis": {
             "endlinecolor": "#2a3f5f",
             "gridcolor": "#C8D4E3",
             "linecolor": "#C8D4E3",
             "minorgridcolor": "#C8D4E3",
             "startlinecolor": "#2a3f5f"
            },
            "type": "carpet"
           }
          ],
          "choropleth": [
           {
            "colorbar": {
             "outlinewidth": 0,
             "ticks": ""
            },
            "type": "choropleth"
           }
          ],
          "contour": [
           {
            "colorbar": {
             "outlinewidth": 0,
             "ticks": ""
            },
            "colorscale": [
             [
              0,
              "#0d0887"
             ],
             [
              0.1111111111111111,
              "#46039f"
             ],
             [
              0.2222222222222222,
              "#7201a8"
             ],
             [
              0.3333333333333333,
              "#9c179e"
             ],
             [
              0.4444444444444444,
              "#bd3786"
             ],
             [
              0.5555555555555556,
              "#d8576b"
             ],
             [
              0.6666666666666666,
              "#ed7953"
             ],
             [
              0.7777777777777778,
              "#fb9f3a"
             ],
             [
              0.8888888888888888,
              "#fdca26"
             ],
             [
              1,
              "#f0f921"
             ]
            ],
            "type": "contour"
           }
          ],
          "contourcarpet": [
           {
            "colorbar": {
             "outlinewidth": 0,
             "ticks": ""
            },
            "type": "contourcarpet"
           }
          ],
          "heatmap": [
           {
            "colorbar": {
             "outlinewidth": 0,
             "ticks": ""
            },
            "colorscale": [
             [
              0,
              "#0d0887"
             ],
             [
              0.1111111111111111,
              "#46039f"
             ],
             [
              0.2222222222222222,
              "#7201a8"
             ],
             [
              0.3333333333333333,
              "#9c179e"
             ],
             [
              0.4444444444444444,
              "#bd3786"
             ],
             [
              0.5555555555555556,
              "#d8576b"
             ],
             [
              0.6666666666666666,
              "#ed7953"
             ],
             [
              0.7777777777777778,
              "#fb9f3a"
             ],
             [
              0.8888888888888888,
              "#fdca26"
             ],
             [
              1,
              "#f0f921"
             ]
            ],
            "type": "heatmap"
           }
          ],
          "histogram": [
           {
            "marker": {
             "pattern": {
              "fillmode": "overlay",
              "size": 10,
              "solidity": 0.2
             }
            },
            "type": "histogram"
           }
          ],
          "histogram2d": [
           {
            "colorbar": {
             "outlinewidth": 0,
             "ticks": ""
            },
            "colorscale": [
             [
              0,
              "#0d0887"
             ],
             [
              0.1111111111111111,
              "#46039f"
             ],
             [
              0.2222222222222222,
              "#7201a8"
             ],
             [
              0.3333333333333333,
              "#9c179e"
             ],
             [
              0.4444444444444444,
              "#bd3786"
             ],
             [
              0.5555555555555556,
              "#d8576b"
             ],
             [
              0.6666666666666666,
              "#ed7953"
             ],
             [
              0.7777777777777778,
              "#fb9f3a"
             ],
             [
              0.8888888888888888,
              "#fdca26"
             ],
             [
              1,
              "#f0f921"
             ]
            ],
            "type": "histogram2d"
           }
          ],
          "histogram2dcontour": [
           {
            "colorbar": {
             "outlinewidth": 0,
             "ticks": ""
            },
            "colorscale": [
             [
              0,
              "#0d0887"
             ],
             [
              0.1111111111111111,
              "#46039f"
             ],
             [
              0.2222222222222222,
              "#7201a8"
             ],
             [
              0.3333333333333333,
              "#9c179e"
             ],
             [
              0.4444444444444444,
              "#bd3786"
             ],
             [
              0.5555555555555556,
              "#d8576b"
             ],
             [
              0.6666666666666666,
              "#ed7953"
             ],
             [
              0.7777777777777778,
              "#fb9f3a"
             ],
             [
              0.8888888888888888,
              "#fdca26"
             ],
             [
              1,
              "#f0f921"
             ]
            ],
            "type": "histogram2dcontour"
           }
          ],
          "mesh3d": [
           {
            "colorbar": {
             "outlinewidth": 0,
             "ticks": ""
            },
            "type": "mesh3d"
           }
          ],
          "parcoords": [
           {
            "line": {
             "colorbar": {
              "outlinewidth": 0,
              "ticks": ""
             }
            },
            "type": "parcoords"
           }
          ],
          "pie": [
           {
            "automargin": true,
            "type": "pie"
           }
          ],
          "scatter": [
           {
            "fillpattern": {
             "fillmode": "overlay",
             "size": 10,
             "solidity": 0.2
            },
            "type": "scatter"
           }
          ],
          "scatter3d": [
           {
            "line": {
             "colorbar": {
              "outlinewidth": 0,
              "ticks": ""
             }
            },
            "marker": {
             "colorbar": {
              "outlinewidth": 0,
              "ticks": ""
             }
            },
            "type": "scatter3d"
           }
          ],
          "scattercarpet": [
           {
            "marker": {
             "colorbar": {
              "outlinewidth": 0,
              "ticks": ""
             }
            },
            "type": "scattercarpet"
           }
          ],
          "scattergeo": [
           {
            "marker": {
             "colorbar": {
              "outlinewidth": 0,
              "ticks": ""
             }
            },
            "type": "scattergeo"
           }
          ],
          "scattergl": [
           {
            "marker": {
             "colorbar": {
              "outlinewidth": 0,
              "ticks": ""
             }
            },
            "type": "scattergl"
           }
          ],
          "scattermap": [
           {
            "marker": {
             "colorbar": {
              "outlinewidth": 0,
              "ticks": ""
             }
            },
            "type": "scattermap"
           }
          ],
          "scattermapbox": [
           {
            "marker": {
             "colorbar": {
              "outlinewidth": 0,
              "ticks": ""
             }
            },
            "type": "scattermapbox"
           }
          ],
          "scatterpolar": [
           {
            "marker": {
             "colorbar": {
              "outlinewidth": 0,
              "ticks": ""
             }
            },
            "type": "scatterpolar"
           }
          ],
          "scatterpolargl": [
           {
            "marker": {
             "colorbar": {
              "outlinewidth": 0,
              "ticks": ""
             }
            },
            "type": "scatterpolargl"
           }
          ],
          "scatterternary": [
           {
            "marker": {
             "colorbar": {
              "outlinewidth": 0,
              "ticks": ""
             }
            },
            "type": "scatterternary"
           }
          ],
          "surface": [
           {
            "colorbar": {
             "outlinewidth": 0,
             "ticks": ""
            },
            "colorscale": [
             [
              0,
              "#0d0887"
             ],
             [
              0.1111111111111111,
              "#46039f"
             ],
             [
              0.2222222222222222,
              "#7201a8"
             ],
             [
              0.3333333333333333,
              "#9c179e"
             ],
             [
              0.4444444444444444,
              "#bd3786"
             ],
             [
              0.5555555555555556,
              "#d8576b"
             ],
             [
              0.6666666666666666,
              "#ed7953"
             ],
             [
              0.7777777777777778,
              "#fb9f3a"
             ],
             [
              0.8888888888888888,
              "#fdca26"
             ],
             [
              1,
              "#f0f921"
             ]
            ],
            "type": "surface"
           }
          ],
          "table": [
           {
            "cells": {
             "fill": {
              "color": "#EBF0F8"
             },
             "line": {
              "color": "white"
             }
            },
            "header": {
             "fill": {
              "color": "#C8D4E3"
             },
             "line": {
              "color": "white"
             }
            },
            "type": "table"
           }
          ]
         },
         "layout": {
          "annotationdefaults": {
           "arrowcolor": "#2a3f5f",
           "arrowhead": 0,
           "arrowwidth": 1
          },
          "autotypenumbers": "strict",
          "coloraxis": {
           "colorbar": {
            "outlinewidth": 0,
            "ticks": ""
           }
          },
          "colorscale": {
           "diverging": [
            [
             0,
             "#8e0152"
            ],
            [
             0.1,
             "#c51b7d"
            ],
            [
             0.2,
             "#de77ae"
            ],
            [
             0.3,
             "#f1b6da"
            ],
            [
             0.4,
             "#fde0ef"
            ],
            [
             0.5,
             "#f7f7f7"
            ],
            [
             0.6,
             "#e6f5d0"
            ],
            [
             0.7,
             "#b8e186"
            ],
            [
             0.8,
             "#7fbc41"
            ],
            [
             0.9,
             "#4d9221"
            ],
            [
             1,
             "#276419"
            ]
           ],
           "sequential": [
            [
             0,
             "#0d0887"
            ],
            [
             0.1111111111111111,
             "#46039f"
            ],
            [
             0.2222222222222222,
             "#7201a8"
            ],
            [
             0.3333333333333333,
             "#9c179e"
            ],
            [
             0.4444444444444444,
             "#bd3786"
            ],
            [
             0.5555555555555556,
             "#d8576b"
            ],
            [
             0.6666666666666666,
             "#ed7953"
            ],
            [
             0.7777777777777778,
             "#fb9f3a"
            ],
            [
             0.8888888888888888,
             "#fdca26"
            ],
            [
             1,
             "#f0f921"
            ]
           ],
           "sequentialminus": [
            [
             0,
             "#0d0887"
            ],
            [
             0.1111111111111111,
             "#46039f"
            ],
            [
             0.2222222222222222,
             "#7201a8"
            ],
            [
             0.3333333333333333,
             "#9c179e"
            ],
            [
             0.4444444444444444,
             "#bd3786"
            ],
            [
             0.5555555555555556,
             "#d8576b"
            ],
            [
             0.6666666666666666,
             "#ed7953"
            ],
            [
             0.7777777777777778,
             "#fb9f3a"
            ],
            [
             0.8888888888888888,
             "#fdca26"
            ],
            [
             1,
             "#f0f921"
            ]
           ]
          },
          "colorway": [
           "#636efa",
           "#EF553B",
           "#00cc96",
           "#ab63fa",
           "#FFA15A",
           "#19d3f3",
           "#FF6692",
           "#B6E880",
           "#FF97FF",
           "#FECB52"
          ],
          "font": {
           "color": "#2a3f5f"
          },
          "geo": {
           "bgcolor": "white",
           "lakecolor": "white",
           "landcolor": "white",
           "showlakes": true,
           "showland": true,
           "subunitcolor": "#C8D4E3"
          },
          "hoverlabel": {
           "align": "left"
          },
          "hovermode": "closest",
          "mapbox": {
           "style": "light"
          },
          "paper_bgcolor": "white",
          "plot_bgcolor": "white",
          "polar": {
           "angularaxis": {
            "gridcolor": "#EBF0F8",
            "linecolor": "#EBF0F8",
            "ticks": ""
           },
           "bgcolor": "white",
           "radialaxis": {
            "gridcolor": "#EBF0F8",
            "linecolor": "#EBF0F8",
            "ticks": ""
           }
          },
          "scene": {
           "xaxis": {
            "backgroundcolor": "white",
            "gridcolor": "#DFE8F3",
            "gridwidth": 2,
            "linecolor": "#EBF0F8",
            "showbackground": true,
            "ticks": "",
            "zerolinecolor": "#EBF0F8"
           },
           "yaxis": {
            "backgroundcolor": "white",
            "gridcolor": "#DFE8F3",
            "gridwidth": 2,
            "linecolor": "#EBF0F8",
            "showbackground": true,
            "ticks": "",
            "zerolinecolor": "#EBF0F8"
           },
           "zaxis": {
            "backgroundcolor": "white",
            "gridcolor": "#DFE8F3",
            "gridwidth": 2,
            "linecolor": "#EBF0F8",
            "showbackground": true,
            "ticks": "",
            "zerolinecolor": "#EBF0F8"
           }
          },
          "shapedefaults": {
           "line": {
            "color": "#2a3f5f"
           }
          },
          "ternary": {
           "aaxis": {
            "gridcolor": "#DFE8F3",
            "linecolor": "#A2B1C6",
            "ticks": ""
           },
           "baxis": {
            "gridcolor": "#DFE8F3",
            "linecolor": "#A2B1C6",
            "ticks": ""
           },
           "bgcolor": "white",
           "caxis": {
            "gridcolor": "#DFE8F3",
            "linecolor": "#A2B1C6",
            "ticks": ""
           }
          },
          "title": {
           "x": 0.05
          },
          "xaxis": {
           "automargin": true,
           "gridcolor": "#EBF0F8",
           "linecolor": "#EBF0F8",
           "ticks": "",
           "title": {
            "standoff": 15
           },
           "zerolinecolor": "#EBF0F8",
           "zerolinewidth": 2
          },
          "yaxis": {
           "automargin": true,
           "gridcolor": "#EBF0F8",
           "linecolor": "#EBF0F8",
           "ticks": "",
           "title": {
            "standoff": 15
           },
           "zerolinecolor": "#EBF0F8",
           "zerolinewidth": 2
          }
         }
        },
        "title": {
         "text": "Transaction Count by Ratio-to-Median Percentile Bins"
        },
        "xaxis": {
         "anchor": "y",
         "domain": [
          0,
          1
         ],
         "tickangle": -45,
         "title": {
          "text": "Ratio Percentile Bin"
         }
        },
        "yaxis": {
         "anchor": "x",
         "domain": [
          0,
          1
         ],
         "title": {
          "text": "Record Count"
         }
        }
       }
      }
     },
     "metadata": {},
     "output_type": "display_data"
    },
    {
     "name": "stdout",
     "output_type": "stream",
     "text": [
      "\n",
      "---------------------------\n",
      "\n",
      "Ratio bins and their statistics relative to vendor-MCC median:\n",
      "            ratio_bin   count     min       max\n",
      "0      0.0000–0.0100%      45 -663.00    -69.82\n",
      "1      0.0100–0.0500%     177  -68.14    -15.83\n",
      "2      0.0500–1.0000%    4203  -15.80     -0.94\n",
      "3      1.0000–5.0000%   17698   -0.94      0.08\n",
      "4     5.0000–20.0000%   66369    0.08      0.46\n",
      "5    20.0000–50.0000%  183074    0.46      1.00\n",
      "6    50.0000–80.0000%   82400    1.00      2.01\n",
      "7    80.0000–95.0000%   66370    2.01      6.65\n",
      "8    95.0000–99.0000%   17697    6.65     19.47\n",
      "9    99.0000–99.9900%    4380   19.47    311.71\n",
      "10   99.9900–99.9950%      22  313.79    459.73\n",
      "11  99.9950–100.0000%      23  462.83 13,119.00\n",
      "\n",
      "---------------------------\n",
      "\n",
      "Extremely low ratios (< 0):\n"
     ]
    },
    {
     "name": "stderr",
     "output_type": "stream",
     "text": [
      "/var/folders/sb/pvs4j23j1z74y7s6nw77zrwr0000gn/T/ipykernel_3936/2683066731.py:80: FutureWarning:\n",
      "\n",
      "The default of observed=False is deprecated and will be changed to True in a future version of pandas. Pass observed=False to retain current behavior or observed=True to adopt the future default and silence this warning.\n",
      "\n"
     ]
    },
    {
     "data": {
      "text/html": [
       "<div>\n",
       "<style scoped>\n",
       "    .dataframe tbody tr th:only-of-type {\n",
       "        vertical-align: middle;\n",
       "    }\n",
       "\n",
       "    .dataframe tbody tr th {\n",
       "        vertical-align: top;\n",
       "    }\n",
       "\n",
       "    .dataframe thead th {\n",
       "        text-align: right;\n",
       "    }\n",
       "</style>\n",
       "<table border=\"1\" class=\"dataframe\">\n",
       "  <thead>\n",
       "    <tr style=\"text-align: right;\">\n",
       "      <th></th>\n",
       "      <th>Year-Month</th>\n",
       "      <th>Agency Number</th>\n",
       "      <th>Agency Name</th>\n",
       "      <th>Cardholder Last Name</th>\n",
       "      <th>Cardholder First Initial</th>\n",
       "      <th>Description</th>\n",
       "      <th>Amount</th>\n",
       "      <th>Vendor</th>\n",
       "      <th>Transaction Date</th>\n",
       "      <th>Posted Date</th>\n",
       "      <th>Merchant Category Code (MCC)</th>\n",
       "      <th>vendor_mcc_median</th>\n",
       "      <th>ratio_to_vendor_mcc_median</th>\n",
       "      <th>ratio_bin</th>\n",
       "    </tr>\n",
       "  </thead>\n",
       "  <tbody>\n",
       "    <tr>\n",
       "      <th>422223</th>\n",
       "      <td>2014-06-01</td>\n",
       "      <td>76000</td>\n",
       "      <td>UNIVERSITY OF OKLAHOMA</td>\n",
       "      <td>MCCASKILL</td>\n",
       "      <td>J</td>\n",
       "      <td>GENERAL PURCHASE</td>\n",
       "      <td>-6.63</td>\n",
       "      <td>GODADDY.COM CANADA</td>\n",
       "      <td>2014-06-19</td>\n",
       "      <td>2014-06-20</td>\n",
       "      <td>COMPUTER NETWORK/INFORMATION SERVICES</td>\n",
       "      <td>0.01</td>\n",
       "      <td>-663.00</td>\n",
       "      <td>0.0000–0.0100%</td>\n",
       "    </tr>\n",
       "    <tr>\n",
       "      <th>385422</th>\n",
       "      <td>2014-06-01</td>\n",
       "      <td>1000</td>\n",
       "      <td>OKLAHOMA STATE UNIVERSITY</td>\n",
       "      <td>Reece</td>\n",
       "      <td>S</td>\n",
       "      <td>GENERAL PURCHASE</td>\n",
       "      <td>-1,876.34</td>\n",
       "      <td>BLUEBYTE TRADING LLC</td>\n",
       "      <td>2014-06-01</td>\n",
       "      <td>2014-06-03</td>\n",
       "      <td>MISCELLANEOUS AND SPECIALTY RETAIL STORES</td>\n",
       "      <td>2.84</td>\n",
       "      <td>-660.68</td>\n",
       "      <td>0.0000–0.0100%</td>\n",
       "    </tr>\n",
       "    <tr>\n",
       "      <th>251789</th>\n",
       "      <td>2013-10-01</td>\n",
       "      <td>98000</td>\n",
       "      <td>GRAND RIVER DAM AUTH.</td>\n",
       "      <td>Cole</td>\n",
       "      <td>K</td>\n",
       "      <td>GENERAL PURCHASE</td>\n",
       "      <td>3,079.55</td>\n",
       "      <td>SEARS.COM 9300</td>\n",
       "      <td>2013-10-28</td>\n",
       "      <td>2013-10-30</td>\n",
       "      <td>DIRCT MARKETING/DIRCT MARKETERS--NOT ELSEWHERE...</td>\n",
       "      <td>-4.69</td>\n",
       "      <td>-657.32</td>\n",
       "      <td>0.0000–0.0100%</td>\n",
       "    </tr>\n",
       "    <tr>\n",
       "      <th>252126</th>\n",
       "      <td>2013-11-01</td>\n",
       "      <td>98000</td>\n",
       "      <td>GRAND RIVER DAM AUTH.</td>\n",
       "      <td>Stroup</td>\n",
       "      <td>P</td>\n",
       "      <td>GENERAL PURCHASE</td>\n",
       "      <td>1,684.35</td>\n",
       "      <td>SEARS.COM 9300</td>\n",
       "      <td>2013-11-26</td>\n",
       "      <td>2013-11-29</td>\n",
       "      <td>DIRCT MARKETING/DIRCT MARKETERS--NOT ELSEWHERE...</td>\n",
       "      <td>-4.69</td>\n",
       "      <td>-359.52</td>\n",
       "      <td>0.0000–0.0100%</td>\n",
       "    </tr>\n",
       "    <tr>\n",
       "      <th>253984</th>\n",
       "      <td>2014-01-01</td>\n",
       "      <td>98000</td>\n",
       "      <td>GRAND RIVER DAM AUTH.</td>\n",
       "      <td>Stroup</td>\n",
       "      <td>P</td>\n",
       "      <td>GENERAL PURCHASE</td>\n",
       "      <td>1,368.44</td>\n",
       "      <td>SEARS.COM 9300</td>\n",
       "      <td>2014-01-24</td>\n",
       "      <td>2014-01-27</td>\n",
       "      <td>DIRCT MARKETING/DIRCT MARKETERS--NOT ELSEWHERE...</td>\n",
       "      <td>-4.69</td>\n",
       "      <td>-292.09</td>\n",
       "      <td>0.0000–0.0100%</td>\n",
       "    </tr>\n",
       "  </tbody>\n",
       "</table>\n",
       "</div>"
      ],
      "text/plain": [
       "       Year-Month  Agency Number                Agency Name  \\\n",
       "422223 2014-06-01          76000     UNIVERSITY OF OKLAHOMA   \n",
       "385422 2014-06-01           1000  OKLAHOMA STATE UNIVERSITY   \n",
       "251789 2013-10-01          98000      GRAND RIVER DAM AUTH.   \n",
       "252126 2013-11-01          98000      GRAND RIVER DAM AUTH.   \n",
       "253984 2014-01-01          98000      GRAND RIVER DAM AUTH.   \n",
       "\n",
       "       Cardholder Last Name Cardholder First Initial       Description  \\\n",
       "422223            MCCASKILL                        J  GENERAL PURCHASE   \n",
       "385422                Reece                        S  GENERAL PURCHASE   \n",
       "251789                 Cole                        K  GENERAL PURCHASE   \n",
       "252126               Stroup                        P  GENERAL PURCHASE   \n",
       "253984               Stroup                        P  GENERAL PURCHASE   \n",
       "\n",
       "          Amount                Vendor Transaction Date Posted Date  \\\n",
       "422223     -6.63    GODADDY.COM CANADA       2014-06-19  2014-06-20   \n",
       "385422 -1,876.34  BLUEBYTE TRADING LLC       2014-06-01  2014-06-03   \n",
       "251789  3,079.55        SEARS.COM 9300       2013-10-28  2013-10-30   \n",
       "252126  1,684.35        SEARS.COM 9300       2013-11-26  2013-11-29   \n",
       "253984  1,368.44        SEARS.COM 9300       2014-01-24  2014-01-27   \n",
       "\n",
       "                             Merchant Category Code (MCC)  vendor_mcc_median  \\\n",
       "422223              COMPUTER NETWORK/INFORMATION SERVICES               0.01   \n",
       "385422          MISCELLANEOUS AND SPECIALTY RETAIL STORES               2.84   \n",
       "251789  DIRCT MARKETING/DIRCT MARKETERS--NOT ELSEWHERE...              -4.69   \n",
       "252126  DIRCT MARKETING/DIRCT MARKETERS--NOT ELSEWHERE...              -4.69   \n",
       "253984  DIRCT MARKETING/DIRCT MARKETERS--NOT ELSEWHERE...              -4.69   \n",
       "\n",
       "        ratio_to_vendor_mcc_median       ratio_bin  \n",
       "422223                     -663.00  0.0000–0.0100%  \n",
       "385422                     -660.68  0.0000–0.0100%  \n",
       "251789                     -657.32  0.0000–0.0100%  \n",
       "252126                     -359.52  0.0000–0.0100%  \n",
       "253984                     -292.09  0.0000–0.0100%  "
      ]
     },
     "metadata": {},
     "output_type": "display_data"
    },
    {
     "name": "stdout",
     "output_type": "stream",
     "text": [
      "\n",
      "---------------------------\n",
      "\n",
      "Extremely high ratios (> 100):\n"
     ]
    },
    {
     "data": {
      "text/html": [
       "<div>\n",
       "<style scoped>\n",
       "    .dataframe tbody tr th:only-of-type {\n",
       "        vertical-align: middle;\n",
       "    }\n",
       "\n",
       "    .dataframe tbody tr th {\n",
       "        vertical-align: top;\n",
       "    }\n",
       "\n",
       "    .dataframe thead th {\n",
       "        text-align: right;\n",
       "    }\n",
       "</style>\n",
       "<table border=\"1\" class=\"dataframe\">\n",
       "  <thead>\n",
       "    <tr style=\"text-align: right;\">\n",
       "      <th></th>\n",
       "      <th>Year-Month</th>\n",
       "      <th>Agency Number</th>\n",
       "      <th>Agency Name</th>\n",
       "      <th>Cardholder Last Name</th>\n",
       "      <th>Cardholder First Initial</th>\n",
       "      <th>Description</th>\n",
       "      <th>Amount</th>\n",
       "      <th>Vendor</th>\n",
       "      <th>Transaction Date</th>\n",
       "      <th>Posted Date</th>\n",
       "      <th>Merchant Category Code (MCC)</th>\n",
       "      <th>vendor_mcc_median</th>\n",
       "      <th>ratio_to_vendor_mcc_median</th>\n",
       "      <th>ratio_bin</th>\n",
       "    </tr>\n",
       "  </thead>\n",
       "  <tbody>\n",
       "    <tr>\n",
       "      <th>369304</th>\n",
       "      <td>2014-05-01</td>\n",
       "      <td>1000</td>\n",
       "      <td>OKLAHOMA STATE UNIVERSITY</td>\n",
       "      <td>Antene</td>\n",
       "      <td>M</td>\n",
       "      <td>ROOM CHARGES</td>\n",
       "      <td>131.19</td>\n",
       "      <td>COURTYARD BY MARRIOTT ADD</td>\n",
       "      <td>2014-05-27</td>\n",
       "      <td>2014-05-29</td>\n",
       "      <td>COURTYARD BY MARRIOTT</td>\n",
       "      <td>0.01</td>\n",
       "      <td>13,119.00</td>\n",
       "      <td>99.9950–100.0000%</td>\n",
       "    </tr>\n",
       "    <tr>\n",
       "      <th>68603</th>\n",
       "      <td>2014-01-01</td>\n",
       "      <td>2500</td>\n",
       "      <td>OKLAHOMA MILITARY DEPARTMENT</td>\n",
       "      <td>MALLOY</td>\n",
       "      <td>J</td>\n",
       "      <td>GENERAL PURCHASE</td>\n",
       "      <td>183,367.93</td>\n",
       "      <td>CONSTRUCTION DIVISION</td>\n",
       "      <td>2014-01-28</td>\n",
       "      <td>2014-01-29</td>\n",
       "      <td>GOVERNMENT SERVICES--NOT ELSEWHERE CLASSIFIED</td>\n",
       "      <td>127.49</td>\n",
       "      <td>1,438.29</td>\n",
       "      <td>99.9950–100.0000%</td>\n",
       "    </tr>\n",
       "    <tr>\n",
       "      <th>251680</th>\n",
       "      <td>2013-10-01</td>\n",
       "      <td>98000</td>\n",
       "      <td>GRAND RIVER DAM AUTH.</td>\n",
       "      <td>Cardholder</td>\n",
       "      <td>e</td>\n",
       "      <td>GENERAL PURCHASE</td>\n",
       "      <td>90,340.80</td>\n",
       "      <td>FAIRPOINT COMM. 80</td>\n",
       "      <td>2013-10-10</td>\n",
       "      <td>2013-10-11</td>\n",
       "      <td>GOVERNMENT SERVICES--NOT ELSEWHERE CLASSIFIED</td>\n",
       "      <td>98.35</td>\n",
       "      <td>918.52</td>\n",
       "      <td>99.9950–100.0000%</td>\n",
       "    </tr>\n",
       "    <tr>\n",
       "      <th>169572</th>\n",
       "      <td>2013-08-01</td>\n",
       "      <td>76000</td>\n",
       "      <td>UNIVERSITY OF OKLAHOMA</td>\n",
       "      <td>CANTRELL</td>\n",
       "      <td>P</td>\n",
       "      <td>ROOM CHARGES</td>\n",
       "      <td>114,203.17</td>\n",
       "      <td>EMBASSY SUITES NORMAN</td>\n",
       "      <td>2013-08-08</td>\n",
       "      <td>2013-08-09</td>\n",
       "      <td>EMBASSY SUITES</td>\n",
       "      <td>165.00</td>\n",
       "      <td>692.14</td>\n",
       "      <td>99.9950–100.0000%</td>\n",
       "    </tr>\n",
       "    <tr>\n",
       "      <th>249956</th>\n",
       "      <td>2013-08-01</td>\n",
       "      <td>98000</td>\n",
       "      <td>GRAND RIVER DAM AUTH.</td>\n",
       "      <td>Hunter</td>\n",
       "      <td>G</td>\n",
       "      <td>CHARGE_TRANS-9182087817 SRV|CHARGE_TRANS-91820...</td>\n",
       "      <td>63,748.30</td>\n",
       "      <td>SPRINT  WIRELESS</td>\n",
       "      <td>2013-08-10</td>\n",
       "      <td>2013-08-12</td>\n",
       "      <td>TELECOMMUNICATION SERVICES</td>\n",
       "      <td>94.99</td>\n",
       "      <td>671.11</td>\n",
       "      <td>99.9950–100.0000%</td>\n",
       "    </tr>\n",
       "  </tbody>\n",
       "</table>\n",
       "</div>"
      ],
      "text/plain": [
       "       Year-Month  Agency Number                   Agency Name  \\\n",
       "369304 2014-05-01           1000     OKLAHOMA STATE UNIVERSITY   \n",
       "68603  2014-01-01           2500  OKLAHOMA MILITARY DEPARTMENT   \n",
       "251680 2013-10-01          98000         GRAND RIVER DAM AUTH.   \n",
       "169572 2013-08-01          76000        UNIVERSITY OF OKLAHOMA   \n",
       "249956 2013-08-01          98000         GRAND RIVER DAM AUTH.   \n",
       "\n",
       "       Cardholder Last Name Cardholder First Initial  \\\n",
       "369304               Antene                        M   \n",
       "68603                MALLOY                        J   \n",
       "251680           Cardholder                        e   \n",
       "169572             CANTRELL                        P   \n",
       "249956               Hunter                        G   \n",
       "\n",
       "                                              Description     Amount  \\\n",
       "369304                                       ROOM CHARGES     131.19   \n",
       "68603                                    GENERAL PURCHASE 183,367.93   \n",
       "251680                                   GENERAL PURCHASE  90,340.80   \n",
       "169572                                       ROOM CHARGES 114,203.17   \n",
       "249956  CHARGE_TRANS-9182087817 SRV|CHARGE_TRANS-91820...  63,748.30   \n",
       "\n",
       "                           Vendor Transaction Date Posted Date  \\\n",
       "369304  COURTYARD BY MARRIOTT ADD       2014-05-27  2014-05-29   \n",
       "68603       CONSTRUCTION DIVISION       2014-01-28  2014-01-29   \n",
       "251680         FAIRPOINT COMM. 80       2013-10-10  2013-10-11   \n",
       "169572      EMBASSY SUITES NORMAN       2013-08-08  2013-08-09   \n",
       "249956           SPRINT  WIRELESS       2013-08-10  2013-08-12   \n",
       "\n",
       "                         Merchant Category Code (MCC)  vendor_mcc_median  \\\n",
       "369304                          COURTYARD BY MARRIOTT               0.01   \n",
       "68603   GOVERNMENT SERVICES--NOT ELSEWHERE CLASSIFIED             127.49   \n",
       "251680  GOVERNMENT SERVICES--NOT ELSEWHERE CLASSIFIED              98.35   \n",
       "169572                                 EMBASSY SUITES             165.00   \n",
       "249956                     TELECOMMUNICATION SERVICES              94.99   \n",
       "\n",
       "        ratio_to_vendor_mcc_median          ratio_bin  \n",
       "369304                   13,119.00  99.9950–100.0000%  \n",
       "68603                     1,438.29  99.9950–100.0000%  \n",
       "251680                      918.52  99.9950–100.0000%  \n",
       "169572                      692.14  99.9950–100.0000%  \n",
       "249956                      671.11  99.9950–100.0000%  "
      ]
     },
     "metadata": {},
     "output_type": "display_data"
    }
   ],
   "source": [
    "\n",
    "\n",
    "# 1. Compute median Amount for each (Vendor, MCC) combination\n",
    "vendor_mcc_median = (\n",
    "    df\n",
    "    .groupby(['Vendor', 'Merchant Category Code (MCC)'])['Amount']\n",
    "    .median()\n",
    "    .reset_index(name='vendor_mcc_median')\n",
    "    .sort_values(by=['Vendor', 'Merchant Category Code (MCC)'], ascending=False)\n",
    ")\n",
    "\n",
    "print(vendor_mcc_median.head(10))\n",
    "print(\"\\n---------------------------\\n\")\n",
    "print(f\"Vendor MCC with Median 0: {vendor_mcc_median[(vendor_mcc_median['vendor_mcc_median'] == 0) & \n",
    "                                                     (vendor_mcc_median['vendor_mcc_median'] != 0.01)].shape[0]:,} rows\")\n",
    "\n",
    "print(\"\\n---------------------------\\n\")\n",
    "\n",
    "# 2. Merge the median back onto the original DataFrame\n",
    "df2 = df.merge(\n",
    "    vendor_mcc_median,\n",
    "    on=['Vendor', 'Merchant Category Code (MCC)'],\n",
    "    how='left'\n",
    ")\n",
    "\n",
    "# 3. Compute the ratio of each transaction to its group median\n",
    "df2['ratio_to_vendor_mcc_median'] = np.where(\n",
    "    df2['vendor_mcc_median'] == 0,\n",
    "    0,\n",
    "    df2['Amount'] / df2['vendor_mcc_median']\n",
    ")\n",
    "\n",
    "# 4. Inspect the results\n",
    "print(df2[['Vendor', 'Merchant Category Code (MCC)', 'Amount', \n",
    "           'vendor_mcc_median', 'ratio_to_vendor_mcc_median']].head(10))\n",
    "print(\"\\n---------------------------\\n\")\n",
    "print(df2['ratio_to_vendor_mcc_median'].describe())\n",
    "print(\"\\n---------------------------\\n\")\n",
    "\n",
    "\n",
    "# 5. Define percentiles for binning\n",
    "percentiles = [0, 0.0001, 0.0005, 0.01, 0.05, 0.2, 0.5, 0.8, 0.95, 0.99, 0.9999, 0.99995, 1.0]\n",
    "\n",
    "# 6. Generate human-readable bin labels\n",
    "bin_labels = [\n",
    "    f\"{percentiles[i]*100:.4f}–{percentiles[i+1]*100:.4f}%\"\n",
    "    for i in range(len(percentiles) - 1)\n",
    "]\n",
    "\n",
    "# 7. Create the binned variable on df1\n",
    "df2['ratio_bin'] = pd.qcut(\n",
    "    df2['ratio_to_vendor_mcc_median'],\n",
    "    q=percentiles,\n",
    "    labels=bin_labels\n",
    ")\n",
    "\n",
    "# 8. Count number of records in each bin\n",
    "bin_counts = (\n",
    "    df2['ratio_bin']\n",
    "    .value_counts()\n",
    "    .sort_index()\n",
    "    .reset_index(name='count')\n",
    "    .rename(columns={'index': 'ratio_bin'})\n",
    ")\n",
    "\n",
    "# 9. Plot with Plotly\n",
    "fig = px.bar(\n",
    "    bin_counts,\n",
    "    x='ratio_bin',\n",
    "    y='count',\n",
    "    title='Transaction Count by Ratio-to-Median Percentile Bins',\n",
    "    labels={'ratio_bin': 'Ratio Percentile Bin', 'count': 'Record Count'},\n",
    "    template='plotly_white'\n",
    ")\n",
    "fig.update_layout(xaxis_tickangle=-45)\n",
    "fig.show()\n",
    "\n",
    "print(\"\\n---------------------------\\n\")\n",
    "\n",
    "# 10. Show bin-level statistics\n",
    "print(\"Ratio bins and their statistics relative to vendor-MCC median:\")\n",
    "print(df2.groupby('ratio_bin')['ratio_to_vendor_mcc_median']\n",
    "        .agg(['count', 'min', 'max'])\n",
    "        .reset_index())\n",
    "\n",
    "print(\"\\n---------------------------\\n\")\n",
    "\n",
    "# 11. Inspect extreme ratios\n",
    "print(\"Extremely low ratios (< 0):\")\n",
    "display(df2[df2['ratio_to_vendor_mcc_median'] < 0]\n",
    "        .sort_values('ratio_to_vendor_mcc_median')\n",
    "        .head())\n",
    "\n",
    "print(\"\\n---------------------------\\n\")\n",
    "\n",
    "print(\"Extremely high ratios (> 100):\")\n",
    "display(df2[df2['ratio_to_vendor_mcc_median'] > 100]\n",
    "        .sort_values('ratio_to_vendor_mcc_median', ascending=False)\n",
    "        .head())\n"
   ]
  },
  {
   "cell_type": "markdown",
   "id": "52cbbe8e",
   "metadata": {},
   "source": [
    "This result looks much better than with using Mean. The results makes more sense and we are still able to identify some anomalies in the low and high extremes of transaction values against the Median vendor x MCC amount.\n",
    "\n",
    "* There are 45 transactions with a ratio lower than -45. Ratio -45 is already concerning, but we found some with less than -100!\n",
    "* There are 45 transactions with ratio higher than 313! This is also concerning and warrants further investigation."
   ]
  },
  {
   "cell_type": "markdown",
   "id": "c819c491",
   "metadata": {},
   "source": [
    "### 3. Transaction Date vs Posted Date \n",
    "\n",
    "Let's look at the difference between the transaction date and the posted date. This can help us identify any delays in processing transactions (perhaps due to holidays, timezone differences, or other system errors which we must prevent). Delays in processing can be deterimental to merchants and even customers if they are expecting a transaction to be processed immediately, particularly for urgent matters."
   ]
  },
  {
   "cell_type": "code",
   "execution_count": 18,
   "id": "914311b2",
   "metadata": {},
   "outputs": [
    {
     "name": "stdout",
     "output_type": "stream",
     "text": [
      "    lag_days  transaction_count  min_amount  mean_amount   max_amount\n",
      "0          0              18616   -3,889.57       564.50   373,150.26\n",
      "1          1             201903  -41,740.00       392.57   348,053.75\n",
      "2          2             106620  -38,506.87       416.23   403,490.75\n",
      "3          3              76380  -34,108.00       437.41 1,089,180.00\n",
      "4          4              31073  -21,000.00       467.03   814,934.76\n",
      "..       ...                ...         ...          ...          ...\n",
      "69       104                  2     -550.00      -425.97      -301.94\n",
      "70       106                  1     -183.25      -183.25      -183.25\n",
      "71       130                  1      -30.00       -30.00       -30.00\n",
      "72       160                  1      -30.00       -30.00       -30.00\n",
      "73       183                  1      -34.82       -34.82       -34.82\n",
      "\n",
      "[74 rows x 5 columns]\n"
     ]
    }
   ],
   "source": [
    "df3 = df.copy()\n",
    "# Compute the lag in days between transaction and posting\n",
    "df3['lag_days'] = (df3['Posted Date'] - df3['Transaction Date']).dt.days\n",
    "\n",
    "# Group by lag_days and compute min, mean, max of Amount\n",
    "lag_stats = (\n",
    "    df3.groupby('lag_days')['Amount']\n",
    "      .agg(transaction_count='count', min_amount='min', mean_amount='mean', max_amount='max')\n",
    "      .reset_index()\n",
    ")\n",
    "\n",
    "# Round mean_amount for readability\n",
    "lag_stats['mean_amount'] = lag_stats['mean_amount'].round(2)\n",
    "\n",
    "# Display the results\n",
    "print(lag_stats)"
   ]
  },
  {
   "cell_type": "markdown",
   "id": "58aae0de",
   "metadata": {},
   "source": [
    "Interestingly, even though these transactions are refunds, we have transactions with lags for more than 100 days! This can be cause for operational concern, as it indicates that there may be delays in processing refunds or that there are issues with the transaction data itself.\n",
    "\n",
    "Below are the data with lags more than 100 days."
   ]
  },
  {
   "cell_type": "code",
   "execution_count": 19,
   "id": "40a06169",
   "metadata": {},
   "outputs": [
    {
     "data": {
      "text/html": [
       "<div>\n",
       "<style scoped>\n",
       "    .dataframe tbody tr th:only-of-type {\n",
       "        vertical-align: middle;\n",
       "    }\n",
       "\n",
       "    .dataframe tbody tr th {\n",
       "        vertical-align: top;\n",
       "    }\n",
       "\n",
       "    .dataframe thead th {\n",
       "        text-align: right;\n",
       "    }\n",
       "</style>\n",
       "<table border=\"1\" class=\"dataframe\">\n",
       "  <thead>\n",
       "    <tr style=\"text-align: right;\">\n",
       "      <th></th>\n",
       "      <th>Year-Month</th>\n",
       "      <th>Agency Number</th>\n",
       "      <th>Agency Name</th>\n",
       "      <th>Cardholder Last Name</th>\n",
       "      <th>Cardholder First Initial</th>\n",
       "      <th>Description</th>\n",
       "      <th>Amount</th>\n",
       "      <th>Vendor</th>\n",
       "      <th>Transaction Date</th>\n",
       "      <th>Posted Date</th>\n",
       "      <th>Merchant Category Code (MCC)</th>\n",
       "      <th>lag_days</th>\n",
       "    </tr>\n",
       "  </thead>\n",
       "  <tbody>\n",
       "    <tr>\n",
       "      <th>31364</th>\n",
       "      <td>2013-10-01</td>\n",
       "      <td>1000</td>\n",
       "      <td>OKLAHOMA STATE UNIVERSITY</td>\n",
       "      <td>Tucker</td>\n",
       "      <td>E</td>\n",
       "      <td>GENERAL PURCHASE</td>\n",
       "      <td>-34.82</td>\n",
       "      <td>UNIVERSITEIT GENT</td>\n",
       "      <td>2013-04-17</td>\n",
       "      <td>2013-10-17</td>\n",
       "      <td>COMBINATION CATALOG AND RETAIL MERCHANT</td>\n",
       "      <td>183</td>\n",
       "    </tr>\n",
       "    <tr>\n",
       "      <th>32484</th>\n",
       "      <td>2013-10-01</td>\n",
       "      <td>1000</td>\n",
       "      <td>OKLAHOMA STATE UNIVERSITY</td>\n",
       "      <td>Beem</td>\n",
       "      <td>M</td>\n",
       "      <td>GENERAL PURCHASE</td>\n",
       "      <td>-301.94</td>\n",
       "      <td>Claim ADJ/STAPLES       0</td>\n",
       "      <td>2013-07-09</td>\n",
       "      <td>2013-10-21</td>\n",
       "      <td>STATIONERY,OFFICE AND SCHOOL SUPPLY STORES</td>\n",
       "      <td>104</td>\n",
       "    </tr>\n",
       "    <tr>\n",
       "      <th>47627</th>\n",
       "      <td>2013-11-01</td>\n",
       "      <td>1000</td>\n",
       "      <td>OKLAHOMA STATE UNIVERSITY</td>\n",
       "      <td>Kaundal</td>\n",
       "      <td>R</td>\n",
       "      <td>GENERAL PURCHASE</td>\n",
       "      <td>-550.00</td>\n",
       "      <td>GLOBAL ENGAGE LTD</td>\n",
       "      <td>2013-07-31</td>\n",
       "      <td>2013-11-12</td>\n",
       "      <td>SCHOOLS AND EDUCATIONAL SERVICES NOT ELSEWHERE...</td>\n",
       "      <td>104</td>\n",
       "    </tr>\n",
       "    <tr>\n",
       "      <th>295987</th>\n",
       "      <td>2014-02-01</td>\n",
       "      <td>16000</td>\n",
       "      <td>DEPARTMENT OF COMMERCE</td>\n",
       "      <td>Lofton</td>\n",
       "      <td>L</td>\n",
       "      <td>ROOM CHARGES</td>\n",
       "      <td>-4.15</td>\n",
       "      <td>HOLIDAY INN EXPRESS</td>\n",
       "      <td>2013-11-12</td>\n",
       "      <td>2014-02-21</td>\n",
       "      <td>HOLIDAY INNS</td>\n",
       "      <td>101</td>\n",
       "    </tr>\n",
       "    <tr>\n",
       "      <th>329682</th>\n",
       "      <td>2014-02-01</td>\n",
       "      <td>76000</td>\n",
       "      <td>UNIVERSITY OF OKLAHOMA</td>\n",
       "      <td>MILLER</td>\n",
       "      <td>D</td>\n",
       "      <td>GENERAL PURCHASE</td>\n",
       "      <td>-30.00</td>\n",
       "      <td>AT&amp;T DATA</td>\n",
       "      <td>2013-09-19</td>\n",
       "      <td>2014-02-26</td>\n",
       "      <td>TELECOMMUNICATION SERVICES</td>\n",
       "      <td>160</td>\n",
       "    </tr>\n",
       "    <tr>\n",
       "      <th>329683</th>\n",
       "      <td>2014-02-01</td>\n",
       "      <td>76000</td>\n",
       "      <td>UNIVERSITY OF OKLAHOMA</td>\n",
       "      <td>MILLER</td>\n",
       "      <td>D</td>\n",
       "      <td>GENERAL PURCHASE</td>\n",
       "      <td>-30.00</td>\n",
       "      <td>AT&amp;T DATA</td>\n",
       "      <td>2013-10-19</td>\n",
       "      <td>2014-02-26</td>\n",
       "      <td>TELECOMMUNICATION SERVICES</td>\n",
       "      <td>130</td>\n",
       "    </tr>\n",
       "    <tr>\n",
       "      <th>405961</th>\n",
       "      <td>2014-06-01</td>\n",
       "      <td>53100</td>\n",
       "      <td>ROSE STATE COLEGE</td>\n",
       "      <td>Lastinger</td>\n",
       "      <td>S</td>\n",
       "      <td>GENERAL PURCHASE</td>\n",
       "      <td>-183.25</td>\n",
       "      <td>Claim ADJ/HOLIDAY INN DOW</td>\n",
       "      <td>2014-02-23</td>\n",
       "      <td>2014-06-09</td>\n",
       "      <td>LODGING--HOTELS,MOTELS,AND RESORTS</td>\n",
       "      <td>106</td>\n",
       "    </tr>\n",
       "  </tbody>\n",
       "</table>\n",
       "</div>"
      ],
      "text/plain": [
       "       Year-Month  Agency Number                Agency Name  \\\n",
       "31364  2013-10-01           1000  OKLAHOMA STATE UNIVERSITY   \n",
       "32484  2013-10-01           1000  OKLAHOMA STATE UNIVERSITY   \n",
       "47627  2013-11-01           1000  OKLAHOMA STATE UNIVERSITY   \n",
       "295987 2014-02-01          16000     DEPARTMENT OF COMMERCE   \n",
       "329682 2014-02-01          76000     UNIVERSITY OF OKLAHOMA   \n",
       "329683 2014-02-01          76000     UNIVERSITY OF OKLAHOMA   \n",
       "405961 2014-06-01          53100          ROSE STATE COLEGE   \n",
       "\n",
       "       Cardholder Last Name Cardholder First Initial       Description  \\\n",
       "31364                Tucker                        E  GENERAL PURCHASE   \n",
       "32484                  Beem                        M  GENERAL PURCHASE   \n",
       "47627               Kaundal                        R  GENERAL PURCHASE   \n",
       "295987               Lofton                        L      ROOM CHARGES   \n",
       "329682               MILLER                        D  GENERAL PURCHASE   \n",
       "329683               MILLER                        D  GENERAL PURCHASE   \n",
       "405961            Lastinger                        S  GENERAL PURCHASE   \n",
       "\n",
       "        Amount                     Vendor Transaction Date Posted Date  \\\n",
       "31364   -34.82          UNIVERSITEIT GENT       2013-04-17  2013-10-17   \n",
       "32484  -301.94  Claim ADJ/STAPLES       0       2013-07-09  2013-10-21   \n",
       "47627  -550.00          GLOBAL ENGAGE LTD       2013-07-31  2013-11-12   \n",
       "295987   -4.15        HOLIDAY INN EXPRESS       2013-11-12  2014-02-21   \n",
       "329682  -30.00                  AT&T DATA       2013-09-19  2014-02-26   \n",
       "329683  -30.00                  AT&T DATA       2013-10-19  2014-02-26   \n",
       "405961 -183.25  Claim ADJ/HOLIDAY INN DOW       2014-02-23  2014-06-09   \n",
       "\n",
       "                             Merchant Category Code (MCC)  lag_days  \n",
       "31364             COMBINATION CATALOG AND RETAIL MERCHANT       183  \n",
       "32484          STATIONERY,OFFICE AND SCHOOL SUPPLY STORES       104  \n",
       "47627   SCHOOLS AND EDUCATIONAL SERVICES NOT ELSEWHERE...       104  \n",
       "295987                                       HOLIDAY INNS       101  \n",
       "329682                         TELECOMMUNICATION SERVICES       160  \n",
       "329683                         TELECOMMUNICATION SERVICES       130  \n",
       "405961                 LODGING--HOTELS,MOTELS,AND RESORTS       106  "
      ]
     },
     "execution_count": 19,
     "metadata": {},
     "output_type": "execute_result"
    }
   ],
   "source": [
    "df3[df3['lag_days'] > 100].head(10)"
   ]
  },
  {
   "cell_type": "markdown",
   "id": "a6d315c6",
   "metadata": {},
   "source": [
    "### 4. Month on Month Change in Total Transaction Amount by Cardholder\n",
    "\n",
    "This feature will help us identify cardholders who have a significant change in their total transaction amount from one month to the next. This can help us identify potential anomalies or unusual spending patterns. Another use case is, for future analysis, is to determine patterns for any sudden spikes in spending, e.g. during holidays or special events."
   ]
  },
  {
   "cell_type": "code",
   "execution_count": 20,
   "id": "40af1e0a",
   "metadata": {},
   "outputs": [
    {
     "data": {
      "text/plain": [
       "count       36,876.00\n",
       "mean           251.62\n",
       "std          7,724.39\n",
       "min     -1,352,100.00\n",
       "25%            -58.27\n",
       "50%             -1.49\n",
       "75%            124.21\n",
       "max        184,508.54\n",
       "Name: pct_change, dtype: float64"
      ]
     },
     "execution_count": 20,
     "metadata": {},
     "output_type": "execute_result"
    }
   ],
   "source": [
    "# 1. Compute monthly total spend per cardholder\n",
    "df_cardholder_monthly = (\n",
    "    df.groupby(['Cardholder Last Name', 'Cardholder First Initial', 'Year-Month'])['Amount']\n",
    "      .sum()\n",
    "      .reset_index(name='monthly_spend')\n",
    "      .sort_values(['Cardholder Last Name', 'Cardholder First Initial', 'Year-Month'])\n",
    ")\n",
    "\n",
    "# Round the total amount\n",
    "df_cardholder_monthly['monthly_spend'] = df_cardholder_monthly['monthly_spend'].round(2)\n",
    "\n",
    "# Filter out months with 0 spend\n",
    "df_cardholder_monthly = df_cardholder_monthly[df_cardholder_monthly['monthly_spend'] != 0]\n",
    "\n",
    "df_cardholder_monthly = df_cardholder_monthly.sort_values(['Cardholder Last Name', 'Cardholder First Initial', 'Year-Month'])\n",
    "\n",
    "# 3. Compute month-on-month percent change per cardholder\n",
    "df_cardholder_monthly['pct_change'] = (\n",
    "    df_cardholder_monthly\n",
    "    .groupby(['Cardholder Last Name', 'Cardholder First Initial'])['monthly_spend']\n",
    "    .pct_change() * 100\n",
    ")\n",
    "\n",
    "# 4. Extract and clean percent changes\n",
    "pct_changes = df_cardholder_monthly['pct_change'].dropna()\n",
    "\n",
    "df_cardholder_monthly['pct_change'].describe()"
   ]
  },
  {
   "cell_type": "markdown",
   "id": "64e321cc",
   "metadata": {},
   "source": [
    "We can see that there are some customers who has made significant changes in their spending patterns from one month to the next. This could indicate potential anomalies or unusual spending patterns."
   ]
  },
  {
   "cell_type": "code",
   "execution_count": 21,
   "id": "27e7388e",
   "metadata": {},
   "outputs": [
    {
     "data": {
      "text/html": [
       "<div>\n",
       "<style scoped>\n",
       "    .dataframe tbody tr th:only-of-type {\n",
       "        vertical-align: middle;\n",
       "    }\n",
       "\n",
       "    .dataframe tbody tr th {\n",
       "        vertical-align: top;\n",
       "    }\n",
       "\n",
       "    .dataframe thead th {\n",
       "        text-align: right;\n",
       "    }\n",
       "</style>\n",
       "<table border=\"1\" class=\"dataframe\">\n",
       "  <thead>\n",
       "    <tr style=\"text-align: right;\">\n",
       "      <th></th>\n",
       "      <th>Cardholder Last Name</th>\n",
       "      <th>Cardholder First Initial</th>\n",
       "      <th>Year-Month</th>\n",
       "      <th>monthly_spend</th>\n",
       "      <th>pct_change</th>\n",
       "    </tr>\n",
       "  </thead>\n",
       "  <tbody>\n",
       "    <tr>\n",
       "      <th>0</th>\n",
       "      <td>FEINBERG</td>\n",
       "      <td>R</td>\n",
       "      <td>2013-07-01</td>\n",
       "      <td>409.50</td>\n",
       "      <td>NaN</td>\n",
       "    </tr>\n",
       "    <tr>\n",
       "      <th>1</th>\n",
       "      <td>FEINBERG</td>\n",
       "      <td>R</td>\n",
       "      <td>2013-08-01</td>\n",
       "      <td>482.55</td>\n",
       "      <td>17.84</td>\n",
       "    </tr>\n",
       "    <tr>\n",
       "      <th>2</th>\n",
       "      <td>FEINBERG</td>\n",
       "      <td>R</td>\n",
       "      <td>2013-09-01</td>\n",
       "      <td>260.78</td>\n",
       "      <td>-45.96</td>\n",
       "    </tr>\n",
       "    <tr>\n",
       "      <th>3</th>\n",
       "      <td>FEINBERG</td>\n",
       "      <td>R</td>\n",
       "      <td>2013-10-01</td>\n",
       "      <td>332.37</td>\n",
       "      <td>27.45</td>\n",
       "    </tr>\n",
       "    <tr>\n",
       "      <th>4</th>\n",
       "      <td>FEINBERG</td>\n",
       "      <td>R</td>\n",
       "      <td>2013-11-01</td>\n",
       "      <td>-0.16</td>\n",
       "      <td>-100.05</td>\n",
       "    </tr>\n",
       "    <tr>\n",
       "      <th>5</th>\n",
       "      <td>FEINBERG</td>\n",
       "      <td>R</td>\n",
       "      <td>2014-01-01</td>\n",
       "      <td>509.32</td>\n",
       "      <td>-318,425.00</td>\n",
       "    </tr>\n",
       "    <tr>\n",
       "      <th>6</th>\n",
       "      <td>FEINBERG</td>\n",
       "      <td>R</td>\n",
       "      <td>2014-02-01</td>\n",
       "      <td>736.86</td>\n",
       "      <td>44.68</td>\n",
       "    </tr>\n",
       "    <tr>\n",
       "      <th>7</th>\n",
       "      <td>FEINBERG</td>\n",
       "      <td>R</td>\n",
       "      <td>2014-03-01</td>\n",
       "      <td>205.77</td>\n",
       "      <td>-72.07</td>\n",
       "    </tr>\n",
       "    <tr>\n",
       "      <th>8</th>\n",
       "      <td>FEINBERG</td>\n",
       "      <td>R</td>\n",
       "      <td>2014-05-01</td>\n",
       "      <td>6.25</td>\n",
       "      <td>-96.96</td>\n",
       "    </tr>\n",
       "    <tr>\n",
       "      <th>9</th>\n",
       "      <td>FEINBERG</td>\n",
       "      <td>R</td>\n",
       "      <td>2014-06-01</td>\n",
       "      <td>64.56</td>\n",
       "      <td>932.96</td>\n",
       "    </tr>\n",
       "    <tr>\n",
       "      <th>10</th>\n",
       "      <td>SHAHAN</td>\n",
       "      <td>K</td>\n",
       "      <td>2013-07-01</td>\n",
       "      <td>74.41</td>\n",
       "      <td>NaN</td>\n",
       "    </tr>\n",
       "    <tr>\n",
       "      <th>11</th>\n",
       "      <td>SHAHAN</td>\n",
       "      <td>K</td>\n",
       "      <td>2013-09-01</td>\n",
       "      <td>107.37</td>\n",
       "      <td>44.30</td>\n",
       "    </tr>\n",
       "    <tr>\n",
       "      <th>12</th>\n",
       "      <td>SHAHAN</td>\n",
       "      <td>K</td>\n",
       "      <td>2013-10-01</td>\n",
       "      <td>44.33</td>\n",
       "      <td>-58.71</td>\n",
       "    </tr>\n",
       "    <tr>\n",
       "      <th>13</th>\n",
       "      <td>SHAHAN</td>\n",
       "      <td>K</td>\n",
       "      <td>2013-11-01</td>\n",
       "      <td>41.29</td>\n",
       "      <td>-6.86</td>\n",
       "    </tr>\n",
       "    <tr>\n",
       "      <th>14</th>\n",
       "      <td>SHAHAN</td>\n",
       "      <td>K</td>\n",
       "      <td>2013-12-01</td>\n",
       "      <td>-0.02</td>\n",
       "      <td>-100.05</td>\n",
       "    </tr>\n",
       "    <tr>\n",
       "      <th>15</th>\n",
       "      <td>SHAHAN</td>\n",
       "      <td>K</td>\n",
       "      <td>2014-01-01</td>\n",
       "      <td>270.40</td>\n",
       "      <td>-1,352,100.00</td>\n",
       "    </tr>\n",
       "    <tr>\n",
       "      <th>16</th>\n",
       "      <td>SHAHAN</td>\n",
       "      <td>K</td>\n",
       "      <td>2014-02-01</td>\n",
       "      <td>21.79</td>\n",
       "      <td>-91.94</td>\n",
       "    </tr>\n",
       "    <tr>\n",
       "      <th>17</th>\n",
       "      <td>SHAHAN</td>\n",
       "      <td>K</td>\n",
       "      <td>2014-03-01</td>\n",
       "      <td>969.26</td>\n",
       "      <td>4,348.19</td>\n",
       "    </tr>\n",
       "    <tr>\n",
       "      <th>18</th>\n",
       "      <td>SHAHAN</td>\n",
       "      <td>K</td>\n",
       "      <td>2014-05-01</td>\n",
       "      <td>70.20</td>\n",
       "      <td>-92.76</td>\n",
       "    </tr>\n",
       "    <tr>\n",
       "      <th>19</th>\n",
       "      <td>SHAHAN</td>\n",
       "      <td>K</td>\n",
       "      <td>2014-06-01</td>\n",
       "      <td>1,903.77</td>\n",
       "      <td>2,611.92</td>\n",
       "    </tr>\n",
       "  </tbody>\n",
       "</table>\n",
       "</div>"
      ],
      "text/plain": [
       "   Cardholder Last Name Cardholder First Initial Year-Month  monthly_spend  \\\n",
       "0              FEINBERG                        R 2013-07-01         409.50   \n",
       "1              FEINBERG                        R 2013-08-01         482.55   \n",
       "2              FEINBERG                        R 2013-09-01         260.78   \n",
       "3              FEINBERG                        R 2013-10-01         332.37   \n",
       "4              FEINBERG                        R 2013-11-01          -0.16   \n",
       "5              FEINBERG                        R 2014-01-01         509.32   \n",
       "6              FEINBERG                        R 2014-02-01         736.86   \n",
       "7              FEINBERG                        R 2014-03-01         205.77   \n",
       "8              FEINBERG                        R 2014-05-01           6.25   \n",
       "9              FEINBERG                        R 2014-06-01          64.56   \n",
       "10               SHAHAN                        K 2013-07-01          74.41   \n",
       "11               SHAHAN                        K 2013-09-01         107.37   \n",
       "12               SHAHAN                        K 2013-10-01          44.33   \n",
       "13               SHAHAN                        K 2013-11-01          41.29   \n",
       "14               SHAHAN                        K 2013-12-01          -0.02   \n",
       "15               SHAHAN                        K 2014-01-01         270.40   \n",
       "16               SHAHAN                        K 2014-02-01          21.79   \n",
       "17               SHAHAN                        K 2014-03-01         969.26   \n",
       "18               SHAHAN                        K 2014-05-01          70.20   \n",
       "19               SHAHAN                        K 2014-06-01       1,903.77   \n",
       "\n",
       "      pct_change  \n",
       "0            NaN  \n",
       "1          17.84  \n",
       "2         -45.96  \n",
       "3          27.45  \n",
       "4        -100.05  \n",
       "5    -318,425.00  \n",
       "6          44.68  \n",
       "7         -72.07  \n",
       "8         -96.96  \n",
       "9         932.96  \n",
       "10           NaN  \n",
       "11         44.30  \n",
       "12        -58.71  \n",
       "13         -6.86  \n",
       "14       -100.05  \n",
       "15 -1,352,100.00  \n",
       "16        -91.94  \n",
       "17      4,348.19  \n",
       "18        -92.76  \n",
       "19      2,611.92  "
      ]
     },
     "metadata": {},
     "output_type": "display_data"
    }
   ],
   "source": [
    "# Get two users with the largest negative percent change\n",
    "lowest_changes = df_cardholder_monthly[df_cardholder_monthly['pct_change'] < -100].sort_values('pct_change').head(2)[['Cardholder Last Name', 'Cardholder First Initial']]\n",
    "display(df_cardholder_monthly.merge(lowest_changes, on=['Cardholder Last Name', 'Cardholder First Initial'], how='inner'))"
   ]
  },
  {
   "cell_type": "code",
   "execution_count": 22,
   "id": "eef5626d",
   "metadata": {},
   "outputs": [
    {
     "data": {
      "text/html": [
       "<div>\n",
       "<style scoped>\n",
       "    .dataframe tbody tr th:only-of-type {\n",
       "        vertical-align: middle;\n",
       "    }\n",
       "\n",
       "    .dataframe tbody tr th {\n",
       "        vertical-align: top;\n",
       "    }\n",
       "\n",
       "    .dataframe thead th {\n",
       "        text-align: right;\n",
       "    }\n",
       "</style>\n",
       "<table border=\"1\" class=\"dataframe\">\n",
       "  <thead>\n",
       "    <tr style=\"text-align: right;\">\n",
       "      <th></th>\n",
       "      <th>Cardholder Last Name</th>\n",
       "      <th>Cardholder First Initial</th>\n",
       "      <th>Year-Month</th>\n",
       "      <th>monthly_spend</th>\n",
       "      <th>pct_change</th>\n",
       "    </tr>\n",
       "  </thead>\n",
       "  <tbody>\n",
       "    <tr>\n",
       "      <th>0</th>\n",
       "      <td>Antene</td>\n",
       "      <td>M</td>\n",
       "      <td>2013-07-01</td>\n",
       "      <td>1,042.46</td>\n",
       "      <td>NaN</td>\n",
       "    </tr>\n",
       "    <tr>\n",
       "      <th>1</th>\n",
       "      <td>Antene</td>\n",
       "      <td>M</td>\n",
       "      <td>2013-08-01</td>\n",
       "      <td>1,047.90</td>\n",
       "      <td>0.52</td>\n",
       "    </tr>\n",
       "    <tr>\n",
       "      <th>2</th>\n",
       "      <td>Antene</td>\n",
       "      <td>M</td>\n",
       "      <td>2013-09-01</td>\n",
       "      <td>2.80</td>\n",
       "      <td>-99.73</td>\n",
       "    </tr>\n",
       "    <tr>\n",
       "      <th>3</th>\n",
       "      <td>Antene</td>\n",
       "      <td>M</td>\n",
       "      <td>2013-10-01</td>\n",
       "      <td>5,025.17</td>\n",
       "      <td>179,370.36</td>\n",
       "    </tr>\n",
       "    <tr>\n",
       "      <th>4</th>\n",
       "      <td>Antene</td>\n",
       "      <td>M</td>\n",
       "      <td>2013-11-01</td>\n",
       "      <td>1,910.59</td>\n",
       "      <td>-61.98</td>\n",
       "    </tr>\n",
       "    <tr>\n",
       "      <th>5</th>\n",
       "      <td>Antene</td>\n",
       "      <td>M</td>\n",
       "      <td>2013-12-01</td>\n",
       "      <td>2,599.70</td>\n",
       "      <td>36.07</td>\n",
       "    </tr>\n",
       "    <tr>\n",
       "      <th>6</th>\n",
       "      <td>Antene</td>\n",
       "      <td>M</td>\n",
       "      <td>2014-01-01</td>\n",
       "      <td>2,096.28</td>\n",
       "      <td>-19.36</td>\n",
       "    </tr>\n",
       "    <tr>\n",
       "      <th>7</th>\n",
       "      <td>Antene</td>\n",
       "      <td>M</td>\n",
       "      <td>2014-02-01</td>\n",
       "      <td>2,649.06</td>\n",
       "      <td>26.37</td>\n",
       "    </tr>\n",
       "    <tr>\n",
       "      <th>8</th>\n",
       "      <td>Antene</td>\n",
       "      <td>M</td>\n",
       "      <td>2014-03-01</td>\n",
       "      <td>782.47</td>\n",
       "      <td>-70.46</td>\n",
       "    </tr>\n",
       "    <tr>\n",
       "      <th>9</th>\n",
       "      <td>Antene</td>\n",
       "      <td>M</td>\n",
       "      <td>2014-04-01</td>\n",
       "      <td>4,772.31</td>\n",
       "      <td>509.90</td>\n",
       "    </tr>\n",
       "    <tr>\n",
       "      <th>10</th>\n",
       "      <td>Antene</td>\n",
       "      <td>M</td>\n",
       "      <td>2014-05-01</td>\n",
       "      <td>401.45</td>\n",
       "      <td>-91.59</td>\n",
       "    </tr>\n",
       "    <tr>\n",
       "      <th>11</th>\n",
       "      <td>Antene</td>\n",
       "      <td>M</td>\n",
       "      <td>2014-06-01</td>\n",
       "      <td>3,112.14</td>\n",
       "      <td>675.22</td>\n",
       "    </tr>\n",
       "    <tr>\n",
       "      <th>12</th>\n",
       "      <td>Rebek</td>\n",
       "      <td>E</td>\n",
       "      <td>2013-07-01</td>\n",
       "      <td>2,210.00</td>\n",
       "      <td>NaN</td>\n",
       "    </tr>\n",
       "    <tr>\n",
       "      <th>13</th>\n",
       "      <td>Rebek</td>\n",
       "      <td>E</td>\n",
       "      <td>2013-08-01</td>\n",
       "      <td>279.38</td>\n",
       "      <td>-87.36</td>\n",
       "    </tr>\n",
       "    <tr>\n",
       "      <th>14</th>\n",
       "      <td>Rebek</td>\n",
       "      <td>E</td>\n",
       "      <td>2013-10-01</td>\n",
       "      <td>119.95</td>\n",
       "      <td>-57.07</td>\n",
       "    </tr>\n",
       "    <tr>\n",
       "      <th>15</th>\n",
       "      <td>Rebek</td>\n",
       "      <td>E</td>\n",
       "      <td>2013-11-01</td>\n",
       "      <td>721.35</td>\n",
       "      <td>501.38</td>\n",
       "    </tr>\n",
       "    <tr>\n",
       "      <th>16</th>\n",
       "      <td>Rebek</td>\n",
       "      <td>E</td>\n",
       "      <td>2013-12-01</td>\n",
       "      <td>57.96</td>\n",
       "      <td>-91.97</td>\n",
       "    </tr>\n",
       "    <tr>\n",
       "      <th>17</th>\n",
       "      <td>Rebek</td>\n",
       "      <td>E</td>\n",
       "      <td>2014-01-01</td>\n",
       "      <td>233.19</td>\n",
       "      <td>302.33</td>\n",
       "    </tr>\n",
       "    <tr>\n",
       "      <th>18</th>\n",
       "      <td>Rebek</td>\n",
       "      <td>E</td>\n",
       "      <td>2014-02-01</td>\n",
       "      <td>1.99</td>\n",
       "      <td>-99.15</td>\n",
       "    </tr>\n",
       "    <tr>\n",
       "      <th>19</th>\n",
       "      <td>Rebek</td>\n",
       "      <td>E</td>\n",
       "      <td>2014-03-01</td>\n",
       "      <td>3,673.71</td>\n",
       "      <td>184,508.54</td>\n",
       "    </tr>\n",
       "    <tr>\n",
       "      <th>20</th>\n",
       "      <td>Rebek</td>\n",
       "      <td>E</td>\n",
       "      <td>2014-04-01</td>\n",
       "      <td>71.98</td>\n",
       "      <td>-98.04</td>\n",
       "    </tr>\n",
       "    <tr>\n",
       "      <th>21</th>\n",
       "      <td>Rebek</td>\n",
       "      <td>E</td>\n",
       "      <td>2014-05-01</td>\n",
       "      <td>2,419.06</td>\n",
       "      <td>3,260.74</td>\n",
       "    </tr>\n",
       "    <tr>\n",
       "      <th>22</th>\n",
       "      <td>Rebek</td>\n",
       "      <td>E</td>\n",
       "      <td>2014-06-01</td>\n",
       "      <td>1,295.23</td>\n",
       "      <td>-46.46</td>\n",
       "    </tr>\n",
       "  </tbody>\n",
       "</table>\n",
       "</div>"
      ],
      "text/plain": [
       "   Cardholder Last Name Cardholder First Initial Year-Month  monthly_spend  \\\n",
       "0                Antene                        M 2013-07-01       1,042.46   \n",
       "1                Antene                        M 2013-08-01       1,047.90   \n",
       "2                Antene                        M 2013-09-01           2.80   \n",
       "3                Antene                        M 2013-10-01       5,025.17   \n",
       "4                Antene                        M 2013-11-01       1,910.59   \n",
       "5                Antene                        M 2013-12-01       2,599.70   \n",
       "6                Antene                        M 2014-01-01       2,096.28   \n",
       "7                Antene                        M 2014-02-01       2,649.06   \n",
       "8                Antene                        M 2014-03-01         782.47   \n",
       "9                Antene                        M 2014-04-01       4,772.31   \n",
       "10               Antene                        M 2014-05-01         401.45   \n",
       "11               Antene                        M 2014-06-01       3,112.14   \n",
       "12                Rebek                        E 2013-07-01       2,210.00   \n",
       "13                Rebek                        E 2013-08-01         279.38   \n",
       "14                Rebek                        E 2013-10-01         119.95   \n",
       "15                Rebek                        E 2013-11-01         721.35   \n",
       "16                Rebek                        E 2013-12-01          57.96   \n",
       "17                Rebek                        E 2014-01-01         233.19   \n",
       "18                Rebek                        E 2014-02-01           1.99   \n",
       "19                Rebek                        E 2014-03-01       3,673.71   \n",
       "20                Rebek                        E 2014-04-01          71.98   \n",
       "21                Rebek                        E 2014-05-01       2,419.06   \n",
       "22                Rebek                        E 2014-06-01       1,295.23   \n",
       "\n",
       "    pct_change  \n",
       "0          NaN  \n",
       "1         0.52  \n",
       "2       -99.73  \n",
       "3   179,370.36  \n",
       "4       -61.98  \n",
       "5        36.07  \n",
       "6       -19.36  \n",
       "7        26.37  \n",
       "8       -70.46  \n",
       "9       509.90  \n",
       "10      -91.59  \n",
       "11      675.22  \n",
       "12         NaN  \n",
       "13      -87.36  \n",
       "14      -57.07  \n",
       "15      501.38  \n",
       "16      -91.97  \n",
       "17      302.33  \n",
       "18      -99.15  \n",
       "19  184,508.54  \n",
       "20      -98.04  \n",
       "21    3,260.74  \n",
       "22      -46.46  "
      ]
     },
     "metadata": {},
     "output_type": "display_data"
    }
   ],
   "source": [
    "# Get two users with the largest percent change\n",
    "highest_changes = df_cardholder_monthly[df_cardholder_monthly['pct_change'] > 1000].sort_values('pct_change', ascending=False).head(2)[['Cardholder Last Name', 'Cardholder First Initial']]\n",
    "display(df_cardholder_monthly.merge(highest_changes, on=['Cardholder Last Name', 'Cardholder First Initial'], how='inner'))"
   ]
  },
  {
   "cell_type": "markdown",
   "id": "fd3bcad7",
   "metadata": {},
   "source": [
    "We can see that these transactions are quite sudden and significant, with some customers spending more than 1000% more in one month compared to the previous month. This could indicate potential anomalies or unusual spending patterns."
   ]
  },
  {
   "cell_type": "code",
   "execution_count": 23,
   "id": "58f5b31a",
   "metadata": {},
   "outputs": [
    {
     "name": "stdout",
     "output_type": "stream",
     "text": [
      "Total unique cardholders: 5,213\n",
      "Total unique cardholders with higher Month on Month Transaction Value: 1,723 (33.05%)\n"
     ]
    }
   ],
   "source": [
    "unique_cardholders = df[['Cardholder Last Name', 'Cardholder First Initial']].drop_duplicates()\n",
    "highest_changes_cardholders = df_cardholder_monthly[df_cardholder_monthly['pct_change'] > 1000][['Cardholder Last Name', 'Cardholder First Initial']].drop_duplicates()\n",
    "\n",
    "print(f\"Total unique cardholders: {unique_cardholders.shape[0]:,}\")\n",
    "print(f\"Total unique cardholders with higher Month on Month Transaction Value: {highest_changes_cardholders.shape[0]:,} ({highest_changes_cardholders.shape[0] / unique_cardholders.shape[0] * 100:.2f}%)\")"
   ]
  },
  {
   "cell_type": "markdown",
   "id": "c0e82aaf",
   "metadata": {},
   "source": [
    "According to this rule, about 33.05% of cardholders have made significant changes. This maybe because the threshold is still considered normal in this particular user base and industry. We can try to increase the threshold to see if we can find more anomalies."
   ]
  },
  {
   "cell_type": "code",
   "execution_count": 24,
   "id": "88f0322a",
   "metadata": {},
   "outputs": [
    {
     "name": "stdout",
     "output_type": "stream",
     "text": [
      "Total unique cardholders: 5,213\n",
      "Total unique cardholders with higher Month on Month Transaction Value: 398 (7.63%)\n"
     ]
    }
   ],
   "source": [
    "unique_cardholders = df[['Cardholder Last Name', 'Cardholder First Initial']].drop_duplicates()\n",
    "highest_changes_cardholders = df_cardholder_monthly[df_cardholder_monthly['pct_change'] > 5000][['Cardholder Last Name', 'Cardholder First Initial']].drop_duplicates()\n",
    "\n",
    "print(f\"Total unique cardholders: {unique_cardholders.shape[0]:,}\")\n",
    "print(f\"Total unique cardholders with higher Month on Month Transaction Value: {highest_changes_cardholders.shape[0]:,} ({highest_changes_cardholders.shape[0] / unique_cardholders.shape[0] * 100:.2f}%)\")"
   ]
  },
  {
   "cell_type": "markdown",
   "id": "649da485",
   "metadata": {},
   "source": [
    "Increasing the threshold to 5000% resulted in 7.6% of cardholders considered as anomalies. This increased the focus on transaction value change. Again, the one to decide what threshold to use is up to the business and the context of the data.\n",
    "\n",
    "This feature can be used to identify users and times in the dataset when they might make higher transactions than usual, combined with other information such as the vendor, MCC, and transaction date. This can help us identify and predict potential anomalies or unusual spending patterns."
   ]
  },
  {
   "cell_type": "markdown",
   "id": "9b3e34bf",
   "metadata": {},
   "source": [
    "### 5. Month on Month Transaction Amount Change by Vendor\n",
    "\n",
    "Similar to the previous analysis, we can see that there are some vendors who have made significant changes in their charge patterns from one month to the next. This could indicate potential anomalies or unusual charging patterns."
   ]
  },
  {
   "cell_type": "code",
   "execution_count": 25,
   "id": "af86f756",
   "metadata": {
    "vscode": {
     "languageId": "ruby"
    }
   },
   "outputs": [
    {
     "name": "stdout",
     "output_type": "stream",
     "text": [
      "count       59,639.00\n",
      "mean           268.72\n",
      "std         76,569.01\n",
      "min     -6,666,766.67\n",
      "25%            -56.52\n",
      "50%              0.00\n",
      "75%            100.00\n",
      "max     17,137,500.00\n",
      "Name: pct_change, dtype: float64\n"
     ]
    }
   ],
   "source": [
    "\n",
    "# 1. Compute monthly total spend per vendor\n",
    "df_vendor_monthly = (\n",
    "    df.groupby(['Vendor', 'Year-Month'])['Amount']\n",
    "      .sum()\n",
    "      .reset_index(name='monthly_spend')\n",
    "      .sort_values(['Vendor', 'Year-Month'])\n",
    ")\n",
    "\n",
    "# 2. Round the total amount\n",
    "df_vendor_monthly['monthly_spend'] = df_vendor_monthly['monthly_spend'].round(2)\n",
    "\n",
    "# 3. Filter out months with zero spend\n",
    "df_vendor_monthly = df_vendor_monthly[df_vendor_monthly['monthly_spend'] != 0]\n",
    "\n",
    "# 4. Compute month-on-month percent change per vendor\n",
    "df_vendor_monthly['pct_change'] = (\n",
    "    df_vendor_monthly\n",
    "    .groupby('Vendor')['monthly_spend']\n",
    "    .pct_change() * 100\n",
    ")\n",
    "\n",
    "# 5. Show descriptive statistics for the percent changes\n",
    "print(df_vendor_monthly['pct_change'].describe())\n"
   ]
  },
  {
   "cell_type": "code",
   "execution_count": 26,
   "id": "bbf589d0",
   "metadata": {
    "vscode": {
     "languageId": "ruby"
    }
   },
   "outputs": [
    {
     "data": {
      "text/html": [
       "<div>\n",
       "<style scoped>\n",
       "    .dataframe tbody tr th:only-of-type {\n",
       "        vertical-align: middle;\n",
       "    }\n",
       "\n",
       "    .dataframe tbody tr th {\n",
       "        vertical-align: top;\n",
       "    }\n",
       "\n",
       "    .dataframe thead th {\n",
       "        text-align: right;\n",
       "    }\n",
       "</style>\n",
       "<table border=\"1\" class=\"dataframe\">\n",
       "  <thead>\n",
       "    <tr style=\"text-align: right;\">\n",
       "      <th></th>\n",
       "      <th>Vendor</th>\n",
       "      <th>Year-Month</th>\n",
       "      <th>monthly_spend</th>\n",
       "      <th>pct_change</th>\n",
       "    </tr>\n",
       "  </thead>\n",
       "  <tbody>\n",
       "    <tr>\n",
       "      <th>71076</th>\n",
       "      <td>IRISHHOUSEPARTY COM</td>\n",
       "      <td>2014-04-01</td>\n",
       "      <td>0.01</td>\n",
       "      <td>NaN</td>\n",
       "    </tr>\n",
       "    <tr>\n",
       "      <th>71077</th>\n",
       "      <td>IRISHHOUSEPARTY COM</td>\n",
       "      <td>2014-05-01</td>\n",
       "      <td>1,713.76</td>\n",
       "      <td>17,137,500.00</td>\n",
       "    </tr>\n",
       "  </tbody>\n",
       "</table>\n",
       "</div>"
      ],
      "text/plain": [
       "                    Vendor Year-Month  monthly_spend    pct_change\n",
       "71076  IRISHHOUSEPARTY COM 2014-04-01           0.01           NaN\n",
       "71077  IRISHHOUSEPARTY COM 2014-05-01       1,713.76 17,137,500.00"
      ]
     },
     "metadata": {},
     "output_type": "display_data"
    },
    {
     "data": {
      "text/html": [
       "<div>\n",
       "<style scoped>\n",
       "    .dataframe tbody tr th:only-of-type {\n",
       "        vertical-align: middle;\n",
       "    }\n",
       "\n",
       "    .dataframe tbody tr th {\n",
       "        vertical-align: top;\n",
       "    }\n",
       "\n",
       "    .dataframe thead th {\n",
       "        text-align: right;\n",
       "    }\n",
       "</style>\n",
       "<table border=\"1\" class=\"dataframe\">\n",
       "  <thead>\n",
       "    <tr style=\"text-align: right;\">\n",
       "      <th></th>\n",
       "      <th>Vendor</th>\n",
       "      <th>Year-Month</th>\n",
       "      <th>monthly_spend</th>\n",
       "      <th>pct_change</th>\n",
       "    </tr>\n",
       "  </thead>\n",
       "  <tbody>\n",
       "    <tr>\n",
       "      <th>0</th>\n",
       "      <td>SHERATON SEATTLE HOTEL</td>\n",
       "      <td>2013-09-01</td>\n",
       "      <td>1,511.20</td>\n",
       "      <td>NaN</td>\n",
       "    </tr>\n",
       "    <tr>\n",
       "      <th>1</th>\n",
       "      <td>SHERATON SEATTLE HOTEL</td>\n",
       "      <td>2013-10-01</td>\n",
       "      <td>5,067.70</td>\n",
       "      <td>235.34</td>\n",
       "    </tr>\n",
       "    <tr>\n",
       "      <th>2</th>\n",
       "      <td>SHERATON SEATTLE HOTEL</td>\n",
       "      <td>2013-11-01</td>\n",
       "      <td>-0.02</td>\n",
       "      <td>-100.00</td>\n",
       "    </tr>\n",
       "    <tr>\n",
       "      <th>3</th>\n",
       "      <td>SHERATON SEATTLE HOTEL</td>\n",
       "      <td>2013-12-01</td>\n",
       "      <td>377.80</td>\n",
       "      <td>-1,889,100.00</td>\n",
       "    </tr>\n",
       "    <tr>\n",
       "      <th>4</th>\n",
       "      <td>SHERATON SEATTLE HOTEL</td>\n",
       "      <td>2014-02-01</td>\n",
       "      <td>408.60</td>\n",
       "      <td>8.15</td>\n",
       "    </tr>\n",
       "    <tr>\n",
       "      <th>5</th>\n",
       "      <td>SHERATON SEATTLE HOTEL</td>\n",
       "      <td>2014-04-01</td>\n",
       "      <td>710.84</td>\n",
       "      <td>73.97</td>\n",
       "    </tr>\n",
       "    <tr>\n",
       "      <th>6</th>\n",
       "      <td>SHERATON SEATTLE HOTEL</td>\n",
       "      <td>2014-06-01</td>\n",
       "      <td>2,652.41</td>\n",
       "      <td>273.14</td>\n",
       "    </tr>\n",
       "    <tr>\n",
       "      <th>7</th>\n",
       "      <td>UNIV OF OK BKST #831</td>\n",
       "      <td>2013-08-01</td>\n",
       "      <td>455.64</td>\n",
       "      <td>NaN</td>\n",
       "    </tr>\n",
       "    <tr>\n",
       "      <th>8</th>\n",
       "      <td>UNIV OF OK BKST #831</td>\n",
       "      <td>2013-09-01</td>\n",
       "      <td>57.50</td>\n",
       "      <td>-87.38</td>\n",
       "    </tr>\n",
       "    <tr>\n",
       "      <th>9</th>\n",
       "      <td>UNIV OF OK BKST #831</td>\n",
       "      <td>2013-10-01</td>\n",
       "      <td>-31.64</td>\n",
       "      <td>-155.03</td>\n",
       "    </tr>\n",
       "    <tr>\n",
       "      <th>10</th>\n",
       "      <td>UNIV OF OK BKST #831</td>\n",
       "      <td>2013-11-01</td>\n",
       "      <td>28.04</td>\n",
       "      <td>-188.62</td>\n",
       "    </tr>\n",
       "    <tr>\n",
       "      <th>11</th>\n",
       "      <td>UNIV OF OK BKST #831</td>\n",
       "      <td>2013-12-01</td>\n",
       "      <td>96.49</td>\n",
       "      <td>244.12</td>\n",
       "    </tr>\n",
       "    <tr>\n",
       "      <th>12</th>\n",
       "      <td>UNIV OF OK BKST #831</td>\n",
       "      <td>2014-01-01</td>\n",
       "      <td>726.38</td>\n",
       "      <td>652.80</td>\n",
       "    </tr>\n",
       "    <tr>\n",
       "      <th>13</th>\n",
       "      <td>UNIV OF OK BKST #831</td>\n",
       "      <td>2014-02-01</td>\n",
       "      <td>484.96</td>\n",
       "      <td>-33.24</td>\n",
       "    </tr>\n",
       "    <tr>\n",
       "      <th>14</th>\n",
       "      <td>UNIV OF OK BKST #831</td>\n",
       "      <td>2014-03-01</td>\n",
       "      <td>-0.01</td>\n",
       "      <td>-100.00</td>\n",
       "    </tr>\n",
       "    <tr>\n",
       "      <th>15</th>\n",
       "      <td>UNIV OF OK BKST #831</td>\n",
       "      <td>2014-04-01</td>\n",
       "      <td>274.16</td>\n",
       "      <td>-2,741,700.00</td>\n",
       "    </tr>\n",
       "    <tr>\n",
       "      <th>16</th>\n",
       "      <td>UNIV OF OK BKST #831</td>\n",
       "      <td>2014-05-01</td>\n",
       "      <td>252.73</td>\n",
       "      <td>-7.82</td>\n",
       "    </tr>\n",
       "    <tr>\n",
       "      <th>17</th>\n",
       "      <td>WESTIN SAN FRANCISCO F</td>\n",
       "      <td>2014-01-01</td>\n",
       "      <td>2,316.99</td>\n",
       "      <td>NaN</td>\n",
       "    </tr>\n",
       "    <tr>\n",
       "      <th>18</th>\n",
       "      <td>WESTIN SAN FRANCISCO F</td>\n",
       "      <td>2014-02-01</td>\n",
       "      <td>-0.03</td>\n",
       "      <td>-100.00</td>\n",
       "    </tr>\n",
       "    <tr>\n",
       "      <th>19</th>\n",
       "      <td>WESTIN SAN FRANCISCO F</td>\n",
       "      <td>2014-04-01</td>\n",
       "      <td>2,000.00</td>\n",
       "      <td>-6,666,766.67</td>\n",
       "    </tr>\n",
       "  </tbody>\n",
       "</table>\n",
       "</div>"
      ],
      "text/plain": [
       "                    Vendor Year-Month  monthly_spend    pct_change\n",
       "0   SHERATON SEATTLE HOTEL 2013-09-01       1,511.20           NaN\n",
       "1   SHERATON SEATTLE HOTEL 2013-10-01       5,067.70        235.34\n",
       "2   SHERATON SEATTLE HOTEL 2013-11-01          -0.02       -100.00\n",
       "3   SHERATON SEATTLE HOTEL 2013-12-01         377.80 -1,889,100.00\n",
       "4   SHERATON SEATTLE HOTEL 2014-02-01         408.60          8.15\n",
       "5   SHERATON SEATTLE HOTEL 2014-04-01         710.84         73.97\n",
       "6   SHERATON SEATTLE HOTEL 2014-06-01       2,652.41        273.14\n",
       "7     UNIV OF OK BKST #831 2013-08-01         455.64           NaN\n",
       "8     UNIV OF OK BKST #831 2013-09-01          57.50        -87.38\n",
       "9     UNIV OF OK BKST #831 2013-10-01         -31.64       -155.03\n",
       "10    UNIV OF OK BKST #831 2013-11-01          28.04       -188.62\n",
       "11    UNIV OF OK BKST #831 2013-12-01          96.49        244.12\n",
       "12    UNIV OF OK BKST #831 2014-01-01         726.38        652.80\n",
       "13    UNIV OF OK BKST #831 2014-02-01         484.96        -33.24\n",
       "14    UNIV OF OK BKST #831 2014-03-01          -0.01       -100.00\n",
       "15    UNIV OF OK BKST #831 2014-04-01         274.16 -2,741,700.00\n",
       "16    UNIV OF OK BKST #831 2014-05-01         252.73         -7.82\n",
       "17  WESTIN SAN FRANCISCO F 2014-01-01       2,316.99           NaN\n",
       "18  WESTIN SAN FRANCISCO F 2014-02-01          -0.03       -100.00\n",
       "19  WESTIN SAN FRANCISCO F 2014-04-01       2,000.00 -6,666,766.67"
      ]
     },
     "metadata": {},
     "output_type": "display_data"
    }
   ],
   "source": [
    "display(df_vendor_monthly[df_vendor_monthly['Vendor'] == 'IRISHHOUSEPARTY COM'])\n",
    "display(df_vendor_monthly.merge(df_vendor_monthly[df_vendor_monthly['pct_change'] < -1000000][['Vendor']].drop_duplicates(), on='Vendor', how='inner'))"
   ]
  },
  {
   "cell_type": "markdown",
   "id": "24457086",
   "metadata": {},
   "source": [
    "For Vendors we can see that the extreme cases are done by some vendors who just happen to have some steady transaction values and likely due to seaswonality factors, they had a jump in revenue.\n",
    "\n",
    "Let's exclude these vendors and see if we can find actual anomalies.\n"
   ]
  },
  {
   "cell_type": "code",
   "execution_count": 27,
   "id": "9690a3a4",
   "metadata": {
    "vscode": {
     "languageId": "ruby"
    }
   },
   "outputs": [
    {
     "name": "stdout",
     "output_type": "stream",
     "text": [
      "count     59,621.00\n",
      "mean         170.84\n",
      "std        2,665.80\n",
      "min     -247,490.64\n",
      "25%          -56.50\n",
      "50%            0.00\n",
      "75%          100.00\n",
      "max      208,217.19\n",
      "Name: pct_change, dtype: float64\n"
     ]
    }
   ],
   "source": [
    "extreme_vendors = (\n",
    "    df_vendor_monthly[\n",
    "        (df_vendor_monthly['pct_change'] < -1_000_000) |\n",
    "        (df_vendor_monthly['pct_change'] >  1_000_000)\n",
    "    ]['Vendor']\n",
    "    .unique()\n",
    ")\n",
    "\n",
    "df_vendor_monthly_2 = df_vendor_monthly[~df_vendor_monthly['Vendor'].isin(extreme_vendors)]\n",
    "\n",
    "print(df_vendor_monthly_2['pct_change'].describe())\n"
   ]
  },
  {
   "cell_type": "markdown",
   "id": "819a644b",
   "metadata": {},
   "source": [
    "Now the numbers look much better. Let us see who these vendors are anomalous according to this method."
   ]
  },
  {
   "cell_type": "code",
   "execution_count": 28,
   "id": "f7223d50",
   "metadata": {
    "vscode": {
     "languageId": "ruby"
    }
   },
   "outputs": [
    {
     "name": "stdout",
     "output_type": "stream",
     "text": [
      "Total unique vendors: 86,729\n",
      "Total unique vendors with higher Month on Month Transaction Value CHange: 3 (0.00%)\n"
     ]
    },
    {
     "data": {
      "text/html": [
       "<div>\n",
       "<style scoped>\n",
       "    .dataframe tbody tr th:only-of-type {\n",
       "        vertical-align: middle;\n",
       "    }\n",
       "\n",
       "    .dataframe tbody tr th {\n",
       "        vertical-align: top;\n",
       "    }\n",
       "\n",
       "    .dataframe thead th {\n",
       "        text-align: right;\n",
       "    }\n",
       "</style>\n",
       "<table border=\"1\" class=\"dataframe\">\n",
       "  <thead>\n",
       "    <tr style=\"text-align: right;\">\n",
       "      <th></th>\n",
       "      <th>Vendor</th>\n",
       "      <th>Year-Month</th>\n",
       "      <th>monthly_spend</th>\n",
       "      <th>pct_change</th>\n",
       "    </tr>\n",
       "  </thead>\n",
       "  <tbody>\n",
       "    <tr>\n",
       "      <th>40657</th>\n",
       "      <td>DAVIS PIPE &amp; SUPPLY-NORMA</td>\n",
       "      <td>2014-02-01</td>\n",
       "      <td>1,333.23</td>\n",
       "      <td>208,217.19</td>\n",
       "    </tr>\n",
       "    <tr>\n",
       "      <th>101770</th>\n",
       "      <td>OSWALT RESTUARANT SUPPLY</td>\n",
       "      <td>2013-08-01</td>\n",
       "      <td>4,230.38</td>\n",
       "      <td>-247,490.64</td>\n",
       "    </tr>\n",
       "    <tr>\n",
       "      <th>116774</th>\n",
       "      <td>SONOSITE INC</td>\n",
       "      <td>2014-01-01</td>\n",
       "      <td>44,332.00</td>\n",
       "      <td>-201,334.68</td>\n",
       "    </tr>\n",
       "  </tbody>\n",
       "</table>\n",
       "</div>"
      ],
      "text/plain": [
       "                           Vendor Year-Month  monthly_spend  pct_change\n",
       "40657   DAVIS PIPE & SUPPLY-NORMA 2014-02-01       1,333.23  208,217.19\n",
       "101770   OSWALT RESTUARANT SUPPLY 2013-08-01       4,230.38 -247,490.64\n",
       "116774               SONOSITE INC 2014-01-01      44,332.00 -201,334.68"
      ]
     },
     "metadata": {},
     "output_type": "display_data"
    }
   ],
   "source": [
    "unique_vendors = df[['Vendor']].drop_duplicates()\n",
    "highest_changes_vendors = df_vendor_monthly_2[(df_vendor_monthly_2['pct_change'] > 200000) | (df_vendor_monthly_2['pct_change'] < -200000 )][['Vendor']].drop_duplicates()\n",
    "\n",
    "print(f\"Total unique vendors: {unique_vendors.shape[0]:,}\")\n",
    "print(f\"Total unique vendors with higher Month on Month Transaction Value CHange: {highest_changes_vendors.shape[0]:,} ({highest_changes_vendors.shape[0] / unique_vendors.shape[0] * 100:.2f}%)\")\n",
    "display(df_vendor_monthly_2[(df_vendor_monthly_2['pct_change'] > 200000) | (df_vendor_monthly_2['pct_change'] < -200000) ].head(10))"
   ]
  },
  {
   "cell_type": "markdown",
   "id": "e88a31ba",
   "metadata": {},
   "source": [
    "These are the vendors that have made significant changes in their charging patterns from one month to the next. This could indicate potential anomalies or unusual charging patterns."
   ]
  },
  {
   "cell_type": "markdown",
   "id": "a9d7948b",
   "metadata": {},
   "source": [
    "### 6. Average Monthly Transaction Amount and Standard Deviation by Vendor\n",
    "\n",
    "We can add another layer in our logic to make the previous analysis more robust. \n",
    "* We can add the average monthly transaction amount for each vendor as well as its standard deviation. This will allow us to identify vendors who have made significant changes in their charging patterns from one month to the next, while also taking into account the average monthly transaction amount and its variability.\n",
    "\n",
    "* Another layer of filter we can add is to only consider vendors with a minimum of 3-5 monthly transactions. This will help us filter out vendors with very few transactions, which may not be representative of their overall charging patterns.\n",
    "\n",
    "* Another layer of filter is to oncly consider transactions amounts higher than let's say 5000. This will help us filter out small transactions that may not be representative of the overall charging patterns."
   ]
  },
  {
   "cell_type": "code",
   "execution_count": 29,
   "id": "621dabc5",
   "metadata": {
    "vscode": {
     "languageId": "ruby"
    }
   },
   "outputs": [
    {
     "data": {
      "text/html": [
       "<div>\n",
       "<style scoped>\n",
       "    .dataframe tbody tr th:only-of-type {\n",
       "        vertical-align: middle;\n",
       "    }\n",
       "\n",
       "    .dataframe tbody tr th {\n",
       "        vertical-align: top;\n",
       "    }\n",
       "\n",
       "    .dataframe thead th {\n",
       "        text-align: right;\n",
       "    }\n",
       "</style>\n",
       "<table border=\"1\" class=\"dataframe\">\n",
       "  <thead>\n",
       "    <tr style=\"text-align: right;\">\n",
       "      <th></th>\n",
       "      <th>Vendor</th>\n",
       "      <th>Year-Month</th>\n",
       "      <th>monthly_tot</th>\n",
       "      <th>n_months</th>\n",
       "      <th>monthly_avg</th>\n",
       "      <th>monthly_std</th>\n",
       "      <th>anomaly</th>\n",
       "    </tr>\n",
       "  </thead>\n",
       "  <tbody>\n",
       "    <tr>\n",
       "      <th>243</th>\n",
       "      <td>4IMPRINT</td>\n",
       "      <td>2013-07-01</td>\n",
       "      <td>10,566.67</td>\n",
       "      <td>12</td>\n",
       "      <td>756.21</td>\n",
       "      <td>863.32</td>\n",
       "      <td>True</td>\n",
       "    </tr>\n",
       "    <tr>\n",
       "      <th>244</th>\n",
       "      <td>4IMPRINT</td>\n",
       "      <td>2013-08-01</td>\n",
       "      <td>9,301.63</td>\n",
       "      <td>12</td>\n",
       "      <td>756.21</td>\n",
       "      <td>863.32</td>\n",
       "      <td>True</td>\n",
       "    </tr>\n",
       "    <tr>\n",
       "      <th>246</th>\n",
       "      <td>4IMPRINT</td>\n",
       "      <td>2013-10-01</td>\n",
       "      <td>16,261.84</td>\n",
       "      <td>12</td>\n",
       "      <td>756.21</td>\n",
       "      <td>863.32</td>\n",
       "      <td>True</td>\n",
       "    </tr>\n",
       "    <tr>\n",
       "      <th>248</th>\n",
       "      <td>4IMPRINT</td>\n",
       "      <td>2013-12-01</td>\n",
       "      <td>7,519.07</td>\n",
       "      <td>12</td>\n",
       "      <td>756.21</td>\n",
       "      <td>863.32</td>\n",
       "      <td>True</td>\n",
       "    </tr>\n",
       "    <tr>\n",
       "      <th>251</th>\n",
       "      <td>4IMPRINT</td>\n",
       "      <td>2014-03-01</td>\n",
       "      <td>7,729.15</td>\n",
       "      <td>12</td>\n",
       "      <td>756.21</td>\n",
       "      <td>863.32</td>\n",
       "      <td>True</td>\n",
       "    </tr>\n",
       "    <tr>\n",
       "      <th>252</th>\n",
       "      <td>4IMPRINT</td>\n",
       "      <td>2014-04-01</td>\n",
       "      <td>10,482.08</td>\n",
       "      <td>12</td>\n",
       "      <td>756.21</td>\n",
       "      <td>863.32</td>\n",
       "      <td>True</td>\n",
       "    </tr>\n",
       "    <tr>\n",
       "      <th>253</th>\n",
       "      <td>4IMPRINT</td>\n",
       "      <td>2014-05-01</td>\n",
       "      <td>9,738.36</td>\n",
       "      <td>12</td>\n",
       "      <td>756.21</td>\n",
       "      <td>863.32</td>\n",
       "      <td>True</td>\n",
       "    </tr>\n",
       "    <tr>\n",
       "      <th>254</th>\n",
       "      <td>4IMPRINT</td>\n",
       "      <td>2014-06-01</td>\n",
       "      <td>13,437.73</td>\n",
       "      <td>12</td>\n",
       "      <td>756.21</td>\n",
       "      <td>863.32</td>\n",
       "      <td>True</td>\n",
       "    </tr>\n",
       "    <tr>\n",
       "      <th>332</th>\n",
       "      <td>820 NEWS PRESS</td>\n",
       "      <td>2013-08-01</td>\n",
       "      <td>5,508.42</td>\n",
       "      <td>12</td>\n",
       "      <td>227.98</td>\n",
       "      <td>233.05</td>\n",
       "      <td>True</td>\n",
       "    </tr>\n",
       "    <tr>\n",
       "      <th>340</th>\n",
       "      <td>820 NEWS PRESS</td>\n",
       "      <td>2014-04-01</td>\n",
       "      <td>6,972.76</td>\n",
       "      <td>12</td>\n",
       "      <td>227.98</td>\n",
       "      <td>233.05</td>\n",
       "      <td>True</td>\n",
       "    </tr>\n",
       "  </tbody>\n",
       "</table>\n",
       "</div>"
      ],
      "text/plain": [
       "             Vendor Year-Month  monthly_tot  n_months  monthly_avg  \\\n",
       "243        4IMPRINT 2013-07-01    10,566.67        12       756.21   \n",
       "244        4IMPRINT 2013-08-01     9,301.63        12       756.21   \n",
       "246        4IMPRINT 2013-10-01    16,261.84        12       756.21   \n",
       "248        4IMPRINT 2013-12-01     7,519.07        12       756.21   \n",
       "251        4IMPRINT 2014-03-01     7,729.15        12       756.21   \n",
       "252        4IMPRINT 2014-04-01    10,482.08        12       756.21   \n",
       "253        4IMPRINT 2014-05-01     9,738.36        12       756.21   \n",
       "254        4IMPRINT 2014-06-01    13,437.73        12       756.21   \n",
       "332  820 NEWS PRESS 2013-08-01     5,508.42        12       227.98   \n",
       "340  820 NEWS PRESS 2014-04-01     6,972.76        12       227.98   \n",
       "\n",
       "     monthly_std  anomaly  \n",
       "243       863.32     True  \n",
       "244       863.32     True  \n",
       "246       863.32     True  \n",
       "248       863.32     True  \n",
       "251       863.32     True  \n",
       "252       863.32     True  \n",
       "253       863.32     True  \n",
       "254       863.32     True  \n",
       "332       233.05     True  \n",
       "340       233.05     True  "
      ]
     },
     "metadata": {},
     "output_type": "display_data"
    }
   ],
   "source": [
    "df_vendor_monthly = (\n",
    "    df\n",
    "    .groupby(['Vendor', 'Year-Month'])['Amount']\n",
    "    .agg(monthly_tot = 'sum')\n",
    "    .reset_index()\n",
    ")\n",
    "\n",
    "vendor_dist = df.groupby('Vendor')['Amount'].agg(monthly_avg='mean', monthly_std='std').reset_index()\n",
    "vendor_nmonth = df_vendor_monthly.groupby('Vendor')['Year-Month'].nunique().reset_index(name='n_months')\n",
    "df_vendor_monthly = df_vendor_monthly.merge(vendor_nmonth[vendor_nmonth['n_months'] > 3], on='Vendor', how='inner').merge(\n",
    "    vendor_dist, on='Vendor', how='left')\n",
    "\n",
    "df_vendor_monthly['anomaly'] = (\n",
    "    (df_vendor_monthly['monthly_tot'] - df_vendor_monthly['monthly_avg']).abs() > 7 * df_vendor_monthly['monthly_std']\n",
    ") & (df_vendor_monthly['monthly_tot'] > 5000)\n",
    "\n",
    "display(df_vendor_monthly[df_vendor_monthly['anomaly']].head(10))"
   ]
  },
  {
   "cell_type": "code",
   "execution_count": 30,
   "id": "71b92271",
   "metadata": {
    "vscode": {
     "languageId": "ruby"
    }
   },
   "outputs": [
    {
     "name": "stdout",
     "output_type": "stream",
     "text": [
      "Total unique vendors: 86,729\n",
      "Total unique vendors with higher Monthly Transaction Value: 693 (0.80%)\n"
     ]
    }
   ],
   "source": [
    "unique_vendors = df[['Vendor']].drop_duplicates()\n",
    "highest_changes_vendors = df_vendor_monthly[df_vendor_monthly['anomaly']][['Vendor']].drop_duplicates()\n",
    "\n",
    "print(f\"Total unique vendors: {unique_vendors.shape[0]:,}\")\n",
    "print(f\"Total unique vendors with higher Monthly Transaction Value: {highest_changes_vendors.shape[0]:,} ({highest_changes_vendors.shape[0] / unique_vendors.shape[0] * 100:.2f}%)\")"
   ]
  },
  {
   "cell_type": "markdown",
   "id": "cbb89539",
   "metadata": {},
   "source": [
    "The analysis shows that only a very small fraction of vendors—0.80%—exhibit unusually high monthly transaction values according to our dual criteria (beyond 7 σ of their own historical spend and above \\$5 000 in total).\n",
    "\n",
    "* Vendor transaction volumes are generally stable, so spikes stand out clearly\n",
    "* The 693 flagged vendors can possibly include new or one-off large contracts, bulk orders, or billing errors\n",
    "* Retail giants or recurring suppliers rarely breach these thresholds, reinforcing that these anomalies reflect exceptional activity\n",
    "* Focusing investigation on this 0.8 % can efficiently surface high-risk vendors without overwhelming review teams\n",
    "* Comparing this to cardholder anomalies (27 % of users) underscores that vendor-level monitoring is more targeted and resource-efficient\n"
   ]
  },
  {
   "cell_type": "markdown",
   "id": "4674976b",
   "metadata": {},
   "source": [
    "### 7. Refund vs. Purchase Patterns\n",
    "\n",
    "We can check to see in one year, customers who have made similar or even higher amount of refunds compared to their purchases. This can help us identify any potential anomalies or unusual spending patterns."
   ]
  },
  {
   "cell_type": "code",
   "execution_count": 31,
   "id": "3486dade",
   "metadata": {},
   "outputs": [
    {
     "name": "stdout",
     "output_type": "stream",
     "text": [
      "Potential anomalies found: 73 rows\n"
     ]
    },
    {
     "data": {
      "text/html": [
       "<div>\n",
       "<style scoped>\n",
       "    .dataframe tbody tr th:only-of-type {\n",
       "        vertical-align: middle;\n",
       "    }\n",
       "\n",
       "    .dataframe tbody tr th {\n",
       "        vertical-align: top;\n",
       "    }\n",
       "\n",
       "    .dataframe thead th {\n",
       "        text-align: right;\n",
       "    }\n",
       "</style>\n",
       "<table border=\"1\" class=\"dataframe\">\n",
       "  <thead>\n",
       "    <tr style=\"text-align: right;\">\n",
       "      <th></th>\n",
       "      <th>Cardholder Last Name</th>\n",
       "      <th>Cardholder First Initial</th>\n",
       "      <th>Year-Month</th>\n",
       "      <th>total_purchases</th>\n",
       "      <th>total_refunds</th>\n",
       "      <th>amt_purchased</th>\n",
       "      <th>amt_refunded</th>\n",
       "      <th>transaction_count</th>\n",
       "      <th>refund_txn_ratio</th>\n",
       "      <th>refund_amt_ratio</th>\n",
       "      <th>high_refund_rate</th>\n",
       "      <th>large_refund_amt</th>\n",
       "    </tr>\n",
       "  </thead>\n",
       "  <tbody>\n",
       "    <tr>\n",
       "      <th>33760</th>\n",
       "      <td>SUBRAMANIAN</td>\n",
       "      <td>A</td>\n",
       "      <td>2014-05-01</td>\n",
       "      <td>0</td>\n",
       "      <td>1</td>\n",
       "      <td>0.00</td>\n",
       "      <td>-303.50</td>\n",
       "      <td>1</td>\n",
       "      <td>1.00</td>\n",
       "      <td>1.00</td>\n",
       "      <td>True</td>\n",
       "      <td>True</td>\n",
       "    </tr>\n",
       "    <tr>\n",
       "      <th>7139</th>\n",
       "      <td>Castle</td>\n",
       "      <td>K</td>\n",
       "      <td>2013-11-01</td>\n",
       "      <td>0</td>\n",
       "      <td>1</td>\n",
       "      <td>0.00</td>\n",
       "      <td>-325.00</td>\n",
       "      <td>1</td>\n",
       "      <td>1.00</td>\n",
       "      <td>1.00</td>\n",
       "      <td>True</td>\n",
       "      <td>True</td>\n",
       "    </tr>\n",
       "    <tr>\n",
       "      <th>26653</th>\n",
       "      <td>Moreau</td>\n",
       "      <td>M</td>\n",
       "      <td>2014-05-01</td>\n",
       "      <td>0</td>\n",
       "      <td>1</td>\n",
       "      <td>0.00</td>\n",
       "      <td>-331.40</td>\n",
       "      <td>1</td>\n",
       "      <td>1.00</td>\n",
       "      <td>1.00</td>\n",
       "      <td>True</td>\n",
       "      <td>True</td>\n",
       "    </tr>\n",
       "    <tr>\n",
       "      <th>13585</th>\n",
       "      <td>Gambrell</td>\n",
       "      <td>S</td>\n",
       "      <td>2013-07-01</td>\n",
       "      <td>0</td>\n",
       "      <td>1</td>\n",
       "      <td>0.00</td>\n",
       "      <td>-337.74</td>\n",
       "      <td>1</td>\n",
       "      <td>1.00</td>\n",
       "      <td>1.00</td>\n",
       "      <td>True</td>\n",
       "      <td>True</td>\n",
       "    </tr>\n",
       "    <tr>\n",
       "      <th>14033</th>\n",
       "      <td>Glasgow</td>\n",
       "      <td>S</td>\n",
       "      <td>2014-02-01</td>\n",
       "      <td>0</td>\n",
       "      <td>1</td>\n",
       "      <td>0.00</td>\n",
       "      <td>-348.50</td>\n",
       "      <td>1</td>\n",
       "      <td>1.00</td>\n",
       "      <td>1.00</td>\n",
       "      <td>True</td>\n",
       "      <td>True</td>\n",
       "    </tr>\n",
       "    <tr>\n",
       "      <th>26521</th>\n",
       "      <td>Moody</td>\n",
       "      <td>D</td>\n",
       "      <td>2013-11-01</td>\n",
       "      <td>0</td>\n",
       "      <td>1</td>\n",
       "      <td>0.00</td>\n",
       "      <td>-350.00</td>\n",
       "      <td>1</td>\n",
       "      <td>1.00</td>\n",
       "      <td>1.00</td>\n",
       "      <td>True</td>\n",
       "      <td>True</td>\n",
       "    </tr>\n",
       "    <tr>\n",
       "      <th>2522</th>\n",
       "      <td>BRYANT</td>\n",
       "      <td>J</td>\n",
       "      <td>2014-02-01</td>\n",
       "      <td>0</td>\n",
       "      <td>1</td>\n",
       "      <td>0.00</td>\n",
       "      <td>-359.72</td>\n",
       "      <td>1</td>\n",
       "      <td>1.00</td>\n",
       "      <td>1.00</td>\n",
       "      <td>True</td>\n",
       "      <td>True</td>\n",
       "    </tr>\n",
       "    <tr>\n",
       "      <th>28448</th>\n",
       "      <td>PAGE</td>\n",
       "      <td>M</td>\n",
       "      <td>2014-03-01</td>\n",
       "      <td>0</td>\n",
       "      <td>1</td>\n",
       "      <td>0.00</td>\n",
       "      <td>-361.00</td>\n",
       "      <td>1</td>\n",
       "      <td>1.00</td>\n",
       "      <td>1.00</td>\n",
       "      <td>True</td>\n",
       "      <td>True</td>\n",
       "    </tr>\n",
       "    <tr>\n",
       "      <th>7057</th>\n",
       "      <td>Cartmell</td>\n",
       "      <td>D</td>\n",
       "      <td>2013-08-01</td>\n",
       "      <td>0</td>\n",
       "      <td>1</td>\n",
       "      <td>0.00</td>\n",
       "      <td>-365.88</td>\n",
       "      <td>1</td>\n",
       "      <td>1.00</td>\n",
       "      <td>1.00</td>\n",
       "      <td>True</td>\n",
       "      <td>True</td>\n",
       "    </tr>\n",
       "    <tr>\n",
       "      <th>24976</th>\n",
       "      <td>Mason</td>\n",
       "      <td>C</td>\n",
       "      <td>2013-10-01</td>\n",
       "      <td>0</td>\n",
       "      <td>1</td>\n",
       "      <td>0.00</td>\n",
       "      <td>-417.00</td>\n",
       "      <td>1</td>\n",
       "      <td>1.00</td>\n",
       "      <td>1.00</td>\n",
       "      <td>True</td>\n",
       "      <td>True</td>\n",
       "    </tr>\n",
       "    <tr>\n",
       "      <th>17749</th>\n",
       "      <td>Holmberg</td>\n",
       "      <td>A</td>\n",
       "      <td>2014-06-01</td>\n",
       "      <td>0</td>\n",
       "      <td>1</td>\n",
       "      <td>0.00</td>\n",
       "      <td>-437.00</td>\n",
       "      <td>1</td>\n",
       "      <td>1.00</td>\n",
       "      <td>1.00</td>\n",
       "      <td>True</td>\n",
       "      <td>True</td>\n",
       "    </tr>\n",
       "    <tr>\n",
       "      <th>8704</th>\n",
       "      <td>Curtis</td>\n",
       "      <td>T</td>\n",
       "      <td>2014-04-01</td>\n",
       "      <td>0</td>\n",
       "      <td>1</td>\n",
       "      <td>0.00</td>\n",
       "      <td>-443.56</td>\n",
       "      <td>1</td>\n",
       "      <td>1.00</td>\n",
       "      <td>1.00</td>\n",
       "      <td>True</td>\n",
       "      <td>True</td>\n",
       "    </tr>\n",
       "    <tr>\n",
       "      <th>13015</th>\n",
       "      <td>GILLIES</td>\n",
       "      <td>L</td>\n",
       "      <td>2014-03-01</td>\n",
       "      <td>0</td>\n",
       "      <td>1</td>\n",
       "      <td>0.00</td>\n",
       "      <td>-445.00</td>\n",
       "      <td>1</td>\n",
       "      <td>1.00</td>\n",
       "      <td>1.00</td>\n",
       "      <td>True</td>\n",
       "      <td>True</td>\n",
       "    </tr>\n",
       "    <tr>\n",
       "      <th>10895</th>\n",
       "      <td>Edgmand</td>\n",
       "      <td>C</td>\n",
       "      <td>2014-05-01</td>\n",
       "      <td>0</td>\n",
       "      <td>1</td>\n",
       "      <td>0.00</td>\n",
       "      <td>-465.00</td>\n",
       "      <td>1</td>\n",
       "      <td>1.00</td>\n",
       "      <td>1.00</td>\n",
       "      <td>True</td>\n",
       "      <td>True</td>\n",
       "    </tr>\n",
       "    <tr>\n",
       "      <th>24362</th>\n",
       "      <td>MOWDY</td>\n",
       "      <td>J</td>\n",
       "      <td>2013-10-01</td>\n",
       "      <td>0</td>\n",
       "      <td>1</td>\n",
       "      <td>0.00</td>\n",
       "      <td>-475.00</td>\n",
       "      <td>1</td>\n",
       "      <td>1.00</td>\n",
       "      <td>1.00</td>\n",
       "      <td>True</td>\n",
       "      <td>True</td>\n",
       "    </tr>\n",
       "    <tr>\n",
       "      <th>14622</th>\n",
       "      <td>Gregory</td>\n",
       "      <td>A</td>\n",
       "      <td>2013-07-01</td>\n",
       "      <td>0</td>\n",
       "      <td>1</td>\n",
       "      <td>0.00</td>\n",
       "      <td>-475.00</td>\n",
       "      <td>1</td>\n",
       "      <td>1.00</td>\n",
       "      <td>1.00</td>\n",
       "      <td>True</td>\n",
       "      <td>True</td>\n",
       "    </tr>\n",
       "    <tr>\n",
       "      <th>8585</th>\n",
       "      <td>Cuda</td>\n",
       "      <td>V</td>\n",
       "      <td>2013-11-01</td>\n",
       "      <td>1</td>\n",
       "      <td>2</td>\n",
       "      <td>124.48</td>\n",
       "      <td>-492.93</td>\n",
       "      <td>3</td>\n",
       "      <td>0.67</td>\n",
       "      <td>0.80</td>\n",
       "      <td>True</td>\n",
       "      <td>True</td>\n",
       "    </tr>\n",
       "    <tr>\n",
       "      <th>18379</th>\n",
       "      <td>INGHAM</td>\n",
       "      <td>P</td>\n",
       "      <td>2013-10-01</td>\n",
       "      <td>0</td>\n",
       "      <td>1</td>\n",
       "      <td>0.00</td>\n",
       "      <td>-500.00</td>\n",
       "      <td>1</td>\n",
       "      <td>1.00</td>\n",
       "      <td>1.00</td>\n",
       "      <td>True</td>\n",
       "      <td>True</td>\n",
       "    </tr>\n",
       "    <tr>\n",
       "      <th>32068</th>\n",
       "      <td>Rodesney</td>\n",
       "      <td>S</td>\n",
       "      <td>2014-05-01</td>\n",
       "      <td>0</td>\n",
       "      <td>1</td>\n",
       "      <td>0.00</td>\n",
       "      <td>-534.00</td>\n",
       "      <td>1</td>\n",
       "      <td>1.00</td>\n",
       "      <td>1.00</td>\n",
       "      <td>True</td>\n",
       "      <td>True</td>\n",
       "    </tr>\n",
       "    <tr>\n",
       "      <th>6309</th>\n",
       "      <td>CONWAY</td>\n",
       "      <td>T</td>\n",
       "      <td>2014-04-01</td>\n",
       "      <td>0</td>\n",
       "      <td>1</td>\n",
       "      <td>0.00</td>\n",
       "      <td>-536.00</td>\n",
       "      <td>1</td>\n",
       "      <td>1.00</td>\n",
       "      <td>1.00</td>\n",
       "      <td>True</td>\n",
       "      <td>True</td>\n",
       "    </tr>\n",
       "  </tbody>\n",
       "</table>\n",
       "</div>"
      ],
      "text/plain": [
       "      Cardholder Last Name Cardholder First Initial Year-Month  \\\n",
       "33760          SUBRAMANIAN                        A 2014-05-01   \n",
       "7139                Castle                        K 2013-11-01   \n",
       "26653               Moreau                        M 2014-05-01   \n",
       "13585             Gambrell                        S 2013-07-01   \n",
       "14033              Glasgow                        S 2014-02-01   \n",
       "26521                Moody                        D 2013-11-01   \n",
       "2522                BRYANT                        J 2014-02-01   \n",
       "28448                 PAGE                        M 2014-03-01   \n",
       "7057              Cartmell                        D 2013-08-01   \n",
       "24976                Mason                        C 2013-10-01   \n",
       "17749             Holmberg                        A 2014-06-01   \n",
       "8704                Curtis                        T 2014-04-01   \n",
       "13015              GILLIES                        L 2014-03-01   \n",
       "10895              Edgmand                        C 2014-05-01   \n",
       "24362                MOWDY                        J 2013-10-01   \n",
       "14622              Gregory                        A 2013-07-01   \n",
       "8585                  Cuda                        V 2013-11-01   \n",
       "18379               INGHAM                        P 2013-10-01   \n",
       "32068             Rodesney                        S 2014-05-01   \n",
       "6309                CONWAY                        T 2014-04-01   \n",
       "\n",
       "       total_purchases  total_refunds  amt_purchased  amt_refunded  \\\n",
       "33760                0              1           0.00       -303.50   \n",
       "7139                 0              1           0.00       -325.00   \n",
       "26653                0              1           0.00       -331.40   \n",
       "13585                0              1           0.00       -337.74   \n",
       "14033                0              1           0.00       -348.50   \n",
       "26521                0              1           0.00       -350.00   \n",
       "2522                 0              1           0.00       -359.72   \n",
       "28448                0              1           0.00       -361.00   \n",
       "7057                 0              1           0.00       -365.88   \n",
       "24976                0              1           0.00       -417.00   \n",
       "17749                0              1           0.00       -437.00   \n",
       "8704                 0              1           0.00       -443.56   \n",
       "13015                0              1           0.00       -445.00   \n",
       "10895                0              1           0.00       -465.00   \n",
       "24362                0              1           0.00       -475.00   \n",
       "14622                0              1           0.00       -475.00   \n",
       "8585                 1              2         124.48       -492.93   \n",
       "18379                0              1           0.00       -500.00   \n",
       "32068                0              1           0.00       -534.00   \n",
       "6309                 0              1           0.00       -536.00   \n",
       "\n",
       "       transaction_count  refund_txn_ratio  refund_amt_ratio  \\\n",
       "33760                  1              1.00              1.00   \n",
       "7139                   1              1.00              1.00   \n",
       "26653                  1              1.00              1.00   \n",
       "13585                  1              1.00              1.00   \n",
       "14033                  1              1.00              1.00   \n",
       "26521                  1              1.00              1.00   \n",
       "2522                   1              1.00              1.00   \n",
       "28448                  1              1.00              1.00   \n",
       "7057                   1              1.00              1.00   \n",
       "24976                  1              1.00              1.00   \n",
       "17749                  1              1.00              1.00   \n",
       "8704                   1              1.00              1.00   \n",
       "13015                  1              1.00              1.00   \n",
       "10895                  1              1.00              1.00   \n",
       "24362                  1              1.00              1.00   \n",
       "14622                  1              1.00              1.00   \n",
       "8585                   3              0.67              0.80   \n",
       "18379                  1              1.00              1.00   \n",
       "32068                  1              1.00              1.00   \n",
       "6309                   1              1.00              1.00   \n",
       "\n",
       "       high_refund_rate  large_refund_amt  \n",
       "33760              True              True  \n",
       "7139               True              True  \n",
       "26653              True              True  \n",
       "13585              True              True  \n",
       "14033              True              True  \n",
       "26521              True              True  \n",
       "2522               True              True  \n",
       "28448              True              True  \n",
       "7057               True              True  \n",
       "24976              True              True  \n",
       "17749              True              True  \n",
       "8704               True              True  \n",
       "13015              True              True  \n",
       "10895              True              True  \n",
       "24362              True              True  \n",
       "14622              True              True  \n",
       "8585               True              True  \n",
       "18379              True              True  \n",
       "32068              True              True  \n",
       "6309               True              True  "
      ]
     },
     "metadata": {},
     "output_type": "display_data"
    }
   ],
   "source": [
    "\n",
    "# 1. Make a copy of the original DataFrame\n",
    "df5 = df.copy()\n",
    "\n",
    "# 2. Ensure Amount is numeric\n",
    "df5['Amount'] = pd.to_numeric(df5['Amount'], errors='coerce')\n",
    "\n",
    "# 3. Identify purchases (positive) vs refunds (negative)\n",
    "df5['is_refund']   = df5['Amount'] < 0\n",
    "df5['is_purchase'] = df5['Amount'] > 0\n",
    "\n",
    "# 4. Aggregate per cardholder–month\n",
    "refunds_vs_purchases = (\n",
    "    df5\n",
    "    .groupby(['Cardholder Last Name', 'Cardholder First Initial', 'Year-Month'])\n",
    "    .agg(\n",
    "        total_purchases      = ('is_purchase', 'sum'),\n",
    "        total_refunds        = ('is_refund', 'sum'),\n",
    "        amt_purchased        = ('Amount', lambda x: x[x>0].sum()),\n",
    "        amt_refunded         = ('Amount', lambda x: x[x<0].sum()),\n",
    "        transaction_count    = ('Amount', 'count'),\n",
    "    )\n",
    "    .reset_index()\n",
    ")\n",
    "\n",
    "# 5. Compute ratios\n",
    "refunds_vs_purchases['refund_txn_ratio'] = (\n",
    "    refunds_vs_purchases['total_refunds'] / refunds_vs_purchases['transaction_count']\n",
    ")\n",
    "refunds_vs_purchases['refund_amt_ratio'] = (\n",
    "    refunds_vs_purchases['amt_refunded'].abs() \n",
    "    / (refunds_vs_purchases['amt_purchased'] + refunds_vs_purchases['amt_refunded'].abs())\n",
    ")\n",
    "\n",
    "# 6. Flag anomalous months - the thresholds here are at the moment arbitrary and can be adjusted\n",
    "refunds_vs_purchases['high_refund_rate'] = refunds_vs_purchases['refund_txn_ratio'] > 0.5\n",
    "refunds_vs_purchases['large_refund_amt'] = refunds_vs_purchases['refund_amt_ratio'] > 0.5\n",
    "\n",
    "potential_anomalies = refunds_vs_purchases[(refunds_vs_purchases['high_refund_rate'] == True) & \n",
    "                           (refunds_vs_purchases['large_refund_amt'] == True) &\n",
    "                           (refunds_vs_purchases['amt_refunded'] < -300)\n",
    "                           ].sort_values('amt_refunded', ascending=False)\n",
    "\n",
    "# 7. Inspect the result\n",
    "print(f\"Potential anomalies found: {potential_anomalies.shape[0]:,} rows\")\n",
    "display(potential_anomalies.head(20))\n"
   ]
  },
  {
   "cell_type": "markdown",
   "id": "09c1ed3b",
   "metadata": {},
   "source": [
    "We can see that there are some customers with very high amounts and rates of refunds vs purcahases. The thresholds used here are currently arbitrary and would need to be confimred with the business. But this methodology can be used on a customer/user level to flag potential anomalies in how certain users behave in the data."
   ]
  },
  {
   "cell_type": "markdown",
   "id": "9eb9ded6",
   "metadata": {},
   "source": [
    "### 8. Refunds by Vendor\n",
    "We can also check to see which vendors have the highest amount of refunds. This can help us identify any potential anomalies or unusual spending patterns."
   ]
  },
  {
   "cell_type": "code",
   "execution_count": 32,
   "id": "ea9a166a",
   "metadata": {},
   "outputs": [
    {
     "name": "stdout",
     "output_type": "stream",
     "text": [
      "Potential vendor-month anomalies found: 945 rows\n",
      "                           Vendor Year-Month  total_purchases  total_refunds  \\\n",
      "40105   Claim ADJ/STAPLES       0 2013-10-01                0              1   \n",
      "102849       PARTY PICS USA, INC. 2013-07-01                0              3   \n",
      "115501                SHOEBUY.COM 2014-04-01                3              6   \n",
      "29734          BILTMORE HOTEL OKC 2014-01-01                0              1   \n",
      "11875   AMERICAN AI 0017284459521 2013-07-01                0              1   \n",
      "15736   AMERICAN AI 0017316324478 2013-12-01                0              1   \n",
      "16200   AMERICAN AI 0017363897459 2013-12-01                0              1   \n",
      "15734   AMERICAN AI 0017316324477 2013-12-01                0              1   \n",
      "15732   AMERICAN AI 0017316324476 2013-12-01                0              1   \n",
      "65523     HGSE PROGRAM IN PROF ED 2014-04-01                0              1   \n",
      "145400             WWW WURTEC COM 2013-08-01                0              1   \n",
      "40039   Claim ADJ/AMERICAS BEST V 2013-07-01                0              1   \n",
      "33212     CANDLEWOOD SUITES TULSA 2014-03-01                1              3   \n",
      "91313       MSFT     ONLINE STORE 2014-03-01                0              3   \n",
      "69138      INDEPENDENT STATIONERS 2013-08-01                0              1   \n",
      "58684                 FELLERS INC 2014-01-01                0              1   \n",
      "99176      OFFICEMAX CT IN#985176 2013-08-01                0              1   \n",
      "20930   AMERICAN AI 0017445338255 2014-06-01                0              1   \n",
      "68410                IDN ACME INC 2014-01-01                1              2   \n",
      "23690           ANCHOR INDUSTRIES 2014-03-01                0              1   \n",
      "\n",
      "        amt_purchased  amt_refunded  transaction_count  refund_txn_ratio  \\\n",
      "40105            0.00       -301.94                  1              1.00   \n",
      "102849           0.00       -302.01                  3              1.00   \n",
      "115501         133.48       -302.16                  9              0.67   \n",
      "29734            0.00       -303.03                  1              1.00   \n",
      "11875            0.00       -303.60                  1              1.00   \n",
      "15736            0.00       -304.30                  1              1.00   \n",
      "16200            0.00       -304.30                  1              1.00   \n",
      "15734            0.00       -304.30                  1              1.00   \n",
      "15732            0.00       -304.30                  1              1.00   \n",
      "65523            0.00       -305.00                  1              1.00   \n",
      "145400           0.00       -305.00                  1              1.00   \n",
      "40039            0.00       -308.00                  1              1.00   \n",
      "33212          154.00       -308.00                  4              0.75   \n",
      "91313            0.00       -308.02                  3              1.00   \n",
      "69138            0.00       -308.28                  1              1.00   \n",
      "58684            0.00       -309.99                  1              1.00   \n",
      "99176            0.00       -310.31                  1              1.00   \n",
      "20930            0.00       -311.05                  1              1.00   \n",
      "68410          156.13       -311.19                  3              0.67   \n",
      "23690            0.00       -312.07                  1              1.00   \n",
      "\n",
      "        refund_amt_ratio  high_refund_rate  large_refund_amt  \n",
      "40105               1.00              True              True  \n",
      "102849              1.00              True              True  \n",
      "115501              0.69              True              True  \n",
      "29734               1.00              True              True  \n",
      "11875               1.00              True              True  \n",
      "15736               1.00              True              True  \n",
      "16200               1.00              True              True  \n",
      "15734               1.00              True              True  \n",
      "15732               1.00              True              True  \n",
      "65523               1.00              True              True  \n",
      "145400              1.00              True              True  \n",
      "40039               1.00              True              True  \n",
      "33212               0.67              True              True  \n",
      "91313               1.00              True              True  \n",
      "69138               1.00              True              True  \n",
      "58684               1.00              True              True  \n",
      "99176               1.00              True              True  \n",
      "20930               1.00              True              True  \n",
      "68410               0.67              True              True  \n",
      "23690               1.00              True              True  \n"
     ]
    }
   ],
   "source": [
    "# 1. Make a copy of the original DataFrame\n",
    "df6 = df.copy()\n",
    "\n",
    "# 2. Ensure Amount is numeric\n",
    "df6['Amount'] = pd.to_numeric(df6['Amount'], errors='coerce')\n",
    "\n",
    "# 3. Identify purchases (positive) vs refunds (negative)\n",
    "df6['is_refund']   = df6['Amount'] < 0\n",
    "df6['is_purchase'] = df6['Amount'] > 0\n",
    "\n",
    "# 4. Aggregate per Vendor–month\n",
    "refunds_vs_purchases_vendor = (\n",
    "    df6\n",
    "    .groupby(['Vendor', 'Year-Month'])\n",
    "    .agg(\n",
    "        total_purchases      = ('is_purchase', 'sum'),\n",
    "        total_refunds        = ('is_refund', 'sum'),\n",
    "        amt_purchased        = ('Amount', lambda x: x[x>0].sum()),\n",
    "        amt_refunded         = ('Amount', lambda x: x[x<0].sum()),\n",
    "        transaction_count    = ('Amount', 'count'),\n",
    "    )\n",
    "    .reset_index()\n",
    ")\n",
    "\n",
    "# 5. Compute ratios\n",
    "refunds_vs_purchases_vendor['refund_txn_ratio'] = (\n",
    "    refunds_vs_purchases_vendor['total_refunds'] \n",
    "    / refunds_vs_purchases_vendor['transaction_count']\n",
    ")\n",
    "refunds_vs_purchases_vendor['refund_amt_ratio'] = (\n",
    "    refunds_vs_purchases_vendor['amt_refunded'].abs() \n",
    "    / (refunds_vs_purchases_vendor['amt_purchased'] \n",
    "       + refunds_vs_purchases_vendor['amt_refunded'].abs())\n",
    ")\n",
    "\n",
    "# 6. Flag anomalous months (adjust thresholds as needed)\n",
    "refunds_vs_purchases_vendor['high_refund_rate'] = (\n",
    "    refunds_vs_purchases_vendor['refund_txn_ratio'] > 0.5\n",
    ")\n",
    "refunds_vs_purchases_vendor['large_refund_amt'] = (\n",
    "    refunds_vs_purchases_vendor['refund_amt_ratio'] > 0.5\n",
    ")\n",
    "\n",
    "# Identify potential anomalies\n",
    "potential_anomalies_vendor = refunds_vs_purchases_vendor[\n",
    "    (refunds_vs_purchases_vendor['high_refund_rate']) &\n",
    "    (refunds_vs_purchases_vendor['large_refund_amt']) &\n",
    "    (refunds_vs_purchases_vendor['amt_refunded'] < -300)\n",
    "].sort_values('amt_refunded', ascending=False)\n",
    "\n",
    "# 7. Inspect the result\n",
    "print(f\"Potential vendor-month anomalies found: {potential_anomalies_vendor.shape[0]:,} rows\")\n",
    "print(potential_anomalies_vendor.head(20))\n"
   ]
  },
  {
   "cell_type": "markdown",
   "id": "6ab24428",
   "metadata": {},
   "source": [
    "We can see that there are some vendors with very high amounts and rates of refunds vs purcahases. The thresholds used here are currently arbitrary and would need to be confimred with the business. But this methodology can be used to on vendor level to flag potential anomalies in how certain vendors behave in the data."
   ]
  },
  {
   "cell_type": "markdown",
   "id": "92867ab2",
   "metadata": {},
   "source": [
    "### 9. Transaction Velocity\n",
    "\n",
    "Count per Time Window: Number of transactions per cardholder per day. Sudden spikes (e.g., 20 purchases in one day) may indicate fraud or system errors."
   ]
  },
  {
   "cell_type": "code",
   "execution_count": 33,
   "id": "0dd38cd2",
   "metadata": {},
   "outputs": [
    {
     "name": "stdout",
     "output_type": "stream",
     "text": [
      "Daily velocity anomalies: 1,702 rows\n",
      "    Cardholder Last Name Cardholder First Initial    txn_date  txns_per_day  \\\n",
      "128                ADAMS                        K  2013-07-11            12   \n",
      "201                  ADE                        D  2013-09-14             3   \n",
      "428               ALFORD                        R  2013-10-10             6   \n",
      "443               ALFORD                        R  2014-01-21             6   \n",
      "638     ALL ABOUT TRAVEL                        G  2014-02-14            22   \n",
      "\n",
      "     mean  std  day_velocity_anomaly  \n",
      "128  1.45 1.72                  True  \n",
      "201  1.13 0.39                  True  \n",
      "428  1.31 1.12                  True  \n",
      "443  1.31 1.12                  True  \n",
      "638  3.91 4.45                  True  \n",
      "\n",
      "Weekly velocity anomalies:234 rows\n",
      "     Cardholder Last Name Cardholder First Initial    txn_week  txns_per_week  \\\n",
      "107                 ADAMS                        K  2013-07-08             14   \n",
      "620              ANDERSON                        B  2014-01-20             26   \n",
      "744                 ANDES                        K  2014-06-09             11   \n",
      "1210               Abbott                        M  2013-07-01             10   \n",
      "1740                Ajala                        O  2014-04-28             26   \n",
      "\n",
      "      mean  std  week_velocity_anomaly  \n",
      "107   2.12 2.61                   True  \n",
      "620   3.61 4.54                   True  \n",
      "744   2.86 2.00                   True  \n",
      "1210  1.75 1.96                   True  \n",
      "1740  5.47 4.25                   True  \n"
     ]
    }
   ],
   "source": [
    "# 1. Make a copy of the DataFrame\n",
    "df_velocity = df.copy()\n",
    "\n",
    "# 2. Extract date and week identifiers\n",
    "df_velocity['txn_date'] = df_velocity['Transaction Date'].dt.date\n",
    "df_velocity['txn_week'] = df_velocity['Transaction Date'].dt.to_period('W').apply(lambda r: r.start_time.date())\n",
    "\n",
    "# 3. Compute daily transaction velocity per cardholder\n",
    "daily_velocity = (\n",
    "    df_velocity\n",
    "    .groupby(['Cardholder Last Name', 'Cardholder First Initial', 'txn_date'])\n",
    "    .size()\n",
    "    .reset_index(name='txns_per_day')\n",
    ")\n",
    "\n",
    "# 4. Compute weekly transaction velocity per cardholder\n",
    "weekly_velocity = (\n",
    "    df_velocity\n",
    "    .groupby(['Cardholder Last Name', 'Cardholder First Initial', 'txn_week'])\n",
    "    .size()\n",
    "    .reset_index(name='txns_per_week')\n",
    ")\n",
    "\n",
    "# 5. Flag high-velocity days/weeks (e.g., > mean + 4*std, this number is arbitrary and can be adjusted)\n",
    "stats_daily = daily_velocity.groupby(['Cardholder Last Name', 'Cardholder First Initial'])['txns_per_day'].agg(['mean','std']).reset_index()\n",
    "daily_velocity = daily_velocity.merge(stats_daily, on=['Cardholder Last Name','Cardholder First Initial'])\n",
    "daily_velocity['day_velocity_anomaly'] = daily_velocity['txns_per_day'] > (daily_velocity['mean'] + 4*daily_velocity['std'])\n",
    "\n",
    "stats_weekly = weekly_velocity.groupby(['Cardholder Last Name', 'Cardholder First Initial'])['txns_per_week'].agg(['mean','std']).reset_index()\n",
    "weekly_velocity = weekly_velocity.merge(stats_weekly, on=['Cardholder Last Name','Cardholder First Initial'])\n",
    "weekly_velocity['week_velocity_anomaly'] = weekly_velocity['txns_per_week'] > (weekly_velocity['mean'] + 4*weekly_velocity['std'])\n",
    "\n",
    "# 6. Inspect anomalies\n",
    "print(f\"Daily velocity anomalies: {daily_velocity[daily_velocity['day_velocity_anomaly']].shape[0]:,} rows\")\n",
    "print(daily_velocity[daily_velocity['day_velocity_anomaly']].head())\n",
    "\n",
    "print(f\"\\nWeekly velocity anomalies:{weekly_velocity[weekly_velocity['week_velocity_anomaly']].shape[0]:,} rows\")\n",
    "print(weekly_velocity[weekly_velocity['week_velocity_anomaly']].head())\n"
   ]
  },
  {
   "cell_type": "markdown",
   "id": "25f10431",
   "metadata": {},
   "source": [
    "We have found multiple users across multiple months with higher than usual transaction counts per day and per week. This could indicate potential anomalies or unusual spending patterns. We can go deeper and see which users have the highest transaction counts per day and per week."
   ]
  },
  {
   "cell_type": "code",
   "execution_count": 34,
   "id": "31b290b8",
   "metadata": {},
   "outputs": [
    {
     "name": "stdout",
     "output_type": "stream",
     "text": [
      "Total unique cardholders: 5,213\n",
      "Total unique cardholders with higher than usual daily trainsaction velocity: 1,419 (27.22%)\n",
      "Total unique cardholders with higher than usual weekly trainsaction velocity: 232 (4.45%)\n"
     ]
    }
   ],
   "source": [
    "unique_cardholders = df[['Cardholder Last Name', 'Cardholder First Initial']].drop_duplicates()\n",
    "unique_cardholders_day = daily_velocity[daily_velocity['day_velocity_anomaly']][['Cardholder Last Name', 'Cardholder First Initial']].drop_duplicates()\n",
    "unique_cardholders_week = weekly_velocity[weekly_velocity['week_velocity_anomaly']][['Cardholder Last Name', 'Cardholder First Initial']].drop_duplicates()\n",
    "\n",
    "print(f\"Total unique cardholders: {unique_cardholders.shape[0]:,}\")\n",
    "print(f\"Total unique cardholders with higher than usual daily trainsaction velocity: {unique_cardholders_day.shape[0]:,} ({unique_cardholders_day.shape[0] / unique_cardholders.shape[0] * 100:.2f}%)\")\n",
    "print(f\"Total unique cardholders with higher than usual weekly trainsaction velocity: {unique_cardholders_week.shape[0]:,} ({unique_cardholders_week.shape[0] / unique_cardholders.shape[0] * 100:.2f}%)\")"
   ]
  },
  {
   "cell_type": "markdown",
   "id": "9fe3798a",
   "metadata": {},
   "source": [
    "We can see that there are some users with very high transaction counts per day and per week. \n",
    "\n",
    "Moving from weekly to daily dropped the number of anomalous users significantly from 27.2% to 4.45% making it more focused. \n",
    "\n",
    "The thresholds used here are currently arbitrary and would need to be confimred with the business. But this methodology can be used to flag potential anomalies in how certain users behave in the data."
   ]
  },
  {
   "cell_type": "markdown",
   "id": "3f7c7e0e",
   "metadata": {},
   "source": [
    "### 10. Transaction Velocities by Vendor\n",
    "\n",
    "Same as the previous analysis, but at the vendor level. This can help us identify any potential anomalies or unusual charging patterns."
   ]
  },
  {
   "cell_type": "code",
   "execution_count": 35,
   "id": "4b672324",
   "metadata": {},
   "outputs": [
    {
     "name": "stdout",
     "output_type": "stream",
     "text": [
      "Daily velocity vendor anomalies: 851 rows\n",
      "                     Vendor    txn_date  txns_per_day  mean  std  \\\n",
      "228       159863 CARMIKE 10  2014-01-05             3  1.08 0.41   \n",
      "484         3D ROBOTICS INC  2014-01-31             2  1.03 0.18   \n",
      "903   500 NORMAN TRANSCRIPT  2014-05-06             4  1.19 0.61   \n",
      "1177         820 NEWS PRESS  2014-05-08             7  1.51 0.89   \n",
      "1600      A PLUS AUTO GLASS  2013-08-12             7  1.59 1.28   \n",
      "\n",
      "      day_velocity_anomaly  \n",
      "228                   True  \n",
      "484                   True  \n",
      "903                   True  \n",
      "1177                  True  \n",
      "1600                  True  \n",
      "Weekly velocity vendor anomalies: 119 rows\n",
      "                          Vendor    txn_week  txns_per_week  mean  std  \\\n",
      "2582   ACCURATE ENVIROMENTAL LAB  2013-10-14             20  4.96 3.18   \n",
      "2712                ACE HARDWARE  2014-01-13              6  1.67 1.00   \n",
      "11040  AIRCRAFT SPRUCE AND SPECI  2014-01-13              5  1.52 0.85   \n",
      "11333     ALARMCENTER 8664844800  2014-04-21              2  1.05 0.21   \n",
      "11554                 ALFA AESAR  2014-02-24              7  2.08 1.21   \n",
      "\n",
      "       week_velocity_anomaly  \n",
      "2582                    True  \n",
      "2712                    True  \n",
      "11040                   True  \n",
      "11333                   True  \n",
      "11554                   True  \n"
     ]
    }
   ],
   "source": [
    "import pandas as pd\n",
    "\n",
    "# 1. Copy the DataFrame\n",
    "df7 = df.copy()\n",
    "\n",
    "# 2. Extract date and week\n",
    "df7['txn_date'] = df7['Transaction Date'].dt.date\n",
    "df7['txn_week'] = df7['Transaction Date'].dt.to_period('W').apply(lambda r: r.start_time.date())\n",
    "\n",
    "# 3. Compute daily transaction velocity per vendor\n",
    "daily_vendor_vel = (\n",
    "    df7\n",
    "    .groupby(['Vendor', 'txn_date'])\n",
    "    .size()\n",
    "    .reset_index(name='txns_per_day')\n",
    ")\n",
    "\n",
    "# 4. Compute weekly transaction velocity per vendor\n",
    "weekly_vendor_vel = (\n",
    "    df7\n",
    "    .groupby(['Vendor', 'txn_week'])\n",
    "    .size()\n",
    "    .reset_index(name='txns_per_week')\n",
    ")\n",
    "\n",
    "# 5. Calculate each vendor’s historical mean & std\n",
    "daily_stats = daily_vendor_vel.groupby('Vendor')['txns_per_day'].agg(['mean','std']).reset_index()\n",
    "weekly_stats = weekly_vendor_vel.groupby('Vendor')['txns_per_week'].agg(['mean','std']).reset_index()\n",
    "\n",
    "# 6. Merge stats back and flag anomalies\n",
    "daily_vendor_vel = daily_vendor_vel.merge(daily_stats, on='Vendor')\n",
    "daily_vendor_vel['day_velocity_anomaly'] = (\n",
    "    daily_vendor_vel['txns_per_day'] > (daily_vendor_vel['mean'] + 4 * daily_vendor_vel['std'])\n",
    ")\n",
    "\n",
    "weekly_vendor_vel = weekly_vendor_vel.merge(weekly_stats, on='Vendor')\n",
    "weekly_vendor_vel['week_velocity_anomaly'] = (\n",
    "    weekly_vendor_vel['txns_per_week'] > (weekly_vendor_vel['mean'] + 4 * weekly_vendor_vel['std'])\n",
    ")\n",
    "\n",
    "# 8. Inspect anomalies\n",
    "print(f\"Daily velocity vendor anomalies: {daily_vendor_vel[daily_vendor_vel['day_velocity_anomaly']].shape[0]:,} rows\")\n",
    "print(daily_vendor_vel[daily_vendor_vel['day_velocity_anomaly']].head())\n",
    "\n",
    "print(f\"Weekly velocity vendor anomalies: {weekly_vendor_vel[weekly_vendor_vel['week_velocity_anomaly']].shape[0]:,} rows\")\n",
    "print(weekly_vendor_vel[weekly_vendor_vel['week_velocity_anomaly']].head())\n"
   ]
  },
  {
   "cell_type": "markdown",
   "id": "3507ae9b",
   "metadata": {},
   "source": [
    "We have also found some vendors with very high transaction velocities. "
   ]
  },
  {
   "cell_type": "code",
   "execution_count": 36,
   "id": "a29ce837",
   "metadata": {},
   "outputs": [
    {
     "name": "stdout",
     "output_type": "stream",
     "text": [
      "Total unique Vendors: 86,729\n",
      "Total unique Vendors with higher than usual daily trainsaction velocity: 754 (0.87%)\n",
      "Total unique Vendors with higher than usual weekly trainsaction velocity: 112 (0.13%)\n"
     ]
    }
   ],
   "source": [
    "unique_vendors = df[['Vendor']].drop_duplicates()\n",
    "unique_vendors_day = daily_vendor_vel[daily_vendor_vel['day_velocity_anomaly']][['Vendor']].drop_duplicates()\n",
    "unique_vendors_week = weekly_vendor_vel[weekly_vendor_vel['week_velocity_anomaly']][['Vendor']].drop_duplicates()\n",
    "\n",
    "print(f\"Total unique Vendors: {unique_vendors.shape[0]:,}\")\n",
    "print(f\"Total unique Vendors with higher than usual daily trainsaction velocity: {unique_vendors_day.shape[0]:,} ({unique_vendors_day.shape[0] / unique_vendors.shape[0] * 100:.2f}%)\")\n",
    "print(f\"Total unique Vendors with higher than usual weekly trainsaction velocity: {unique_vendors_week.shape[0]:,} ({unique_vendors_week.shape[0] / unique_vendors.shape[0] * 100:.2f}%)\")"
   ]
  },
  {
   "cell_type": "markdown",
   "id": "35635224",
   "metadata": {},
   "source": [
    "The data show that anomalous spikes in transaction velocity are far more prevalent among individual cardholders than among vendors. Only a tiny fraction of vendors break their own daily or weekly volume patterns, while over a quarter of cardholders exceed their personal norms on a daily basis.\n",
    "\n",
    "* Vendor anomalies are rare: 0.87 % exceed daily thresholds and 0.13 % exceed weekly thresholds.\n",
    "* Cardholder anomalies are common: 27.22 % exceed daily thresholds and 4.45 % exceed weekly thresholds.\n",
    "* Large vendors have high, stable baselines—random fluctuations rarely stand out.\n",
    "* Cardholders’ activity varies with travel, projects, and one-off events, so bursty behavior is expected.\n",
    "* Prioritize velocity monitoring at the cardholder level to catch most unusual activity.\n",
    "* Use vendor velocity alerts as a secondary check for sudden new or rogue suppliers.\n"
   ]
  },
  {
   "cell_type": "markdown",
   "id": "bc57a960",
   "metadata": {},
   "source": [
    "### 11. Time since last transaction"
   ]
  },
  {
   "cell_type": "code",
   "execution_count": 41,
   "id": "7ae26e72",
   "metadata": {},
   "outputs": [
    {
     "data": {
      "application/vnd.plotly.v1+json": {
       "config": {
        "plotlyServerURL": "https://plot.ly"
       },
       "data": [
        {
         "hovertemplate": "Days-Since-Last-Txn Bin=%{x}<br>Transaction Count=%{y}<extra></extra>",
         "legendgroup": "",
         "marker": {
          "color": "#636efa",
          "pattern": {
           "shape": ""
          }
         },
         "name": "",
         "orientation": "v",
         "showlegend": false,
         "textposition": "auto",
         "type": "bar",
         "x": [
          "(-0.001, 1.0]",
          "(1.0, 3.0]",
          "(3.0, 7.0]",
          "(7.0, 14.0]",
          "(14.0, 38.0]",
          "(38.0, 129.0]",
          "(129.0, 240.551]",
          "(240.551, 367.0]"
         ],
         "xaxis": "x",
         "y": {
          "bdata": "d4MEAPLCAAAGvQAAE1oAAIk9AABEDwAAggEAACwAAAA=",
          "dtype": "i4"
         },
         "yaxis": "y"
        }
       ],
       "layout": {
        "barmode": "relative",
        "legend": {
         "tracegroupgap": 0
        },
        "template": {
         "data": {
          "bar": [
           {
            "error_x": {
             "color": "#2a3f5f"
            },
            "error_y": {
             "color": "#2a3f5f"
            },
            "marker": {
             "line": {
              "color": "white",
              "width": 0.5
             },
             "pattern": {
              "fillmode": "overlay",
              "size": 10,
              "solidity": 0.2
             }
            },
            "type": "bar"
           }
          ],
          "barpolar": [
           {
            "marker": {
             "line": {
              "color": "white",
              "width": 0.5
             },
             "pattern": {
              "fillmode": "overlay",
              "size": 10,
              "solidity": 0.2
             }
            },
            "type": "barpolar"
           }
          ],
          "carpet": [
           {
            "aaxis": {
             "endlinecolor": "#2a3f5f",
             "gridcolor": "#C8D4E3",
             "linecolor": "#C8D4E3",
             "minorgridcolor": "#C8D4E3",
             "startlinecolor": "#2a3f5f"
            },
            "baxis": {
             "endlinecolor": "#2a3f5f",
             "gridcolor": "#C8D4E3",
             "linecolor": "#C8D4E3",
             "minorgridcolor": "#C8D4E3",
             "startlinecolor": "#2a3f5f"
            },
            "type": "carpet"
           }
          ],
          "choropleth": [
           {
            "colorbar": {
             "outlinewidth": 0,
             "ticks": ""
            },
            "type": "choropleth"
           }
          ],
          "contour": [
           {
            "colorbar": {
             "outlinewidth": 0,
             "ticks": ""
            },
            "colorscale": [
             [
              0,
              "#0d0887"
             ],
             [
              0.1111111111111111,
              "#46039f"
             ],
             [
              0.2222222222222222,
              "#7201a8"
             ],
             [
              0.3333333333333333,
              "#9c179e"
             ],
             [
              0.4444444444444444,
              "#bd3786"
             ],
             [
              0.5555555555555556,
              "#d8576b"
             ],
             [
              0.6666666666666666,
              "#ed7953"
             ],
             [
              0.7777777777777778,
              "#fb9f3a"
             ],
             [
              0.8888888888888888,
              "#fdca26"
             ],
             [
              1,
              "#f0f921"
             ]
            ],
            "type": "contour"
           }
          ],
          "contourcarpet": [
           {
            "colorbar": {
             "outlinewidth": 0,
             "ticks": ""
            },
            "type": "contourcarpet"
           }
          ],
          "heatmap": [
           {
            "colorbar": {
             "outlinewidth": 0,
             "ticks": ""
            },
            "colorscale": [
             [
              0,
              "#0d0887"
             ],
             [
              0.1111111111111111,
              "#46039f"
             ],
             [
              0.2222222222222222,
              "#7201a8"
             ],
             [
              0.3333333333333333,
              "#9c179e"
             ],
             [
              0.4444444444444444,
              "#bd3786"
             ],
             [
              0.5555555555555556,
              "#d8576b"
             ],
             [
              0.6666666666666666,
              "#ed7953"
             ],
             [
              0.7777777777777778,
              "#fb9f3a"
             ],
             [
              0.8888888888888888,
              "#fdca26"
             ],
             [
              1,
              "#f0f921"
             ]
            ],
            "type": "heatmap"
           }
          ],
          "histogram": [
           {
            "marker": {
             "pattern": {
              "fillmode": "overlay",
              "size": 10,
              "solidity": 0.2
             }
            },
            "type": "histogram"
           }
          ],
          "histogram2d": [
           {
            "colorbar": {
             "outlinewidth": 0,
             "ticks": ""
            },
            "colorscale": [
             [
              0,
              "#0d0887"
             ],
             [
              0.1111111111111111,
              "#46039f"
             ],
             [
              0.2222222222222222,
              "#7201a8"
             ],
             [
              0.3333333333333333,
              "#9c179e"
             ],
             [
              0.4444444444444444,
              "#bd3786"
             ],
             [
              0.5555555555555556,
              "#d8576b"
             ],
             [
              0.6666666666666666,
              "#ed7953"
             ],
             [
              0.7777777777777778,
              "#fb9f3a"
             ],
             [
              0.8888888888888888,
              "#fdca26"
             ],
             [
              1,
              "#f0f921"
             ]
            ],
            "type": "histogram2d"
           }
          ],
          "histogram2dcontour": [
           {
            "colorbar": {
             "outlinewidth": 0,
             "ticks": ""
            },
            "colorscale": [
             [
              0,
              "#0d0887"
             ],
             [
              0.1111111111111111,
              "#46039f"
             ],
             [
              0.2222222222222222,
              "#7201a8"
             ],
             [
              0.3333333333333333,
              "#9c179e"
             ],
             [
              0.4444444444444444,
              "#bd3786"
             ],
             [
              0.5555555555555556,
              "#d8576b"
             ],
             [
              0.6666666666666666,
              "#ed7953"
             ],
             [
              0.7777777777777778,
              "#fb9f3a"
             ],
             [
              0.8888888888888888,
              "#fdca26"
             ],
             [
              1,
              "#f0f921"
             ]
            ],
            "type": "histogram2dcontour"
           }
          ],
          "mesh3d": [
           {
            "colorbar": {
             "outlinewidth": 0,
             "ticks": ""
            },
            "type": "mesh3d"
           }
          ],
          "parcoords": [
           {
            "line": {
             "colorbar": {
              "outlinewidth": 0,
              "ticks": ""
             }
            },
            "type": "parcoords"
           }
          ],
          "pie": [
           {
            "automargin": true,
            "type": "pie"
           }
          ],
          "scatter": [
           {
            "fillpattern": {
             "fillmode": "overlay",
             "size": 10,
             "solidity": 0.2
            },
            "type": "scatter"
           }
          ],
          "scatter3d": [
           {
            "line": {
             "colorbar": {
              "outlinewidth": 0,
              "ticks": ""
             }
            },
            "marker": {
             "colorbar": {
              "outlinewidth": 0,
              "ticks": ""
             }
            },
            "type": "scatter3d"
           }
          ],
          "scattercarpet": [
           {
            "marker": {
             "colorbar": {
              "outlinewidth": 0,
              "ticks": ""
             }
            },
            "type": "scattercarpet"
           }
          ],
          "scattergeo": [
           {
            "marker": {
             "colorbar": {
              "outlinewidth": 0,
              "ticks": ""
             }
            },
            "type": "scattergeo"
           }
          ],
          "scattergl": [
           {
            "marker": {
             "colorbar": {
              "outlinewidth": 0,
              "ticks": ""
             }
            },
            "type": "scattergl"
           }
          ],
          "scattermap": [
           {
            "marker": {
             "colorbar": {
              "outlinewidth": 0,
              "ticks": ""
             }
            },
            "type": "scattermap"
           }
          ],
          "scattermapbox": [
           {
            "marker": {
             "colorbar": {
              "outlinewidth": 0,
              "ticks": ""
             }
            },
            "type": "scattermapbox"
           }
          ],
          "scatterpolar": [
           {
            "marker": {
             "colorbar": {
              "outlinewidth": 0,
              "ticks": ""
             }
            },
            "type": "scatterpolar"
           }
          ],
          "scatterpolargl": [
           {
            "marker": {
             "colorbar": {
              "outlinewidth": 0,
              "ticks": ""
             }
            },
            "type": "scatterpolargl"
           }
          ],
          "scatterternary": [
           {
            "marker": {
             "colorbar": {
              "outlinewidth": 0,
              "ticks": ""
             }
            },
            "type": "scatterternary"
           }
          ],
          "surface": [
           {
            "colorbar": {
             "outlinewidth": 0,
             "ticks": ""
            },
            "colorscale": [
             [
              0,
              "#0d0887"
             ],
             [
              0.1111111111111111,
              "#46039f"
             ],
             [
              0.2222222222222222,
              "#7201a8"
             ],
             [
              0.3333333333333333,
              "#9c179e"
             ],
             [
              0.4444444444444444,
              "#bd3786"
             ],
             [
              0.5555555555555556,
              "#d8576b"
             ],
             [
              0.6666666666666666,
              "#ed7953"
             ],
             [
              0.7777777777777778,
              "#fb9f3a"
             ],
             [
              0.8888888888888888,
              "#fdca26"
             ],
             [
              1,
              "#f0f921"
             ]
            ],
            "type": "surface"
           }
          ],
          "table": [
           {
            "cells": {
             "fill": {
              "color": "#EBF0F8"
             },
             "line": {
              "color": "white"
             }
            },
            "header": {
             "fill": {
              "color": "#C8D4E3"
             },
             "line": {
              "color": "white"
             }
            },
            "type": "table"
           }
          ]
         },
         "layout": {
          "annotationdefaults": {
           "arrowcolor": "#2a3f5f",
           "arrowhead": 0,
           "arrowwidth": 1
          },
          "autotypenumbers": "strict",
          "coloraxis": {
           "colorbar": {
            "outlinewidth": 0,
            "ticks": ""
           }
          },
          "colorscale": {
           "diverging": [
            [
             0,
             "#8e0152"
            ],
            [
             0.1,
             "#c51b7d"
            ],
            [
             0.2,
             "#de77ae"
            ],
            [
             0.3,
             "#f1b6da"
            ],
            [
             0.4,
             "#fde0ef"
            ],
            [
             0.5,
             "#f7f7f7"
            ],
            [
             0.6,
             "#e6f5d0"
            ],
            [
             0.7,
             "#b8e186"
            ],
            [
             0.8,
             "#7fbc41"
            ],
            [
             0.9,
             "#4d9221"
            ],
            [
             1,
             "#276419"
            ]
           ],
           "sequential": [
            [
             0,
             "#0d0887"
            ],
            [
             0.1111111111111111,
             "#46039f"
            ],
            [
             0.2222222222222222,
             "#7201a8"
            ],
            [
             0.3333333333333333,
             "#9c179e"
            ],
            [
             0.4444444444444444,
             "#bd3786"
            ],
            [
             0.5555555555555556,
             "#d8576b"
            ],
            [
             0.6666666666666666,
             "#ed7953"
            ],
            [
             0.7777777777777778,
             "#fb9f3a"
            ],
            [
             0.8888888888888888,
             "#fdca26"
            ],
            [
             1,
             "#f0f921"
            ]
           ],
           "sequentialminus": [
            [
             0,
             "#0d0887"
            ],
            [
             0.1111111111111111,
             "#46039f"
            ],
            [
             0.2222222222222222,
             "#7201a8"
            ],
            [
             0.3333333333333333,
             "#9c179e"
            ],
            [
             0.4444444444444444,
             "#bd3786"
            ],
            [
             0.5555555555555556,
             "#d8576b"
            ],
            [
             0.6666666666666666,
             "#ed7953"
            ],
            [
             0.7777777777777778,
             "#fb9f3a"
            ],
            [
             0.8888888888888888,
             "#fdca26"
            ],
            [
             1,
             "#f0f921"
            ]
           ]
          },
          "colorway": [
           "#636efa",
           "#EF553B",
           "#00cc96",
           "#ab63fa",
           "#FFA15A",
           "#19d3f3",
           "#FF6692",
           "#B6E880",
           "#FF97FF",
           "#FECB52"
          ],
          "font": {
           "color": "#2a3f5f"
          },
          "geo": {
           "bgcolor": "white",
           "lakecolor": "white",
           "landcolor": "white",
           "showlakes": true,
           "showland": true,
           "subunitcolor": "#C8D4E3"
          },
          "hoverlabel": {
           "align": "left"
          },
          "hovermode": "closest",
          "mapbox": {
           "style": "light"
          },
          "paper_bgcolor": "white",
          "plot_bgcolor": "white",
          "polar": {
           "angularaxis": {
            "gridcolor": "#EBF0F8",
            "linecolor": "#EBF0F8",
            "ticks": ""
           },
           "bgcolor": "white",
           "radialaxis": {
            "gridcolor": "#EBF0F8",
            "linecolor": "#EBF0F8",
            "ticks": ""
           }
          },
          "scene": {
           "xaxis": {
            "backgroundcolor": "white",
            "gridcolor": "#DFE8F3",
            "gridwidth": 2,
            "linecolor": "#EBF0F8",
            "showbackground": true,
            "ticks": "",
            "zerolinecolor": "#EBF0F8"
           },
           "yaxis": {
            "backgroundcolor": "white",
            "gridcolor": "#DFE8F3",
            "gridwidth": 2,
            "linecolor": "#EBF0F8",
            "showbackground": true,
            "ticks": "",
            "zerolinecolor": "#EBF0F8"
           },
           "zaxis": {
            "backgroundcolor": "white",
            "gridcolor": "#DFE8F3",
            "gridwidth": 2,
            "linecolor": "#EBF0F8",
            "showbackground": true,
            "ticks": "",
            "zerolinecolor": "#EBF0F8"
           }
          },
          "shapedefaults": {
           "line": {
            "color": "#2a3f5f"
           }
          },
          "ternary": {
           "aaxis": {
            "gridcolor": "#DFE8F3",
            "linecolor": "#A2B1C6",
            "ticks": ""
           },
           "baxis": {
            "gridcolor": "#DFE8F3",
            "linecolor": "#A2B1C6",
            "ticks": ""
           },
           "bgcolor": "white",
           "caxis": {
            "gridcolor": "#DFE8F3",
            "linecolor": "#A2B1C6",
            "ticks": ""
           }
          },
          "title": {
           "x": 0.05
          },
          "xaxis": {
           "automargin": true,
           "gridcolor": "#EBF0F8",
           "linecolor": "#EBF0F8",
           "ticks": "",
           "title": {
            "standoff": 15
           },
           "zerolinecolor": "#EBF0F8",
           "zerolinewidth": 2
          },
          "yaxis": {
           "automargin": true,
           "gridcolor": "#EBF0F8",
           "linecolor": "#EBF0F8",
           "ticks": "",
           "title": {
            "standoff": 15
           },
           "zerolinecolor": "#EBF0F8",
           "zerolinewidth": 2
          }
         }
        },
        "title": {
         "text": "Distribution of Days Since Last Transaction (Percentile Bins)"
        },
        "xaxis": {
         "anchor": "y",
         "domain": [
          0,
          1
         ],
         "tickangle": -45,
         "title": {
          "text": "Days-Since-Last-Txn Bin"
         }
        },
        "yaxis": {
         "anchor": "x",
         "domain": [
          0,
          1
         ],
         "title": {
          "text": "Transaction Count"
         }
        }
       }
      }
     },
     "metadata": {},
     "output_type": "display_data"
    }
   ],
   "source": [
    "import pandas as pd\n",
    "import plotly.express as px\n",
    "\n",
    "# 1. Copy & prepare data\n",
    "df11 = df.copy()\n",
    "df11 = df11.sort_values(\n",
    "    ['Cardholder Last Name', 'Cardholder First Initial', 'Transaction Date']\n",
    ").reset_index(drop=True)\n",
    "df11['days_since_last_txn'] = df11.groupby(\n",
    "    ['Cardholder Last Name', 'Cardholder First Initial']\n",
    ")['Transaction Date'].diff().dt.days\n",
    "\n",
    "# 2. Drop NaNs (first txn per cardholder)\n",
    "data = df11['days_since_last_txn'].dropna()\n",
    "\n",
    "# 3. Define your desired quantiles\n",
    "quantiles = [0, 0.01, 0.05, 0.10, 0.25, 0.50, 0.75, 0.90, 0.95, 0.99, 0.999, 0.9999, 1.0]\n",
    "\n",
    "# 4. Bin with qcut (let it auto-label, dropping duplicate edges)\n",
    "binned = pd.qcut(data, q=quantiles, duplicates='drop')\n",
    "\n",
    "# 5. Count per bin\n",
    "bin_counts = (\n",
    "    binned\n",
    "    .value_counts()\n",
    "    .sort_index()\n",
    "    .reset_index(name='count')\n",
    "    .rename(columns={'index': 'percentile_bin'})\n",
    ")\n",
    "\n",
    "# 6. Convert the Interval objects to strings for plotting\n",
    "bin_counts['days_since_last_txn'] = bin_counts['days_since_last_txn'].astype(str)\n",
    "\n",
    "# 7. Plot with Plotly\n",
    "fig = px.bar(\n",
    "    bin_counts,\n",
    "    x='days_since_last_txn',\n",
    "    y='count',\n",
    "    title='Distribution of Days Since Last Transaction (Percentile Bins)',\n",
    "    labels={'days_since_last_txn': 'Days-Since-Last-Txn Bin', 'count': 'Transaction Count'},\n",
    "    template='plotly_white'\n",
    ")\n",
    "fig.update_layout(xaxis_tickangle=-45)\n",
    "fig.show()\n"
   ]
  },
  {
   "cell_type": "code",
   "execution_count": 42,
   "id": "26283aa0",
   "metadata": {},
   "outputs": [
    {
     "data": {
      "text/html": [
       "<div>\n",
       "<style scoped>\n",
       "    .dataframe tbody tr th:only-of-type {\n",
       "        vertical-align: middle;\n",
       "    }\n",
       "\n",
       "    .dataframe tbody tr th {\n",
       "        vertical-align: top;\n",
       "    }\n",
       "\n",
       "    .dataframe thead th {\n",
       "        text-align: right;\n",
       "    }\n",
       "</style>\n",
       "<table border=\"1\" class=\"dataframe\">\n",
       "  <thead>\n",
       "    <tr style=\"text-align: right;\">\n",
       "      <th></th>\n",
       "      <th>days_since_last_txn</th>\n",
       "      <th>count</th>\n",
       "    </tr>\n",
       "  </thead>\n",
       "  <tbody>\n",
       "    <tr>\n",
       "      <th>0</th>\n",
       "      <td>(-0.001, 1.0]</td>\n",
       "      <td>295799</td>\n",
       "    </tr>\n",
       "    <tr>\n",
       "      <th>1</th>\n",
       "      <td>(1.0, 3.0]</td>\n",
       "      <td>49906</td>\n",
       "    </tr>\n",
       "    <tr>\n",
       "      <th>2</th>\n",
       "      <td>(3.0, 7.0]</td>\n",
       "      <td>48390</td>\n",
       "    </tr>\n",
       "    <tr>\n",
       "      <th>3</th>\n",
       "      <td>(7.0, 14.0]</td>\n",
       "      <td>23059</td>\n",
       "    </tr>\n",
       "    <tr>\n",
       "      <th>4</th>\n",
       "      <td>(14.0, 38.0]</td>\n",
       "      <td>15753</td>\n",
       "    </tr>\n",
       "    <tr>\n",
       "      <th>5</th>\n",
       "      <td>(38.0, 129.0]</td>\n",
       "      <td>3908</td>\n",
       "    </tr>\n",
       "    <tr>\n",
       "      <th>6</th>\n",
       "      <td>(129.0, 240.551]</td>\n",
       "      <td>386</td>\n",
       "    </tr>\n",
       "    <tr>\n",
       "      <th>7</th>\n",
       "      <td>(240.551, 367.0]</td>\n",
       "      <td>44</td>\n",
       "    </tr>\n",
       "  </tbody>\n",
       "</table>\n",
       "</div>"
      ],
      "text/plain": [
       "  days_since_last_txn   count\n",
       "0       (-0.001, 1.0]  295799\n",
       "1          (1.0, 3.0]   49906\n",
       "2          (3.0, 7.0]   48390\n",
       "3         (7.0, 14.0]   23059\n",
       "4        (14.0, 38.0]   15753\n",
       "5       (38.0, 129.0]    3908\n",
       "6    (129.0, 240.551]     386\n",
       "7    (240.551, 367.0]      44"
      ]
     },
     "execution_count": 42,
     "metadata": {},
     "output_type": "execute_result"
    }
   ],
   "source": [
    "bin_counts"
   ]
  },
  {
   "cell_type": "markdown",
   "id": "65900f54",
   "metadata": {},
   "source": [
    "\n",
    "Key observations\n",
    "\n",
    "* Same-day repeats dominate usage (≈75%)\n",
    "* 1–3 day and 3–7 day gaps each cover about 12% of transactions\n",
    "* Monthly-cycle gaps (7–14 days, 14–38 days) account for under 10%\n",
    "* Gaps over 38 days are under 1% and warrant anomaly review\n",
    "* Outliers beyond 129 days are extremely rare and should be flagged for investigation, \n",
    "* Even more so are the users who take almost a year to make a new transaction. These are the prime candidates for anomalies (whether normal or an area of improvement for business) and for deeper investigation.\n",
    "\n",
    "This feature is helpful to analyze and predict on a customer level. As an illustration, below are the users who have not made a transaction in more than 240 days.\n"
   ]
  },
  {
   "cell_type": "code",
   "execution_count": null,
   "id": "7c44687e",
   "metadata": {},
   "outputs": [
    {
     "data": {
      "text/html": [
       "<div>\n",
       "<style scoped>\n",
       "    .dataframe tbody tr th:only-of-type {\n",
       "        vertical-align: middle;\n",
       "    }\n",
       "\n",
       "    .dataframe tbody tr th {\n",
       "        vertical-align: top;\n",
       "    }\n",
       "\n",
       "    .dataframe thead th {\n",
       "        text-align: right;\n",
       "    }\n",
       "</style>\n",
       "<table border=\"1\" class=\"dataframe\">\n",
       "  <thead>\n",
       "    <tr style=\"text-align: right;\">\n",
       "      <th></th>\n",
       "      <th>Cardholder Last Name</th>\n",
       "      <th>Cardholder First Initial</th>\n",
       "      <th>days_since_last_txn</th>\n",
       "    </tr>\n",
       "  </thead>\n",
       "  <tbody>\n",
       "    <tr>\n",
       "      <th>0</th>\n",
       "      <td>77000</td>\n",
       "      <td>7</td>\n",
       "      <td>261.00</td>\n",
       "    </tr>\n",
       "    <tr>\n",
       "      <th>1</th>\n",
       "      <td>BIRKETT</td>\n",
       "      <td>L</td>\n",
       "      <td>277.00</td>\n",
       "    </tr>\n",
       "    <tr>\n",
       "      <th>2</th>\n",
       "      <td>BUGHER</td>\n",
       "      <td>J</td>\n",
       "      <td>352.00</td>\n",
       "    </tr>\n",
       "    <tr>\n",
       "      <th>3</th>\n",
       "      <td>Basco</td>\n",
       "      <td>T</td>\n",
       "      <td>367.00</td>\n",
       "    </tr>\n",
       "    <tr>\n",
       "      <th>4</th>\n",
       "      <td>Blewett</td>\n",
       "      <td>E</td>\n",
       "      <td>281.00</td>\n",
       "    </tr>\n",
       "    <tr>\n",
       "      <th>5</th>\n",
       "      <td>Blum</td>\n",
       "      <td>F</td>\n",
       "      <td>271.00</td>\n",
       "    </tr>\n",
       "    <tr>\n",
       "      <th>6</th>\n",
       "      <td>Bowser</td>\n",
       "      <td>T</td>\n",
       "      <td>259.00</td>\n",
       "    </tr>\n",
       "    <tr>\n",
       "      <th>7</th>\n",
       "      <td>Boyd</td>\n",
       "      <td>B</td>\n",
       "      <td>286.00</td>\n",
       "    </tr>\n",
       "    <tr>\n",
       "      <th>8</th>\n",
       "      <td>Brown</td>\n",
       "      <td>G</td>\n",
       "      <td>314.00</td>\n",
       "    </tr>\n",
       "    <tr>\n",
       "      <th>9</th>\n",
       "      <td>Chewey</td>\n",
       "      <td>D</td>\n",
       "      <td>320.00</td>\n",
       "    </tr>\n",
       "    <tr>\n",
       "      <th>10</th>\n",
       "      <td>DENNY</td>\n",
       "      <td>B</td>\n",
       "      <td>244.00</td>\n",
       "    </tr>\n",
       "    <tr>\n",
       "      <th>11</th>\n",
       "      <td>DRASS</td>\n",
       "      <td>R</td>\n",
       "      <td>310.00</td>\n",
       "    </tr>\n",
       "    <tr>\n",
       "      <th>12</th>\n",
       "      <td>Doss</td>\n",
       "      <td>J</td>\n",
       "      <td>257.00</td>\n",
       "    </tr>\n",
       "    <tr>\n",
       "      <th>13</th>\n",
       "      <td>Emmons</td>\n",
       "      <td>L</td>\n",
       "      <td>300.00</td>\n",
       "    </tr>\n",
       "    <tr>\n",
       "      <th>14</th>\n",
       "      <td>Ezugha</td>\n",
       "      <td>S</td>\n",
       "      <td>242.00</td>\n",
       "    </tr>\n",
       "    <tr>\n",
       "      <th>15</th>\n",
       "      <td>GLATZHOFER</td>\n",
       "      <td>D</td>\n",
       "      <td>332.00</td>\n",
       "    </tr>\n",
       "    <tr>\n",
       "      <th>16</th>\n",
       "      <td>Garcia</td>\n",
       "      <td>J</td>\n",
       "      <td>270.00</td>\n",
       "    </tr>\n",
       "    <tr>\n",
       "      <th>17</th>\n",
       "      <td>Gardner ch</td>\n",
       "      <td>C</td>\n",
       "      <td>338.00</td>\n",
       "    </tr>\n",
       "    <tr>\n",
       "      <th>18</th>\n",
       "      <td>Halcomb</td>\n",
       "      <td>S</td>\n",
       "      <td>243.00</td>\n",
       "    </tr>\n",
       "    <tr>\n",
       "      <th>19</th>\n",
       "      <td>Harlin</td>\n",
       "      <td>C</td>\n",
       "      <td>280.00</td>\n",
       "    </tr>\n",
       "    <tr>\n",
       "      <th>20</th>\n",
       "      <td>Hook</td>\n",
       "      <td>B</td>\n",
       "      <td>253.00</td>\n",
       "    </tr>\n",
       "    <tr>\n",
       "      <th>21</th>\n",
       "      <td>Horn</td>\n",
       "      <td>A</td>\n",
       "      <td>342.00</td>\n",
       "    </tr>\n",
       "    <tr>\n",
       "      <th>22</th>\n",
       "      <td>JONES</td>\n",
       "      <td>D</td>\n",
       "      <td>273.00</td>\n",
       "    </tr>\n",
       "    <tr>\n",
       "      <th>23</th>\n",
       "      <td>James</td>\n",
       "      <td>M</td>\n",
       "      <td>246.00</td>\n",
       "    </tr>\n",
       "    <tr>\n",
       "      <th>24</th>\n",
       "      <td>Johnston</td>\n",
       "      <td>J</td>\n",
       "      <td>300.00</td>\n",
       "    </tr>\n",
       "    <tr>\n",
       "      <th>25</th>\n",
       "      <td>Kildow</td>\n",
       "      <td>R</td>\n",
       "      <td>306.00</td>\n",
       "    </tr>\n",
       "    <tr>\n",
       "      <th>26</th>\n",
       "      <td>Marmon</td>\n",
       "      <td>S</td>\n",
       "      <td>242.00</td>\n",
       "    </tr>\n",
       "    <tr>\n",
       "      <th>27</th>\n",
       "      <td>McFarlane</td>\n",
       "      <td>D</td>\n",
       "      <td>243.00</td>\n",
       "    </tr>\n",
       "    <tr>\n",
       "      <th>28</th>\n",
       "      <td>Morgan</td>\n",
       "      <td>J</td>\n",
       "      <td>345.00</td>\n",
       "    </tr>\n",
       "    <tr>\n",
       "      <th>29</th>\n",
       "      <td>Morley</td>\n",
       "      <td>G</td>\n",
       "      <td>266.00</td>\n",
       "    </tr>\n",
       "    <tr>\n",
       "      <th>30</th>\n",
       "      <td>Moss</td>\n",
       "      <td>F</td>\n",
       "      <td>281.00</td>\n",
       "    </tr>\n",
       "    <tr>\n",
       "      <th>31</th>\n",
       "      <td>Neuman</td>\n",
       "      <td>S</td>\n",
       "      <td>272.00</td>\n",
       "    </tr>\n",
       "    <tr>\n",
       "      <th>32</th>\n",
       "      <td>O'Donnell</td>\n",
       "      <td>S</td>\n",
       "      <td>317.00</td>\n",
       "    </tr>\n",
       "    <tr>\n",
       "      <th>33</th>\n",
       "      <td>Pickle</td>\n",
       "      <td>B</td>\n",
       "      <td>242.00</td>\n",
       "    </tr>\n",
       "    <tr>\n",
       "      <th>34</th>\n",
       "      <td>Rackley</td>\n",
       "      <td>J</td>\n",
       "      <td>245.00</td>\n",
       "    </tr>\n",
       "    <tr>\n",
       "      <th>35</th>\n",
       "      <td>Reed</td>\n",
       "      <td>S</td>\n",
       "      <td>251.00</td>\n",
       "    </tr>\n",
       "    <tr>\n",
       "      <th>36</th>\n",
       "      <td>Rogers</td>\n",
       "      <td>B</td>\n",
       "      <td>257.00</td>\n",
       "    </tr>\n",
       "    <tr>\n",
       "      <th>37</th>\n",
       "      <td>Rumsey</td>\n",
       "      <td>W</td>\n",
       "      <td>286.00</td>\n",
       "    </tr>\n",
       "    <tr>\n",
       "      <th>38</th>\n",
       "      <td>Ryan III</td>\n",
       "      <td>W</td>\n",
       "      <td>282.00</td>\n",
       "    </tr>\n",
       "    <tr>\n",
       "      <th>39</th>\n",
       "      <td>Stephens</td>\n",
       "      <td>D</td>\n",
       "      <td>244.00</td>\n",
       "    </tr>\n",
       "    <tr>\n",
       "      <th>40</th>\n",
       "      <td>Unger</td>\n",
       "      <td>A</td>\n",
       "      <td>300.00</td>\n",
       "    </tr>\n",
       "    <tr>\n",
       "      <th>41</th>\n",
       "      <td>Walker</td>\n",
       "      <td>C</td>\n",
       "      <td>327.00</td>\n",
       "    </tr>\n",
       "    <tr>\n",
       "      <th>42</th>\n",
       "      <td>Walker</td>\n",
       "      <td>M</td>\n",
       "      <td>262.00</td>\n",
       "    </tr>\n",
       "    <tr>\n",
       "      <th>43</th>\n",
       "      <td>Williams CH</td>\n",
       "      <td>K</td>\n",
       "      <td>321.00</td>\n",
       "    </tr>\n",
       "  </tbody>\n",
       "</table>\n",
       "</div>"
      ],
      "text/plain": [
       "   Cardholder Last Name Cardholder First Initial  days_since_last_txn\n",
       "0                 77000                        7               261.00\n",
       "1               BIRKETT                        L               277.00\n",
       "2                BUGHER                        J               352.00\n",
       "3                 Basco                        T               367.00\n",
       "4               Blewett                        E               281.00\n",
       "5                  Blum                        F               271.00\n",
       "6                Bowser                        T               259.00\n",
       "7                  Boyd                        B               286.00\n",
       "8                 Brown                        G               314.00\n",
       "9                Chewey                        D               320.00\n",
       "10                DENNY                        B               244.00\n",
       "11                DRASS                        R               310.00\n",
       "12                 Doss                        J               257.00\n",
       "13               Emmons                        L               300.00\n",
       "14               Ezugha                        S               242.00\n",
       "15           GLATZHOFER                        D               332.00\n",
       "16               Garcia                        J               270.00\n",
       "17           Gardner ch                        C               338.00\n",
       "18              Halcomb                        S               243.00\n",
       "19               Harlin                        C               280.00\n",
       "20                 Hook                        B               253.00\n",
       "21                 Horn                        A               342.00\n",
       "22                JONES                        D               273.00\n",
       "23                James                        M               246.00\n",
       "24             Johnston                        J               300.00\n",
       "25               Kildow                        R               306.00\n",
       "26               Marmon                        S               242.00\n",
       "27            McFarlane                        D               243.00\n",
       "28               Morgan                        J               345.00\n",
       "29               Morley                        G               266.00\n",
       "30                 Moss                        F               281.00\n",
       "31               Neuman                        S               272.00\n",
       "32            O'Donnell                        S               317.00\n",
       "33               Pickle                        B               242.00\n",
       "34              Rackley                        J               245.00\n",
       "35                 Reed                        S               251.00\n",
       "36               Rogers                        B               257.00\n",
       "37               Rumsey                        W               286.00\n",
       "38             Ryan III                        W               282.00\n",
       "39             Stephens                        D               244.00\n",
       "40                Unger                        A               300.00\n",
       "41               Walker                        C               327.00\n",
       "42               Walker                        M               262.00\n",
       "43          Williams CH                        K               321.00"
      ]
     },
     "execution_count": 48,
     "metadata": {},
     "output_type": "execute_result"
    }
   ],
   "source": [
    "df11[df11['days_since_last_txn'] > 240].sort_values(by='days_since_last_txn', ascending=False).groupby(['Cardholder Last Name', 'Cardholder First Initial'])['days_since_last_txn'].max().reset_index()\n"
   ]
  },
  {
   "cell_type": "markdown",
   "id": "23d94a8c",
   "metadata": {},
   "source": [
    "## Conclusion\n",
    "\n",
    "Our analysis demonstrates that combining fundamental spend summaries with anomaly-centric features offers a powerful lens for detecting irregularities in purchase-card programs. While most transactions fall within expected patterns—same-day repeats, short inter-transaction gaps, and stable vendor relationships—a small fraction exhibits behaviors characteristic of misuse or process breakdowns. Automated flagging based on velocity, refund proportions, and deviation from historical medians can prioritize investigative efforts. Moving forward, integrating these analytics into routine oversight will strengthen internal controls, enhance compliance, and protect the bank's customers.\n"
   ]
  },
  {
   "cell_type": "code",
   "execution_count": null,
   "id": "5deb910a",
   "metadata": {},
   "outputs": [],
   "source": []
  }
 ],
 "metadata": {
  "kernelspec": {
   "display_name": "apan_ad",
   "language": "python",
   "name": "python3"
  },
  "language_info": {
   "codemirror_mode": {
    "name": "ipython",
    "version": 3
   },
   "file_extension": ".py",
   "mimetype": "text/x-python",
   "name": "python",
   "nbconvert_exporter": "python",
   "pygments_lexer": "ipython3",
   "version": "3.12.9"
  }
 },
 "nbformat": 4,
 "nbformat_minor": 5
}
