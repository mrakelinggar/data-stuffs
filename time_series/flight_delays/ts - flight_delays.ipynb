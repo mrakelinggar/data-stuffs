{
 "cells": [
  {
   "cell_type": "markdown",
   "id": "4e92c523",
   "metadata": {},
   "source": [
    "### Load Packages"
   ]
  },
  {
   "cell_type": "code",
   "execution_count": 1,
   "id": "69202f57",
   "metadata": {},
   "outputs": [],
   "source": [
    "import pandas as pd"
   ]
  },
  {
   "cell_type": "markdown",
   "id": "9d7b769b",
   "metadata": {},
   "source": [
    "### Set Config"
   ]
  },
  {
   "cell_type": "code",
   "execution_count": 12,
   "id": "599bfc83",
   "metadata": {},
   "outputs": [],
   "source": [
    "data_dir = \"/Users/mrla/Documents/Projects/data/flight_delays/ot_delaycause1_DL\"\n",
    "pd.set_option('display.max_columns', None)"
   ]
  },
  {
   "cell_type": "markdown",
   "id": "94b6791a",
   "metadata": {},
   "source": [
    "### Load Data"
   ]
  },
  {
   "cell_type": "code",
   "execution_count": 5,
   "id": "26ef9e4f",
   "metadata": {},
   "outputs": [],
   "source": [
    "df = pd.read_csv(data_dir + \"/Airline_Delay_Cause.csv\")\n"
   ]
  },
  {
   "cell_type": "markdown",
   "id": "18910e29",
   "metadata": {},
   "source": [
    "### Data Definitions ([Source](https://www.transtats.bts.gov/OT_Delay/OT_DelayCause1.asp?20=E))"
   ]
  },
  {
   "cell_type": "markdown",
   "id": "a9142e66",
   "metadata": {},
   "source": [
    "![Data Definitions](DataDefinition.png)"
   ]
  },
  {
   "cell_type": "markdown",
   "id": "e60bcf3c",
   "metadata": {},
   "source": [
    "### Data Exploration"
   ]
  },
  {
   "cell_type": "markdown",
   "id": "35fa7451",
   "metadata": {},
   "source": [
    "#### High-level Data Summary"
   ]
  },
  {
   "cell_type": "code",
   "execution_count": 13,
   "id": "7da40710",
   "metadata": {},
   "outputs": [
    {
     "name": "stdout",
     "output_type": "stream",
     "text": [
      "Shape of data: 400,118 rows, 21 columns\n",
      "Columns in data: ['year', 'month', 'carrier', 'carrier_name', 'airport', 'airport_name', 'arr_flights', 'arr_del15', 'carrier_ct', 'weather_ct', 'nas_ct', 'security_ct', 'late_aircraft_ct', 'arr_cancelled', 'arr_diverted', 'arr_delay', 'carrier_delay', 'weather_delay', 'nas_delay', 'security_delay', 'late_aircraft_delay']\n",
      "First 5 rows of data:\n",
      "   year  month carrier       carrier_name airport  \\\n",
      "0  2025      2      9E  Endeavor Air Inc.     ABE   \n",
      "1  2025      2      9E  Endeavor Air Inc.     AEX   \n",
      "2  2025      2      9E  Endeavor Air Inc.     AGS   \n",
      "3  2025      2      9E  Endeavor Air Inc.     ALB   \n",
      "4  2025      2      9E  Endeavor Air Inc.     ATL   \n",
      "\n",
      "                                        airport_name  arr_flights  arr_del15  \\\n",
      "0  Allentown/Bethlehem/Easton, PA: Lehigh Valley ...         78.0        9.0   \n",
      "1           Alexandria, LA: Alexandria International         78.0       12.0   \n",
      "2        Augusta, GA: Augusta Regional at Bush Field         91.0       13.0   \n",
      "3                   Albany, NY: Albany International         56.0       12.0   \n",
      "4  Atlanta, GA: Hartsfield-Jackson Atlanta Intern...       2700.0      416.0   \n",
      "\n",
      "   carrier_ct  weather_ct  nas_ct  security_ct  late_aircraft_ct  \\\n",
      "0        5.52        0.52    2.84         0.00              0.12   \n",
      "1        5.77        1.62    1.75         0.00              2.86   \n",
      "2        2.47        0.93    4.25         0.00              5.35   \n",
      "3        4.34        0.34    5.32         0.00              2.00   \n",
      "4       83.87       16.73  143.26         0.16            171.98   \n",
      "\n",
      "   arr_cancelled  arr_diverted  arr_delay  carrier_delay  weather_delay  \\\n",
      "0            0.0           0.0      733.0          578.0           16.0   \n",
      "1            0.0           0.0      803.0          379.0           75.0   \n",
      "2            0.0           0.0      964.0          101.0          507.0   \n",
      "3            2.0           1.0      761.0          246.0           35.0   \n",
      "4           24.0           3.0    33668.0        10723.0         1790.0   \n",
      "\n",
      "   nas_delay  security_delay  late_aircraft_delay  \n",
      "0      102.0             0.0                 37.0  \n",
      "1       92.0             0.0                257.0  \n",
      "2      197.0             0.0                159.0  \n",
      "3      239.0             0.0                241.0  \n",
      "4     6851.0            15.0              14289.0  \n"
     ]
    }
   ],
   "source": [
    "print(f\"Shape of data: {df.shape[0]:,} rows, {df.shape[1]:,} columns\")\n",
    "print(f\"Columns in data: {df.columns.tolist()}\")\n",
    "print(f\"First 5 rows of data:\\n{df.head()}\")\n"
   ]
  },
  {
   "cell_type": "code",
   "execution_count": 10,
   "id": "bb8c70fb",
   "metadata": {},
   "outputs": [
    {
     "name": "stdout",
     "output_type": "stream",
     "text": [
      "Data types of columns:\n",
      "year                     int64\n",
      "month                    int64\n",
      "carrier                 object\n",
      "carrier_name            object\n",
      "airport                 object\n",
      "airport_name            object\n",
      "arr_flights            float64\n",
      "arr_del15              float64\n",
      "carrier_ct             float64\n",
      "weather_ct             float64\n",
      "nas_ct                 float64\n",
      "security_ct            float64\n",
      "late_aircraft_ct       float64\n",
      "arr_cancelled          float64\n",
      "arr_diverted           float64\n",
      "arr_delay              float64\n",
      "carrier_delay          float64\n",
      "weather_delay          float64\n",
      "nas_delay              float64\n",
      "security_delay         float64\n",
      "late_aircraft_delay    float64\n",
      "dtype: object\n",
      "--------------------------------\n",
      "Missing values in each column:\n",
      "                      Missing Count  Missing %\n",
      "year                             0       0.00\n",
      "month                            0       0.00\n",
      "carrier                          0       0.00\n",
      "carrier_name                     0       0.00\n",
      "airport                          0       0.00\n",
      "airport_name                     0       0.00\n",
      "arr_flights                    657       0.16\n",
      "arr_del15                      951       0.24\n",
      "carrier_ct                     657       0.16\n",
      "weather_ct                     657       0.16\n",
      "nas_ct                         657       0.16\n",
      "security_ct                    657       0.16\n",
      "late_aircraft_ct               657       0.16\n",
      "arr_cancelled                  657       0.16\n",
      "arr_diverted                   657       0.16\n",
      "arr_delay                      657       0.16\n",
      "carrier_delay                  657       0.16\n",
      "weather_delay                  657       0.16\n",
      "nas_delay                      657       0.16\n",
      "security_delay                 657       0.16\n",
      "late_aircraft_delay            657       0.16\n",
      "--------------------------------\n",
      "Summary statistics of numerical columns:\n",
      "                year          month    arr_flights      arr_del15  \\\n",
      "count  400118.000000  400118.000000  399461.000000  399167.000000   \n",
      "mean     2014.471181       6.502764     361.357727      69.552861   \n",
      "std         6.499727       3.468805     993.307701     193.465420   \n",
      "min      2003.000000       1.000000       1.000000       0.000000   \n",
      "25%      2009.000000       3.000000      55.000000       8.000000   \n",
      "50%      2015.000000       7.000000     113.000000      21.000000   \n",
      "75%      2020.000000      10.000000     254.000000      52.000000   \n",
      "max      2025.000000      12.000000   21977.000000    6377.000000   \n",
      "\n",
      "          carrier_ct     weather_ct         nas_ct    security_ct  \\\n",
      "count  399461.000000  399461.000000  399461.000000  399461.000000   \n",
      "mean       20.529071       2.508470      22.195918       0.172298   \n",
      "std        48.302099       9.566042      79.382261       0.824913   \n",
      "min         0.000000       0.000000      -0.010000       0.000000   \n",
      "25%         2.780000       0.000000       1.400000       0.000000   \n",
      "50%         7.500000       0.510000       4.910000       0.000000   \n",
      "75%        18.630000       2.000000      13.980000       0.000000   \n",
      "max      1886.580000     717.940000    4091.270000      80.560000   \n",
      "\n",
      "       late_aircraft_ct  arr_cancelled   arr_diverted      arr_delay  \\\n",
      "count     399461.000000  399461.000000  399461.000000  399461.000000   \n",
      "mean          24.095947       6.778667       0.833108    4168.764791   \n",
      "std           74.351714      35.028071       3.786252   12756.159221   \n",
      "min            0.000000       0.000000       0.000000       0.000000   \n",
      "25%            1.520000       0.000000       0.000000     405.000000   \n",
      "50%            5.490000       1.000000       0.000000    1140.000000   \n",
      "75%           16.140000       4.000000       1.000000    2974.000000   \n",
      "max         2588.130000    4951.000000     256.000000  648300.000000   \n",
      "\n",
      "       carrier_delay  weather_delay      nas_delay  security_delay  \\\n",
      "count  399461.000000  399461.000000  399461.000000   399461.000000   \n",
      "mean     1310.001404     223.720794    1025.811278        7.133262   \n",
      "std      3829.563198     884.316576    4330.445982       39.070721   \n",
      "min         0.000000       0.000000     -19.000000        0.000000   \n",
      "25%       134.000000       0.000000      49.000000        0.000000   \n",
      "50%       410.000000      22.000000     183.000000        0.000000   \n",
      "75%      1075.000000     156.000000     555.000000        0.000000   \n",
      "max    321792.000000   64550.000000  238440.000000     3760.000000   \n",
      "\n",
      "       late_aircraft_delay  \n",
      "count        399461.000000  \n",
      "mean           1602.090805  \n",
      "std            5154.067020  \n",
      "min               0.000000  \n",
      "25%              76.000000  \n",
      "50%             342.000000  \n",
      "75%            1089.000000  \n",
      "max          279153.000000  \n"
     ]
    }
   ],
   "source": [
    "print(f\"Data types of columns:\\n{df.dtypes}\")\n",
    "print(\"--------------------------------\")\n",
    "missing_counts = df.isnull().sum()\n",
    "missing_percent = (missing_counts / len(df)) * 100\n",
    "\n",
    "missing_df = pd.DataFrame({\n",
    "    'Missing Count': missing_counts,\n",
    "    'Missing %': missing_percent.round(2)\n",
    "})\n",
    "\n",
    "print(\"Missing values in each column:\\n\", missing_df)\n",
    "\n",
    "print(\"--------------------------------\")\n",
    "print(f\"Summary statistics of numerical columns:\\n{df.describe()}\")"
   ]
  },
  {
   "cell_type": "markdown",
   "id": "d7f9dbb8",
   "metadata": {},
   "source": [
    "##### Insights so far\n",
    "\n",
    "🧭 Understanding `*_ct` and `*_delay` Columns\n",
    "\n",
    "🔹 `*_ct` Columns (e.g., `carrier_ct`, `weather_ct`)\n",
    "\n",
    "* Despite the name, these are **not raw integer counts** of delays.\n",
    "* They contain **decimal values**, indicating they are likely:\n",
    "\n",
    "  * **Weighted averages** (e.g., delays per flight or per day)\n",
    "  * **Proportional allocations** of delay causes\n",
    "* These fields are typically found in **aggregated FAA datasets** where counts are normalized.\n",
    "* **Important**: We **cannot** sum the `*_ct` values expecting to get total delayed flights (`arr_del15`).\n",
    "\n",
    "🔹 `*_delay` Columns (e.g., `carrier_delay`, `weather_delay`)\n",
    "\n",
    "* These represent **delay durations in minutes**.\n",
    "* In principle, their **sum should match** `arr_delay`:\n",
    "\n",
    "  ```\n",
    "  arr_delay ≈ carrier_delay + weather_delay + nas_delay + security_delay + late_aircraft_delay\n",
    "  ```\n",
    "* In practice, small mismatches may exist due to:\n",
    "\n",
    "  * Rounding\n",
    "  * Missing values\n",
    "  * Unattributed or jointly caused delays\n",
    "\n",
    "---\n",
    "\n",
    "👉 **In the next code section, we will check if the delay components add up to `arr_delay` and explore any mismatches.**\n"
   ]
  },
  {
   "cell_type": "code",
   "execution_count": 16,
   "id": "5488b959",
   "metadata": {},
   "outputs": [
    {
     "name": "stdout",
     "output_type": "stream",
     "text": [
      "Total valid rows (non-null arr_delay): 399461\n",
      "Rows where delay components do NOT sum to arr_delay: 9 (0.00%)\n",
      "\n",
      "Sample mismatches:\n",
      "       arr_delay  delay_components  difference\n",
      "13845    39334.0           39154.0       180.0\n",
      "13848    12812.0           12686.0       126.0\n",
      "25479     2773.0            1428.0      1345.0\n",
      "28886     6934.0            6880.0        54.0\n",
      "31638     3006.0            2775.0       231.0\n"
     ]
    }
   ],
   "source": [
    "# Step 1: Safely compute delay component sum by treating NaNs as 0\n",
    "delay_components = (\n",
    "    df['carrier_delay'].fillna(0) +\n",
    "    df['weather_delay'].fillna(0) +\n",
    "    df['nas_delay'].fillna(0) +\n",
    "    df['security_delay'].fillna(0) +\n",
    "    df['late_aircraft_delay'].fillna(0)\n",
    ")\n",
    "\n",
    "# Step 2: Compute difference from arr_delay (only where arr_delay is not null)\n",
    "valid_mask = df['arr_delay'].notna()\n",
    "delay_difference = df.loc[valid_mask, 'arr_delay'] - delay_components[valid_mask]\n",
    "\n",
    "# Step 3: Identify rows where the difference is significant (e.g., > 1 minute)\n",
    "mismatched_rows = df.loc[valid_mask].loc[delay_difference.abs() > 1]\n",
    "\n",
    "# Step 4: Summary\n",
    "print(f\"Total valid rows (non-null arr_delay): {valid_mask.sum()}\")\n",
    "print(f\"Rows where delay components do NOT sum to arr_delay: {len(mismatched_rows)} ({(len(mismatched_rows) / len(df)) * 100:.2f}%)\")\n",
    "\n",
    "print(\"\\nSample mismatches:\")\n",
    "print(\n",
    "    mismatched_rows[['arr_delay']].assign(\n",
    "        delay_components=delay_components[valid_mask],\n",
    "        difference=delay_difference\n",
    "    ).head()\n",
    ")\n",
    "\n",
    "\n"
   ]
  },
  {
   "cell_type": "markdown",
   "id": "700b3ec3",
   "metadata": {},
   "source": [
    "Out of 399,461 valid records (i.e., rows where `arr_delay` is not null), only 9 rows—or less than 0.01%—have a mismatch between the sum of individual delay components (`carrier_delay`, `weather_delay`, `nas_delay`, `security_delay`, `late_aircraft_delay`) and the reported `arr_delay`. This confirms that the delay decomposition is highly reliable across the dataset. The mismatches are relatively small in scale, with the largest observed difference being 1,345 minutes. These discrepancies could be due to rounding, reporting errors, or rare cases of unclassified delays. Overall, the dataset's delay attribution can be considered consistent and trustworthy for modeling.\n"
   ]
  },
  {
   "cell_type": "code",
   "execution_count": null,
   "id": "768ac6b5",
   "metadata": {},
   "outputs": [],
   "source": []
  }
 ],
 "metadata": {
  "kernelspec": {
   "display_name": "apan_ad",
   "language": "python",
   "name": "python3"
  },
  "language_info": {
   "codemirror_mode": {
    "name": "ipython",
    "version": 3
   },
   "file_extension": ".py",
   "mimetype": "text/x-python",
   "name": "python",
   "nbconvert_exporter": "python",
   "pygments_lexer": "ipython3",
   "version": "3.12.9"
  }
 },
 "nbformat": 4,
 "nbformat_minor": 5
}
