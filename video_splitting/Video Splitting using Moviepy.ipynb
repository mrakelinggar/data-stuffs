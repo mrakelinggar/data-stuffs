{
 "cells": [
  {
   "cell_type": "markdown",
   "metadata": {},
   "source": [
    "### Install Package"
   ]
  },
  {
   "cell_type": "markdown",
   "metadata": {},
   "source": [
    "conda install -c conda-forge moviepy"
   ]
  },
  {
   "cell_type": "markdown",
   "metadata": {},
   "source": [
    "### Use ffmpeg_extract_subclip"
   ]
  },
  {
   "cell_type": "code",
   "execution_count": 1,
   "metadata": {},
   "outputs": [
    {
     "name": "stdout",
     "output_type": "stream",
     "text": [
      "2023-10-21 15:07:26\tVideo duration (s):1451.79\n",
      "Moviepy - Running:\n",
      ">>> \"+ \" \".join(cmd)\n",
      "Moviepy - Command successful\n",
      "2023-10-21 15:07:46\t[DONE] Clip from 0 until 876\n",
      "Moviepy - Running:\n",
      ">>> \"+ \" \".join(cmd)\n",
      "Moviepy - Command successful\n",
      "2023-10-21 15:08:14\t[DONE] Clip from 876 until 1422\n",
      "Moviepy - Running:\n",
      ">>> \"+ \" \".join(cmd)\n",
      "Moviepy - Command successful\n",
      "2023-10-21 15:08:17\t[DONE] Clip from 1422 until 1451.79\n"
     ]
    }
   ],
   "source": [
    "from moviepy.editor import VideoFileClip\n",
    "from moviepy.video.io.ffmpeg_tools import ffmpeg_extract_subclip\n",
    "from datetime import datetime\n",
    "\n",
    "def hms_second(hms):\n",
    "  return int(hms.split(\":\")[0])*3600+int(hms.split(\":\")[1])*60+int(hms.split(\":\")[2])\n",
    "\n",
    "def get_time():\n",
    "  return datetime.now().strftime(\"%Y-%m-%d %H:%M:%S\")\n",
    "\n",
    "# Replace the filename below.\n",
    "video_dir = \"D:/Videos/LosslessCut/\"\n",
    "video_file = video_dir + \"Marvel's Spider-Man 2_20231020120405-00.00.00.000-00.24.11.784.mp4\"\n",
    "\n",
    "#Check total duration\n",
    "video = VideoFileClip(video_file)\n",
    "duration = video.duration\n",
    "print(f\"{get_time()}\\tVideo duration (s):{duration}\")\n",
    "\n",
    "with open(\"times.txt\") as f:\n",
    "  times = f.readlines()\n",
    "\n",
    "times = [x.strip() for x in times] \n",
    "\n",
    "starttime = 0 #start time in seconds\n",
    "for idx, time in enumerate(times):\n",
    "  assert(time.count(\":\") == 2)\n",
    "  assert(len(time)==8)\n",
    "\n",
    "  if idx == 0:\n",
    "    endtime = hms_second(time)\n",
    "  else:\n",
    "    starttime = endtime\n",
    "    endtime = hms_second(time)\n",
    "  ffmpeg_extract_subclip(video_file, \n",
    "                         starttime, \n",
    "                         endtime, \n",
    "                         targetname=video_file.replace(\"20231020120405-00.00.00.000-00.24.11.784.mp4\", \"\")+\"-part\"+str(idx+1)+\".mp4\")\n",
    "  print(f\"{get_time()}\\t[DONE] Clip from {starttime} until {endtime}\")\n",
    "\n",
    "#the last piece\n",
    "if endtime < duration:\n",
    "  ffmpeg_extract_subclip(video_file, \n",
    "                         endtime, \n",
    "                         duration, \n",
    "                         targetname=video_file.replace(\"20231020120405-00.00.00.000-00.24.11.784.mp4\", \"\")+\"-part\"+str(idx+2)+\".mp4\")\n",
    "print(f\"{get_time()}\\t[DONE] Clip from {endtime} until {duration}\")"
   ]
  },
  {
   "cell_type": "markdown",
   "metadata": {},
   "source": [
    "### Use write_videofile from VideoFileClip"
   ]
  },
  {
   "cell_type": "code",
   "execution_count": 2,
   "metadata": {},
   "outputs": [
    {
     "name": "stdout",
     "output_type": "stream",
     "text": [
      "Video duration (s):1451.79\n"
     ]
    },
    {
     "ename": "KeyboardInterrupt",
     "evalue": "",
     "output_type": "error",
     "traceback": [
      "\u001b[1;31m---------------------------------------------------------------------------\u001b[0m",
      "\u001b[1;31mKeyboardInterrupt\u001b[0m                         Traceback (most recent call last)",
      "Cell \u001b[1;32mIn[2], line 27\u001b[0m\n\u001b[0;32m     24\u001b[0m   endtime \u001b[39m=\u001b[39m hms_second(time)\n\u001b[0;32m     26\u001b[0m clip \u001b[39m=\u001b[39m video\u001b[39m.\u001b[39msubclip(starttime, endtime)\n\u001b[1;32m---> 27\u001b[0m clip\u001b[39m.\u001b[39mwrite_videofile(\n\u001b[0;32m     28\u001b[0m   video_file\u001b[39m.\u001b[39mreplace(\u001b[39m\"\u001b[39m\u001b[39m20231020120405-00.00.00.000-00.24.11.784.mp4\u001b[39m\u001b[39m\"\u001b[39m, \u001b[39m\"\u001b[39m\u001b[39m\"\u001b[39m)\u001b[39m+\u001b[39m\u001b[39m\"\u001b[39m\u001b[39m-part-v2-\u001b[39m\u001b[39m\"\u001b[39m\u001b[39m+\u001b[39m\u001b[39mstr\u001b[39m(idx\u001b[39m+\u001b[39m\u001b[39m1\u001b[39m)\u001b[39m+\u001b[39m\u001b[39m\"\u001b[39m\u001b[39m.mp4\u001b[39m\u001b[39m\"\u001b[39m, \n\u001b[0;32m     29\u001b[0m   threads\u001b[39m=\u001b[39m\u001b[39m8\u001b[39m,\n\u001b[0;32m     30\u001b[0m   verbose\u001b[39m=\u001b[39m\u001b[39mFalse\u001b[39;00m,\n\u001b[0;32m     31\u001b[0m   logger\u001b[39m=\u001b[39m\u001b[39mNone\u001b[39;00m)\n\u001b[0;32m     32\u001b[0m \u001b[39mprint\u001b[39m(\u001b[39mf\u001b[39m\u001b[39m\"\u001b[39m\u001b[39m{\u001b[39;00mget_time()\u001b[39m}\u001b[39;00m\u001b[39m\\t\u001b[39;00m\u001b[39m[DONE] Clip from \u001b[39m\u001b[39m{\u001b[39;00mstarttime\u001b[39m}\u001b[39;00m\u001b[39m until \u001b[39m\u001b[39m{\u001b[39;00mendtime\u001b[39m}\u001b[39;00m\u001b[39m\"\u001b[39m)\n\u001b[0;32m     33\u001b[0m \u001b[39mbreak\u001b[39;00m\n",
      "File \u001b[1;32mc:\\Users\\User\\miniconda3\\Lib\\site-packages\\decorator.py:232\u001b[0m, in \u001b[0;36mdecorate.<locals>.fun\u001b[1;34m(*args, **kw)\u001b[0m\n\u001b[0;32m    230\u001b[0m \u001b[39mif\u001b[39;00m \u001b[39mnot\u001b[39;00m kwsyntax:\n\u001b[0;32m    231\u001b[0m     args, kw \u001b[39m=\u001b[39m fix(args, kw, sig)\n\u001b[1;32m--> 232\u001b[0m \u001b[39mreturn\u001b[39;00m caller(func, \u001b[39m*\u001b[39m(extras \u001b[39m+\u001b[39m args), \u001b[39m*\u001b[39m\u001b[39m*\u001b[39mkw)\n",
      "File \u001b[1;32mc:\\Users\\User\\miniconda3\\Lib\\site-packages\\moviepy\\decorators.py:54\u001b[0m, in \u001b[0;36mrequires_duration\u001b[1;34m(f, clip, *a, **k)\u001b[0m\n\u001b[0;32m     52\u001b[0m     \u001b[39mraise\u001b[39;00m \u001b[39mValueError\u001b[39;00m(\u001b[39m\"\u001b[39m\u001b[39mAttribute \u001b[39m\u001b[39m'\u001b[39m\u001b[39mduration\u001b[39m\u001b[39m'\u001b[39m\u001b[39m not set\u001b[39m\u001b[39m\"\u001b[39m)\n\u001b[0;32m     53\u001b[0m \u001b[39melse\u001b[39;00m:\n\u001b[1;32m---> 54\u001b[0m     \u001b[39mreturn\u001b[39;00m f(clip, \u001b[39m*\u001b[39ma, \u001b[39m*\u001b[39m\u001b[39m*\u001b[39mk)\n",
      "File \u001b[1;32mc:\\Users\\User\\miniconda3\\Lib\\site-packages\\decorator.py:232\u001b[0m, in \u001b[0;36mdecorate.<locals>.fun\u001b[1;34m(*args, **kw)\u001b[0m\n\u001b[0;32m    230\u001b[0m \u001b[39mif\u001b[39;00m \u001b[39mnot\u001b[39;00m kwsyntax:\n\u001b[0;32m    231\u001b[0m     args, kw \u001b[39m=\u001b[39m fix(args, kw, sig)\n\u001b[1;32m--> 232\u001b[0m \u001b[39mreturn\u001b[39;00m caller(func, \u001b[39m*\u001b[39m(extras \u001b[39m+\u001b[39m args), \u001b[39m*\u001b[39m\u001b[39m*\u001b[39mkw)\n",
      "File \u001b[1;32mc:\\Users\\User\\miniconda3\\Lib\\site-packages\\moviepy\\decorators.py:125\u001b[0m, in \u001b[0;36muse_clip_fps_by_default\u001b[1;34m(f, clip, *a, **k)\u001b[0m\n\u001b[0;32m    120\u001b[0m new_a \u001b[39m=\u001b[39m [fun(arg) \u001b[39mif\u001b[39;00m (name\u001b[39m==\u001b[39m\u001b[39m'\u001b[39m\u001b[39mfps\u001b[39m\u001b[39m'\u001b[39m) \u001b[39melse\u001b[39;00m arg\n\u001b[0;32m    121\u001b[0m          \u001b[39mfor\u001b[39;00m (arg, name) \u001b[39min\u001b[39;00m \u001b[39mzip\u001b[39m(a, names)]\n\u001b[0;32m    122\u001b[0m new_kw \u001b[39m=\u001b[39m {k: fun(v) \u001b[39mif\u001b[39;00m k\u001b[39m==\u001b[39m\u001b[39m'\u001b[39m\u001b[39mfps\u001b[39m\u001b[39m'\u001b[39m \u001b[39melse\u001b[39;00m v\n\u001b[0;32m    123\u001b[0m          \u001b[39mfor\u001b[39;00m (k,v) \u001b[39min\u001b[39;00m k\u001b[39m.\u001b[39mitems()}\n\u001b[1;32m--> 125\u001b[0m \u001b[39mreturn\u001b[39;00m f(clip, \u001b[39m*\u001b[39mnew_a, \u001b[39m*\u001b[39m\u001b[39m*\u001b[39mnew_kw)\n",
      "File \u001b[1;32mc:\\Users\\User\\miniconda3\\Lib\\site-packages\\decorator.py:232\u001b[0m, in \u001b[0;36mdecorate.<locals>.fun\u001b[1;34m(*args, **kw)\u001b[0m\n\u001b[0;32m    230\u001b[0m \u001b[39mif\u001b[39;00m \u001b[39mnot\u001b[39;00m kwsyntax:\n\u001b[0;32m    231\u001b[0m     args, kw \u001b[39m=\u001b[39m fix(args, kw, sig)\n\u001b[1;32m--> 232\u001b[0m \u001b[39mreturn\u001b[39;00m caller(func, \u001b[39m*\u001b[39m(extras \u001b[39m+\u001b[39m args), \u001b[39m*\u001b[39m\u001b[39m*\u001b[39mkw)\n",
      "File \u001b[1;32mc:\\Users\\User\\miniconda3\\Lib\\site-packages\\moviepy\\decorators.py:22\u001b[0m, in \u001b[0;36mconvert_masks_to_RGB\u001b[1;34m(f, clip, *a, **k)\u001b[0m\n\u001b[0;32m     20\u001b[0m \u001b[39mif\u001b[39;00m clip\u001b[39m.\u001b[39mismask:\n\u001b[0;32m     21\u001b[0m     clip \u001b[39m=\u001b[39m clip\u001b[39m.\u001b[39mto_RGB()\n\u001b[1;32m---> 22\u001b[0m \u001b[39mreturn\u001b[39;00m f(clip, \u001b[39m*\u001b[39ma, \u001b[39m*\u001b[39m\u001b[39m*\u001b[39mk)\n",
      "File \u001b[1;32mc:\\Users\\User\\miniconda3\\Lib\\site-packages\\moviepy\\video\\VideoClip.py:300\u001b[0m, in \u001b[0;36mVideoClip.write_videofile\u001b[1;34m(self, filename, fps, codec, bitrate, audio, audio_fps, preset, audio_nbytes, audio_codec, audio_bitrate, audio_bufsize, temp_audiofile, rewrite_audio, remove_temp, write_logfile, verbose, threads, ffmpeg_params, logger)\u001b[0m\n\u001b[0;32m    292\u001b[0m \u001b[39mif\u001b[39;00m make_audio:\n\u001b[0;32m    293\u001b[0m     \u001b[39mself\u001b[39m\u001b[39m.\u001b[39maudio\u001b[39m.\u001b[39mwrite_audiofile(audiofile, audio_fps,\n\u001b[0;32m    294\u001b[0m                                audio_nbytes, audio_bufsize,\n\u001b[0;32m    295\u001b[0m                                audio_codec, bitrate\u001b[39m=\u001b[39maudio_bitrate,\n\u001b[0;32m    296\u001b[0m                                write_logfile\u001b[39m=\u001b[39mwrite_logfile,\n\u001b[0;32m    297\u001b[0m                                verbose\u001b[39m=\u001b[39mverbose,\n\u001b[0;32m    298\u001b[0m                                logger\u001b[39m=\u001b[39mlogger)\n\u001b[1;32m--> 300\u001b[0m ffmpeg_write_video(\u001b[39mself\u001b[39m, filename, fps, codec,\n\u001b[0;32m    301\u001b[0m                    bitrate\u001b[39m=\u001b[39mbitrate,\n\u001b[0;32m    302\u001b[0m                    preset\u001b[39m=\u001b[39mpreset,\n\u001b[0;32m    303\u001b[0m                    write_logfile\u001b[39m=\u001b[39mwrite_logfile,\n\u001b[0;32m    304\u001b[0m                    audiofile\u001b[39m=\u001b[39maudiofile,\n\u001b[0;32m    305\u001b[0m                    verbose\u001b[39m=\u001b[39mverbose, threads\u001b[39m=\u001b[39mthreads,\n\u001b[0;32m    306\u001b[0m                    ffmpeg_params\u001b[39m=\u001b[39mffmpeg_params,\n\u001b[0;32m    307\u001b[0m                    logger\u001b[39m=\u001b[39mlogger)\n\u001b[0;32m    309\u001b[0m \u001b[39mif\u001b[39;00m remove_temp \u001b[39mand\u001b[39;00m make_audio:\n\u001b[0;32m    310\u001b[0m     \u001b[39mif\u001b[39;00m os\u001b[39m.\u001b[39mpath\u001b[39m.\u001b[39mexists(audiofile):\n",
      "File \u001b[1;32mc:\\Users\\User\\miniconda3\\Lib\\site-packages\\moviepy\\video\\io\\ffmpeg_writer.py:228\u001b[0m, in \u001b[0;36mffmpeg_write_video\u001b[1;34m(clip, filename, fps, codec, bitrate, preset, withmask, write_logfile, audiofile, verbose, threads, ffmpeg_params, logger)\u001b[0m\n\u001b[0;32m    225\u001b[0m                 mask \u001b[39m=\u001b[39m mask\u001b[39m.\u001b[39mastype(\u001b[39m\"\u001b[39m\u001b[39muint8\u001b[39m\u001b[39m\"\u001b[39m)\n\u001b[0;32m    226\u001b[0m             frame \u001b[39m=\u001b[39m np\u001b[39m.\u001b[39mdstack([frame,mask])\n\u001b[1;32m--> 228\u001b[0m         writer\u001b[39m.\u001b[39mwrite_frame(frame)\n\u001b[0;32m    230\u001b[0m \u001b[39mif\u001b[39;00m write_logfile:\n\u001b[0;32m    231\u001b[0m     logfile\u001b[39m.\u001b[39mclose()\n",
      "File \u001b[1;32mc:\\Users\\User\\miniconda3\\Lib\\site-packages\\moviepy\\video\\io\\ffmpeg_writer.py:136\u001b[0m, in \u001b[0;36mFFMPEG_VideoWriter.write_frame\u001b[1;34m(self, img_array)\u001b[0m\n\u001b[0;32m    134\u001b[0m \u001b[39mtry\u001b[39;00m:\n\u001b[0;32m    135\u001b[0m     \u001b[39mif\u001b[39;00m PY3:\n\u001b[1;32m--> 136\u001b[0m        \u001b[39mself\u001b[39m\u001b[39m.\u001b[39mproc\u001b[39m.\u001b[39mstdin\u001b[39m.\u001b[39mwrite(img_array\u001b[39m.\u001b[39mtobytes())\n\u001b[0;32m    137\u001b[0m     \u001b[39melse\u001b[39;00m:\n\u001b[0;32m    138\u001b[0m        \u001b[39mself\u001b[39m\u001b[39m.\u001b[39mproc\u001b[39m.\u001b[39mstdin\u001b[39m.\u001b[39mwrite(img_array\u001b[39m.\u001b[39mtostring())\n",
      "\u001b[1;31mKeyboardInterrupt\u001b[0m: "
     ]
    }
   ],
   "source": [
    "# Replace the filename below.\n",
    "video_dir = \"D:/Videos/LosslessCut/\"\n",
    "video_file = video_dir + \"Marvel's Spider-Man 2_20231020120405-00.00.00.000-00.24.11.784.mp4\"\n",
    "\n",
    "#Check total duration\n",
    "video = VideoFileClip(video_file)\n",
    "duration = video.duration\n",
    "print(f\"Video duration (s):{duration}\")\n",
    "\n",
    "with open(\"times.txt\") as f:\n",
    "  times = f.readlines()\n",
    "\n",
    "times = [x.strip() for x in times] \n",
    "\n",
    "starttime = 0 #start time in seconds\n",
    "for idx, time in enumerate(times):\n",
    "  assert(time.count(\":\") == 2)\n",
    "  assert(len(time)==8)\n",
    "\n",
    "  if idx == 0:\n",
    "    endtime = hms_second(time)\n",
    "  else:\n",
    "    starttime = endtime\n",
    "    endtime = hms_second(time)\n",
    "  \n",
    "  # ! Taking too long, DO NOT use this method\n",
    "  clip = video.subclip(starttime, endtime)\n",
    "  clip.write_videofile(\n",
    "    video_file.replace(\"20231020120405-00.00.00.000-00.24.11.784.mp4\", \"\")+\"-part-v2-\"+str(idx+1)+\".mp4\", \n",
    "    threads=8,\n",
    "    verbose=False,\n",
    "    logger=None)\n",
    "  print(f\"{get_time()}\\t[DONE] Clip from {starttime} until {endtime}\")\n",
    "  break # too long, make just one split\n",
    "\n",
    "## the last piece\n",
    "# if endtime < duration:\n",
    "#   clip.write_videofile(video_file.replace(\"20231020120405-00.00.00.000-00.24.11.784.mp4\", \"\")+\"-part-v2-\"+str(idx+2)+\".mp4\", verbose=False)\n",
    "#   print(f\"{get_time()}\\t[DONE] Clip from {endtime} until {duration}\")"
   ]
  }
 ],
 "metadata": {
  "kernelspec": {
   "display_name": "base",
   "language": "python",
   "name": "python3"
  },
  "language_info": {
   "codemirror_mode": {
    "name": "ipython",
    "version": 3
   },
   "file_extension": ".py",
   "mimetype": "text/x-python",
   "name": "python",
   "nbconvert_exporter": "python",
   "pygments_lexer": "ipython3",
   "version": "3.11.4"
  },
  "orig_nbformat": 4
 },
 "nbformat": 4,
 "nbformat_minor": 2
}
